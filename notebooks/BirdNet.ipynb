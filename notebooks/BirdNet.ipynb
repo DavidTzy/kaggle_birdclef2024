{
 "cells": [
  {
   "cell_type": "markdown",
   "metadata": {},
   "source": [
    "**About** : This notebook is used to infer models."
   ]
  },
  {
   "cell_type": "code",
   "execution_count": null,
   "metadata": {},
   "outputs": [],
   "source": [
    "%load_ext autoreload\n",
    "%autoreload 2"
   ]
  },
  {
   "cell_type": "code",
   "execution_count": null,
   "metadata": {},
   "outputs": [],
   "source": [
    "cd ../src/"
   ]
  },
  {
   "cell_type": "markdown",
   "metadata": {},
   "source": [
    "### Imports"
   ]
  },
  {
   "cell_type": "code",
   "execution_count": null,
   "metadata": {},
   "outputs": [],
   "source": [
    "import os\n",
    "import gc\n",
    "import sys\n",
    "import cv2\n",
    "import glob\n",
    "import json\n",
    "import torch\n",
    "import shutil\n",
    "import joblib\n",
    "import librosa\n",
    "import warnings\n",
    "import numpy as np\n",
    "import pandas as pd\n",
    "import seaborn as sns\n",
    "import torch.nn.functional as F\n",
    "import matplotlib.pyplot as plt\n",
    "\n",
    "from tqdm.notebook import tqdm\n",
    "from scipy.special import expit\n",
    "from joblib import Parallel, delayed\n",
    "\n",
    "warnings.simplefilter(action=\"ignore\", category=UserWarning)"
   ]
  },
  {
   "cell_type": "code",
   "execution_count": null,
   "metadata": {},
   "outputs": [],
   "source": [
    "from util.logger import Config\n",
    "from util.metrics import macro_auc\n",
    "from util.torch import load_model_weights\n",
    "\n",
    "from data.preparation import prepare_data, prepare_folds\n",
    "from model_zoo.models import define_model\n",
    "from inference.predict import infer_onnx, load_sample, infer_sample\n",
    "from params import CLASSES"
   ]
  },
  {
   "cell_type": "markdown",
   "metadata": {},
   "source": [
    "### Params"
   ]
  },
  {
   "cell_type": "code",
   "execution_count": null,
   "metadata": {},
   "outputs": [],
   "source": [
    "EVAL = False"
   ]
  },
  {
   "cell_type": "code",
   "execution_count": null,
   "metadata": {},
   "outputs": [],
   "source": [
    "if EVAL:\n",
    "    DATA_PATH = \"../input/train_audio/\"\n",
    "else:\n",
    "    DATA_PATH = \"../input/unlabeled_soundscapes/\""
   ]
  },
  {
   "cell_type": "code",
   "execution_count": null,
   "metadata": {},
   "outputs": [],
   "source": [
    "BATCH_SIZE = 48\n",
    "USE_FP16 = True\n",
    "NUM_WORKERS = 4\n",
    "\n",
    "DEVICE = \"cuda\"\n",
    "\n",
    "DURATION = 5\n",
    "SR = 32000"
   ]
  },
  {
   "cell_type": "markdown",
   "metadata": {},
   "source": [
    "### Preprocessing"
   ]
  },
  {
   "cell_type": "code",
   "execution_count": null,
   "metadata": {},
   "outputs": [],
   "source": [
    "if EVAL:\n",
    "    df = pd.DataFrame({\"path\": glob.glob(DATA_PATH + \"*/*\")})\n",
    "    df[\"id\"] = df[\"path\"].apply(lambda x: x.split(\"/\")[-1][:-4])\n",
    "\n",
    "    folds = pd.read_csv('../input/folds_4.csv')\n",
    "    folds['id'] = folds['filename'].apply(lambda x: x.split('/')[-1][:-4])\n",
    "    df = df.merge(folds)\n",
    "    df = df[df['fold'] == 0].reset_index(drop=True)\n",
    "\n",
    "    df[\"primary_label\"] = df[\"path\"].apply(lambda x:  x.split('/')[-2])\n",
    "else:\n",
    "    df = pd.DataFrame({\"path\": glob.glob(DATA_PATH + \"*\")})\n",
    "    df[\"id\"] = df[\"path\"].apply(lambda x: x.split(\"/\")[-1][:-4])\n",
    "    \n",
    "    # df[\"duration\"] = df[\"path\"].apply(lambda x: librosa.get_duration(path=x))\n",
    "    # df = df[df[\"duration\"] != 240].reset_index(drop=True)"
   ]
  },
  {
   "cell_type": "markdown",
   "metadata": {},
   "source": [
    "### Models"
   ]
  },
  {
   "cell_type": "code",
   "execution_count": null,
   "metadata": {},
   "outputs": [],
   "source": [
    "cd ../../BirdNET-Analyzer/"
   ]
  },
  {
   "cell_type": "code",
   "execution_count": null,
   "metadata": {},
   "outputs": [],
   "source": [
    "DATA_PATH = \"../kaggle_birdclef_2024/input/\""
   ]
  },
  {
   "cell_type": "code",
   "execution_count": null,
   "metadata": {},
   "outputs": [],
   "source": [
    "mapping = pd.read_csv(DATA_PATH + \"eBird_Taxonomy_v2021.csv\")"
   ]
  },
  {
   "cell_type": "code",
   "execution_count": null,
   "metadata": {},
   "outputs": [],
   "source": [
    "import pickle\n",
    "\n",
    "with open(DATA_PATH + '../output/cpmp_preds_72/pl_all.pkl', \"rb\") as f:\n",
    "    preds_ = pickle.load(f)\n",
    "\n",
    "preds_cpmp = {}\n",
    "for k in preds_.keys():\n",
    "    preds_cpmp[k[:-4].split('/')[-1]] = np.mean(preds[k], 0)\n",
    "\n",
    "del preds_\n",
    "gc.collect()"
   ]
  },
  {
   "cell_type": "code",
   "execution_count": null,
   "metadata": {},
   "outputs": [],
   "source": [
    "from birdnetlib import Recording\n",
    "from birdnetlib.analyzer import Analyzer\n",
    "from datetime import datetime\n",
    "import skimage\n",
    "import re\n",
    "\n",
    "# Load and initialize the BirdNET-Analyzer models.\n",
    "analyzer = Analyzer()"
   ]
  },
  {
   "cell_type": "code",
   "execution_count": null,
   "metadata": {},
   "outputs": [],
   "source": [
    "DATA_PATH"
   ]
  },
  {
   "cell_type": "code",
   "execution_count": null,
   "metadata": {},
   "outputs": [],
   "source": [
    "# !python analyze.py --i /home/tviel/work/kaggle_birdclef_2024/input/unlabeled_soundscapes/ --o /home/tviel/work/kaggle_birdclef_2024/output/birdnet  --threads 32 --batchsize 64 --min_conf 0.01 --rtype csv --skip_existing_results"
   ]
  },
  {
   "cell_type": "code",
   "execution_count": null,
   "metadata": {},
   "outputs": [],
   "source": [
    "def infer_sample(path, analyzer=None, out_path=None):\n",
    "    if out_path is None:\n",
    "        recording = Recording(\n",
    "            analyzer,\n",
    "            path,\n",
    "            min_conf=0.01,\n",
    "        )\n",
    "        recording.analyze()\n",
    "        dets = recording.detections\n",
    "    else:\n",
    "        dets = pd.read_csv(out_path)\n",
    "        dets.columns = ['start_time', 'end_time', 'scientific_name', 'common_name', 'confidence']\n",
    "        dets = dets.to_dict(orient=\"index\").values()\n",
    "\n",
    "    d = librosa.get_duration(path=path)\n",
    "    preds = np.zeros((int(np.ceil(d / 3)), 182))\n",
    "\n",
    "    for r in dets:\n",
    "        # print(r)\n",
    "\n",
    "        m = mapping[mapping[\"PRIMARY_COM_NAME\"] == r[\"common_name\"]]\n",
    "        m = mapping[mapping[\"SCI_NAME\"] == r[\"scientific_name\"]]\n",
    "        try:\n",
    "            code = m[\"SPECIES_CODE\"].values[0]\n",
    "        except:\n",
    "            # m = mapping[mapping[\"SCI_NAME\"] == r[\"scientific_name\"]]\n",
    "            # try:\n",
    "            #     code = m[\"SPECIES_CODE\"].values[0]\n",
    "            # except:\n",
    "            continue\n",
    "\n",
    "        if code in CLASSES:\n",
    "            start = int(r[\"start_time\"] // 3)\n",
    "            end = int(r[\"end_time\"] // 3 + 1)\n",
    "\n",
    "            preds[start: end, CLASSES.index(code)] = max(r[\"confidence\"], preds[start: end, CLASSES.index(code)].max())\n",
    "        # break    \n",
    "\n",
    "    preds = skimage.transform.resize(preds[None], (1, np.ceil(d / 5)))[0]\n",
    "    return preds"
   ]
  },
  {
   "cell_type": "code",
   "execution_count": null,
   "metadata": {},
   "outputs": [],
   "source": [
    "all_preds = joblib.Parallel(n_jobs=os.cpu_count())(\n",
    "    joblib.delayed(infer_sample)(\n",
    "        DATA_PATH + df[\"path\"][idx],\n",
    "        None,\n",
    "        \"/home/tviel/work/kaggle_birdclef_2024/output/birdnet/\" + df[\"id\"][idx] + '.BirdNET.results.csv'\n",
    "    )\n",
    "    for idx in tqdm(range(len(df)))\n",
    ")\n"
   ]
  },
  {
   "cell_type": "code",
   "execution_count": null,
   "metadata": {},
   "outputs": [],
   "source": [
    "all_preds = dict(zip(df[\"id\"].values, all_preds))"
   ]
  },
  {
   "cell_type": "code",
   "execution_count": null,
   "metadata": {},
   "outputs": [],
   "source": [
    "with open('/home/tviel/work/kaggle_birdclef_2024/output/birdnet_preds.pkl', 'wb') as f:\n",
    "    pickle.dump(all_preds, f, protocol=pickle.HIGHEST_PROTOCOL)"
   ]
  },
  {
   "cell_type": "code",
   "execution_count": null,
   "metadata": {},
   "outputs": [],
   "source": [
    "df.id.values[:10]"
   ]
  },
  {
   "cell_type": "code",
   "execution_count": null,
   "metadata": {},
   "outputs": [],
   "source": [
    "for idx in range(10):\n",
    "    # preds = infer_sample(\n",
    "    #     DATA_PATH + df.path[idx],\n",
    "    #     analyzer,\n",
    "    # )\n",
    "\n",
    "    # preds = infer_sample(\n",
    "    #     DATA_PATH + df[\"path\"][idx],\n",
    "    #     None,\n",
    "    #     \"/home/tviel/work/kaggle_birdclef_2024/output/birdnet/\" + df[\"id\"][idx] + '.BirdNET.results.csv'\n",
    "    # )\n",
    "\n",
    "    p = preds_cpmp[df.id[idx]]\n",
    "    preds = all_preds[df.id[idx]]\n",
    "\n",
    "    plt.figure(figsize=(15, 6))\n",
    "    for i, c in enumerate(CLASSES):\n",
    "        if p[:, i].max() > th or preds[:, i].max() > th:\n",
    "            plt.subplot(1, 2, 1)\n",
    "            plt.plot(p[:, i], label=c)\n",
    "            plt.ylim(0, 1)\n",
    "            plt.title(f'CPMP')\n",
    "\n",
    "            plt.subplot(1, 2, 2)\n",
    "            plt.plot(preds[:, i], label=c)\n",
    "            plt.ylim(0, 1)\n",
    "            plt.title(f'BirdNet')\n",
    "\n",
    "    plt.legend()\n",
    "    plt.show()\n",
    "\n",
    "    break"
   ]
  },
  {
   "cell_type": "markdown",
   "metadata": {},
   "source": [
    "Done !"
   ]
  }
 ],
 "metadata": {
  "kernelspec": {
   "display_name": "Python 3 (ipykernel)",
   "language": "python",
   "name": "python3"
  },
  "language_info": {
   "codemirror_mode": {
    "name": "ipython",
    "version": 3
   },
   "file_extension": ".py",
   "mimetype": "text/x-python",
   "name": "python",
   "nbconvert_exporter": "python",
   "pygments_lexer": "ipython3",
   "version": "3.10.12"
  },
  "vscode": {
   "interpreter": {
    "hash": "f7241b2af102f7e024509099765066b36197b195077f7bfac6e5bc041ba17c8c"
   }
  }
 },
 "nbformat": 4,
 "nbformat_minor": 4
}
