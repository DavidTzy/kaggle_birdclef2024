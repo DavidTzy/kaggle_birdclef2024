{
 "cells": [
  {
   "cell_type": "markdown",
   "metadata": {},
   "source": [
    "**About** : This notebook is used to prepare the data."
   ]
  },
  {
   "cell_type": "code",
   "execution_count": null,
   "metadata": {},
   "outputs": [],
   "source": [
    "%load_ext autoreload\n",
    "%autoreload 2"
   ]
  },
  {
   "cell_type": "code",
   "execution_count": null,
   "metadata": {},
   "outputs": [],
   "source": [
    "cd ../src/"
   ]
  },
  {
   "cell_type": "markdown",
   "metadata": {},
   "source": [
    "### Imports"
   ]
  },
  {
   "cell_type": "code",
   "execution_count": null,
   "metadata": {},
   "outputs": [],
   "source": [
    "import os\n",
    "import sys\n",
    "import glob\n",
    "import json\n",
    "import h5py\n",
    "import librosa\n",
    "import warnings\n",
    "import numpy as np\n",
    "import pandas as pd\n",
    "import seaborn as sns\n",
    "import matplotlib.pyplot as plt\n",
    "\n",
    "from tqdm import tqdm\n",
    "from copy import deepcopy\n",
    "from joblib import delayed\n",
    "from sklearn.metrics import *\n",
    "\n",
    "warnings.simplefilter(action=\"ignore\", category=UserWarning)\n",
    "pd.set_option('display.width', 500)\n",
    "pd.set_option('max_colwidth', 100)"
   ]
  },
  {
   "cell_type": "code",
   "execution_count": null,
   "metadata": {},
   "outputs": [],
   "source": [
    "from params import *\n",
    "from data.preparation import *\n",
    "from util.plots import display_audio\n",
    "from data.processing import create_target_path, ProgressParallel, get_load_librosa_save_h5py"
   ]
  },
  {
   "cell_type": "markdown",
   "metadata": {},
   "source": [
    "## Competiton data"
   ]
  },
  {
   "cell_type": "markdown",
   "metadata": {},
   "source": [
    "### Data"
   ]
  },
  {
   "cell_type": "code",
   "execution_count": null,
   "metadata": {},
   "outputs": [],
   "source": [
    "# df = prepare_data()\n",
    "df = prepare_data_2()"
   ]
  },
  {
   "cell_type": "code",
   "execution_count": null,
   "metadata": {},
   "outputs": [],
   "source": [
    "# prepare_folds()"
   ]
  },
  {
   "cell_type": "code",
   "execution_count": null,
   "metadata": {},
   "outputs": [],
   "source": [
    "df.head()"
   ]
  },
  {
   "cell_type": "markdown",
   "metadata": {},
   "source": [
    "### Convert to h5py"
   ]
  },
  {
   "cell_type": "code",
   "execution_count": null,
   "metadata": {},
   "outputs": [],
   "source": [
    "SAVE_FOLDER = DATA_PATH + \"train_features/\""
   ]
  },
  {
   "cell_type": "code",
   "execution_count": null,
   "metadata": {},
   "outputs": [],
   "source": [
    "!rm -rf $SAVE_FOLDER"
   ]
  },
  {
   "cell_type": "code",
   "execution_count": null,
   "metadata": {},
   "outputs": [],
   "source": [
    "audios = glob.glob(DATA_PATH + \"train_audio/*/*\")\n",
    "print(f\"-> Found {len(audios)} files\")"
   ]
  },
  {
   "cell_type": "code",
   "execution_count": null,
   "metadata": {},
   "outputs": [],
   "source": [
    "targets = [create_target_path(SAVE_FOLDER, f) for f in audios]\n",
    "\n",
    "os.makedirs(SAVE_FOLDER, exist_ok=True)\n",
    "for f in set([os.path.dirname(f) for f in targets]):\n",
    "    os.makedirs(f, exist_ok=True)\n",
    "\n",
    "print(f\"-> Created {len(os.listdir(SAVE_FOLDER))} folders\")"
   ]
  },
  {
   "cell_type": "code",
   "execution_count": null,
   "metadata": {},
   "outputs": [],
   "source": [
    "fct = get_load_librosa_save_h5py(do_normalize=False, sr=32000)\n",
    "# fct(audios[0], targets[0])"
   ]
  },
  {
   "cell_type": "code",
   "execution_count": null,
   "metadata": {},
   "outputs": [],
   "source": [
    "_ = ProgressParallel(n_jobs=16, total=len(audios))(\n",
    "    delayed(fct)(load_path, save_path)\n",
    "    for load_path, save_path in zip(audios, targets)\n",
    ")"
   ]
  },
  {
   "cell_type": "code",
   "execution_count": null,
   "metadata": {},
   "outputs": [],
   "source": [
    "saved_targets = glob.glob(SAVE_FOLDER + \"*/*.hdf5\")\n",
    "print(f\"Saved {len(saved_targets)} files\")"
   ]
  },
  {
   "cell_type": "code",
   "execution_count": null,
   "metadata": {},
   "outputs": [],
   "source": [
    "df.head()"
   ]
  },
  {
   "cell_type": "markdown",
   "metadata": {},
   "source": [
    "## Xenocanto extra data"
   ]
  },
  {
   "cell_type": "markdown",
   "metadata": {},
   "source": [
    "### Data"
   ]
  },
  {
   "cell_type": "code",
   "execution_count": null,
   "metadata": {},
   "outputs": [],
   "source": [
    "df_xc = prepare_xenocanto_data()"
   ]
  },
  {
   "cell_type": "code",
   "execution_count": null,
   "metadata": {},
   "outputs": [],
   "source": [
    "df_xc = add_xeno_low_freq(df, upsample_to=0, low_freq=500).reset_index(drop=True)"
   ]
  },
  {
   "cell_type": "markdown",
   "metadata": {},
   "source": [
    "### Convert to h5py"
   ]
  },
  {
   "cell_type": "code",
   "execution_count": null,
   "metadata": {},
   "outputs": [],
   "source": [
    "audios = glob.glob(DATA_PATH + \"xenocanto/audio/*/*\")\n",
    "audios = [a for a in audios if a.split(\"/\", 4)[-1] in df_xc.filename.values]\n",
    "print(f\"-> Found {len(audios)} files\")"
   ]
  },
  {
   "cell_type": "code",
   "execution_count": null,
   "metadata": {},
   "outputs": [],
   "source": [
    "SAVE_FOLDER = DATA_PATH + \"xenocanto/features/\""
   ]
  },
  {
   "cell_type": "code",
   "execution_count": null,
   "metadata": {},
   "outputs": [],
   "source": [
    "!rm -rf $SAVE_FOLDER"
   ]
  },
  {
   "cell_type": "code",
   "execution_count": null,
   "metadata": {},
   "outputs": [],
   "source": [
    "targets = [create_target_path(SAVE_FOLDER, f) for f in audios]\n",
    "\n",
    "os.makedirs(SAVE_FOLDER, exist_ok=True)\n",
    "for f in set([os.path.dirname(f) for f in targets]):\n",
    "    os.makedirs(f, exist_ok=True)\n",
    "\n",
    "print(f\"-> Created {len(os.listdir(SAVE_FOLDER))} folders\")"
   ]
  },
  {
   "cell_type": "code",
   "execution_count": null,
   "metadata": {},
   "outputs": [],
   "source": [
    "fct = get_load_librosa_save_h5py(do_normalize=False, sr=32000)\n",
    "fct(audios[0], targets[0])"
   ]
  },
  {
   "cell_type": "code",
   "execution_count": null,
   "metadata": {},
   "outputs": [],
   "source": [
    "_ = ProgressParallel(n_jobs=16, total=len(audios))(\n",
    "    delayed(fct)(load_path, save_path)\n",
    "    for load_path, save_path in zip(audios, targets)\n",
    ")"
   ]
  },
  {
   "cell_type": "code",
   "execution_count": null,
   "metadata": {},
   "outputs": [],
   "source": [
    "saved_targets = glob.glob(SAVE_FOLDER + \"*/*.hdf5\")\n",
    "print(f\"Saved {len(saved_targets)} files\")"
   ]
  },
  {
   "cell_type": "markdown",
   "metadata": {},
   "source": [
    "### Nocall"
   ]
  },
  {
   "cell_type": "code",
   "execution_count": null,
   "metadata": {},
   "outputs": [],
   "source": [
    "paths = [\n",
    "    DATA_PATH + \"background_noise/birdclef2021_nocall/\",\n",
    "    DATA_PATH + \"background_noise/birdclef2020_nocall/\",\n",
    "    DATA_PATH + \"background_noise/freefield/\",\n",
    "    DATA_PATH + \"background_noise/warblrb/\",\n",
    "    DATA_PATH + \"background_noise/birdvox/\",\n",
    "    DATA_PATH + \"background_noise/rainforest/\",\n",
    "    DATA_PATH + \"background_noise/environment/\",\n",
    "    DATA_PATH + \"nocall_dieter/aicrowd2020_noise_30sec/noise_30sec/\",\n",
    "    DATA_PATH + \"nocall_dieter/ff1010bird_nocall/nocall/\",\n",
    "    DATA_PATH + \"nocall_dieter/train_soundscapes/nocall/\",\n",
    "]"
   ]
  },
  {
   "cell_type": "code",
   "execution_count": null,
   "metadata": {},
   "outputs": [],
   "source": [
    "max_samples = 200\n",
    "\n",
    "dfs = []\n",
    "for path in paths:\n",
    "    audios = glob.glob(path + \"*\")\n",
    "    df = pd.DataFrame({\"path\": audios})\n",
    "\n",
    "    if len(df) > max_samples:\n",
    "        df = df.sample(max_samples)\n",
    "\n",
    "    df[\"duration\"] = df[\"path\"].apply(lambda x: librosa.get_duration(path=x))\n",
    "\n",
    "    src = path.split(\"/\", 3)[-1].split('/')[0]\n",
    "    df[\"source\"] = src\n",
    "\n",
    "    df = df[df['duration'] >= 5]\n",
    "    df = df[df['duration'] <= 60]\n",
    "\n",
    "    dfs.append(df)\n",
    "\n",
    "    print(f\"-> Found {len(audios)} files in {src}\")"
   ]
  },
  {
   "cell_type": "code",
   "execution_count": null,
   "metadata": {},
   "outputs": [],
   "source": [
    "df = pd.concat(dfs, ignore_index=True)\n",
    "\n",
    "plt.figure(figsize=(15, 5))\n",
    "plt.subplot(1, 2, 1)\n",
    "sns.countplot(y=df['source'].values)\n",
    "plt.subplot(1, 2, 2)\n",
    "sns.histplot(x=df['duration'].values)\n",
    "plt.show()"
   ]
  },
  {
   "cell_type": "code",
   "execution_count": null,
   "metadata": {},
   "outputs": [],
   "source": [
    "SAVE_FOLDER = DATA_PATH + \"nocall_features/\"\n",
    "audios = df[\"path\"].values"
   ]
  },
  {
   "cell_type": "code",
   "execution_count": null,
   "metadata": {},
   "outputs": [],
   "source": [
    "targets = [create_target_path(SAVE_FOLDER, f) for f in audios]\n",
    "\n",
    "os.makedirs(SAVE_FOLDER, exist_ok=True)\n",
    "for f in set([os.path.dirname(f) for f in targets]):\n",
    "    os.makedirs(f, exist_ok=True)\n",
    "\n",
    "print(f\"-> Created {len(os.listdir(SAVE_FOLDER))} folders\")"
   ]
  },
  {
   "cell_type": "code",
   "execution_count": null,
   "metadata": {},
   "outputs": [],
   "source": [
    "fct = get_load_librosa_save_h5py(do_normalize=False, sr=32000)\n",
    "fct(audios[0], targets[0])"
   ]
  },
  {
   "cell_type": "code",
   "execution_count": null,
   "metadata": {},
   "outputs": [],
   "source": [
    "_ = ProgressParallel(n_jobs=16, total=len(audios))(\n",
    "    delayed(fct)(load_path, save_path)\n",
    "    for load_path, save_path in zip(audios, targets)\n",
    ")"
   ]
  },
  {
   "cell_type": "code",
   "execution_count": null,
   "metadata": {},
   "outputs": [],
   "source": [
    "saved_targets = glob.glob(SAVE_FOLDER + \"*/*.hdf5\")\n",
    "print(f\"Saved {len(saved_targets)} files\")"
   ]
  },
  {
   "cell_type": "markdown",
   "metadata": {},
   "source": [
    "## Unlabeled data"
   ]
  },
  {
   "cell_type": "markdown",
   "metadata": {},
   "source": [
    "### Data"
   ]
  },
  {
   "cell_type": "markdown",
   "metadata": {},
   "source": [
    "### Convert to h5py"
   ]
  },
  {
   "cell_type": "code",
   "execution_count": null,
   "metadata": {},
   "outputs": [],
   "source": [
    "audios = glob.glob(DATA_PATH + \"unlabeled_soundscapes/*\")\n",
    "print(f\"-> Found {len(audios)} files\")"
   ]
  },
  {
   "cell_type": "code",
   "execution_count": null,
   "metadata": {},
   "outputs": [],
   "source": [
    "SAVE_FOLDER = DATA_PATH + \"unlabeled_features/\""
   ]
  },
  {
   "cell_type": "code",
   "execution_count": null,
   "metadata": {},
   "outputs": [],
   "source": [
    "!rm -rf $SAVE_FOLDER"
   ]
  },
  {
   "cell_type": "code",
   "execution_count": null,
   "metadata": {},
   "outputs": [],
   "source": [
    "targets = [create_target_path(SAVE_FOLDER, f) for f in audios]\n",
    "\n",
    "os.makedirs(SAVE_FOLDER, exist_ok=True)\n",
    "for f in set([os.path.dirname(f) for f in targets]):\n",
    "    os.makedirs(f, exist_ok=True)\n",
    "\n",
    "print(f\"-> Created {len(os.listdir(SAVE_FOLDER))} folders\")"
   ]
  },
  {
   "cell_type": "code",
   "execution_count": null,
   "metadata": {},
   "outputs": [],
   "source": [
    "fct = get_load_librosa_save_h5py(do_normalize=False, sr=32000)\n",
    "fct(audios[0], targets[0])"
   ]
  },
  {
   "cell_type": "code",
   "execution_count": null,
   "metadata": {},
   "outputs": [],
   "source": [
    "_ = ProgressParallel(n_jobs=16, total=len(audios))(\n",
    "    delayed(fct)(load_path, save_path)\n",
    "    for load_path, save_path in zip(audios, targets)\n",
    ")"
   ]
  },
  {
   "cell_type": "code",
   "execution_count": null,
   "metadata": {},
   "outputs": [],
   "source": [
    "saved_targets = glob.glob(SAVE_FOLDER + \"*/*.hdf5\")\n",
    "print(f\"Saved {len(saved_targets)} files\")"
   ]
  },
  {
   "cell_type": "markdown",
   "metadata": {},
   "source": [
    "### Nocall"
   ]
  },
  {
   "cell_type": "code",
   "execution_count": null,
   "metadata": {},
   "outputs": [],
   "source": [
    "paths = [\n",
    "    DATA_PATH + \"background_noise/birdclef2021_nocall/\",\n",
    "    DATA_PATH + \"background_noise/birdclef2020_nocall/\",\n",
    "    DATA_PATH + \"background_noise/freefield/\",\n",
    "    DATA_PATH + \"background_noise/warblrb/\",\n",
    "    DATA_PATH + \"background_noise/birdvox/\",\n",
    "    DATA_PATH + \"background_noise/rainforest/\",\n",
    "    DATA_PATH + \"background_noise/environment/\",\n",
    "    DATA_PATH + \"nocall_dieter/aicrowd2020_noise_30sec/noise_30sec/\",\n",
    "    DATA_PATH + \"nocall_dieter/ff1010bird_nocall/nocall/\",\n",
    "    DATA_PATH + \"nocall_dieter/train_soundscapes/nocall/\",\n",
    "]"
   ]
  },
  {
   "cell_type": "code",
   "execution_count": null,
   "metadata": {},
   "outputs": [],
   "source": [
    "max_samples = 200\n",
    "\n",
    "dfs = []\n",
    "for path in paths:\n",
    "    audios = glob.glob(path + \"*\")\n",
    "    df = pd.DataFrame({\"path\": audios})\n",
    "\n",
    "    if len(df) > max_samples:\n",
    "        df = df.sample(max_samples)\n",
    "\n",
    "    df[\"duration\"] = df[\"path\"].apply(lambda x: librosa.get_duration(path=x))\n",
    "\n",
    "    src = path.split(\"/\", 3)[-1].split('/')[0]\n",
    "    df[\"source\"] = src\n",
    "\n",
    "    df = df[df['duration'] >= 5]\n",
    "    df = df[df['duration'] <= 60]\n",
    "\n",
    "    dfs.append(df)\n",
    "\n",
    "    print(f\"-> Found {len(audios)} files in {src}\")"
   ]
  },
  {
   "cell_type": "code",
   "execution_count": null,
   "metadata": {},
   "outputs": [],
   "source": [
    "df = pd.concat(dfs, ignore_index=True)\n",
    "\n",
    "plt.figure(figsize=(15, 5))\n",
    "plt.subplot(1, 2, 1)\n",
    "sns.countplot(y=df['source'].values)\n",
    "plt.subplot(1, 2, 2)\n",
    "sns.histplot(x=df['duration'].values)\n",
    "plt.show()"
   ]
  },
  {
   "cell_type": "code",
   "execution_count": null,
   "metadata": {},
   "outputs": [],
   "source": [
    "SAVE_FOLDER = DATA_PATH + \"nocall_features/\"\n",
    "audios = df[\"path\"].values"
   ]
  },
  {
   "cell_type": "code",
   "execution_count": null,
   "metadata": {},
   "outputs": [],
   "source": [
    "targets = [create_target_path(SAVE_FOLDER, f) for f in audios]\n",
    "\n",
    "os.makedirs(SAVE_FOLDER, exist_ok=True)\n",
    "for f in set([os.path.dirname(f) for f in targets]):\n",
    "    os.makedirs(f, exist_ok=True)\n",
    "\n",
    "print(f\"-> Created {len(os.listdir(SAVE_FOLDER))} folders\")"
   ]
  },
  {
   "cell_type": "code",
   "execution_count": null,
   "metadata": {},
   "outputs": [],
   "source": [
    "fct = get_load_librosa_save_h5py(do_normalize=False, sr=32000)\n",
    "fct(audios[0], targets[0])"
   ]
  },
  {
   "cell_type": "code",
   "execution_count": null,
   "metadata": {},
   "outputs": [],
   "source": [
    "_ = ProgressParallel(n_jobs=16, total=len(audios))(\n",
    "    delayed(fct)(load_path, save_path)\n",
    "    for load_path, save_path in zip(audios, targets)\n",
    ")"
   ]
  },
  {
   "cell_type": "code",
   "execution_count": null,
   "metadata": {},
   "outputs": [],
   "source": [
    "saved_targets = glob.glob(SAVE_FOLDER + \"*/*.hdf5\")\n",
    "print(f\"Saved {len(saved_targets)} files\")"
   ]
  },
  {
   "cell_type": "markdown",
   "metadata": {},
   "source": [
    "### Duplicates"
   ]
  },
  {
   "cell_type": "code",
   "execution_count": null,
   "metadata": {},
   "outputs": [],
   "source": [
    "df_tot = pd.concat([df, df_xc])\n",
    "dups = df_tot[df_tot.duplicated(subset='id', keep=False)].sort_values('id')"
   ]
  },
  {
   "cell_type": "code",
   "execution_count": null,
   "metadata": {},
   "outputs": [],
   "source": [
    "# dups[dups['fold'] == -1].id.values.tolist()"
   ]
  },
  {
   "cell_type": "code",
   "execution_count": null,
   "metadata": {},
   "outputs": [],
   "source": [
    "dups.head(10)"
   ]
  },
  {
   "cell_type": "code",
   "execution_count": null,
   "metadata": {},
   "outputs": [],
   "source": [
    "idx = 0"
   ]
  },
  {
   "cell_type": "code",
   "execution_count": null,
   "metadata": {},
   "outputs": [],
   "source": [
    "display_audio(dups[\"path\"].values[idx])"
   ]
  },
  {
   "cell_type": "code",
   "execution_count": null,
   "metadata": {},
   "outputs": [],
   "source": [
    "display_audio(dups[\"path\"].values[idx + 1])"
   ]
  },
  {
   "cell_type": "markdown",
   "metadata": {},
   "source": [
    "Done !"
   ]
  }
 ],
 "metadata": {
  "kernelspec": {
   "display_name": "Python 3 (ipykernel)",
   "language": "python",
   "name": "python3"
  },
  "language_info": {
   "codemirror_mode": {
    "name": "ipython",
    "version": 3
   },
   "file_extension": ".py",
   "mimetype": "text/x-python",
   "name": "python",
   "nbconvert_exporter": "python",
   "pygments_lexer": "ipython3",
   "version": "3.10.12"
  }
 },
 "nbformat": 4,
 "nbformat_minor": 4
}
