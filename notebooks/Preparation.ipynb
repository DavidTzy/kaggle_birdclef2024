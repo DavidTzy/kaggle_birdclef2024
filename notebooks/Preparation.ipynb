{
 "cells": [
  {
   "cell_type": "markdown",
   "metadata": {},
   "source": [
    "**About** : This notebook is used to prepare the data."
   ]
  },
  {
   "cell_type": "code",
   "execution_count": 1,
   "metadata": {},
   "outputs": [],
   "source": [
    "%load_ext autoreload\n",
    "%autoreload 2"
   ]
  },
  {
   "cell_type": "code",
   "execution_count": 2,
   "metadata": {},
   "outputs": [
    {
     "name": "stdout",
     "output_type": "stream",
     "text": [
      "/home/tviel/work/kaggle_birdclef_2024/src\n"
     ]
    },
    {
     "name": "stderr",
     "output_type": "stream",
     "text": [
      "/home/tviel/.local/lib/python3.10/site-packages/IPython/core/magics/osm.py:417: UserWarning: using dhist requires you to install the `pickleshare` library.\n",
      "  self.shell.db['dhist'] = compress_dhist(dhist)[-100:]\n"
     ]
    }
   ],
   "source": [
    "cd ../src/"
   ]
  },
  {
   "cell_type": "markdown",
   "metadata": {},
   "source": [
    "### Imports"
   ]
  },
  {
   "cell_type": "code",
   "execution_count": 3,
   "metadata": {},
   "outputs": [],
   "source": [
    "import os\n",
    "import sys\n",
    "import glob\n",
    "import json\n",
    "import h5py\n",
    "import librosa\n",
    "import warnings\n",
    "import numpy as np\n",
    "import pandas as pd\n",
    "import seaborn as sns\n",
    "import matplotlib.pyplot as plt\n",
    "\n",
    "from tqdm.notebook import tqdm\n",
    "from copy import deepcopy\n",
    "from joblib import delayed\n",
    "from sklearn.metrics import *\n",
    "\n",
    "warnings.simplefilter(action=\"ignore\", category=UserWarning)\n",
    "pd.set_option('display.width', 500)\n",
    "pd.set_option('max_colwidth', 100)"
   ]
  },
  {
   "cell_type": "code",
   "execution_count": 4,
   "metadata": {},
   "outputs": [],
   "source": [
    "from params import *\n",
    "from data.preparation import *\n",
    "from util.plots import display_audio\n",
    "from data.processing import create_target_path, ProgressParallel, get_load_librosa_save_h5py"
   ]
  },
  {
   "cell_type": "markdown",
   "metadata": {},
   "source": [
    "### Competiton data"
   ]
  },
  {
   "cell_type": "code",
   "execution_count": null,
   "metadata": {},
   "outputs": [],
   "source": [
    "df = prepare_data_2()"
   ]
  },
  {
   "cell_type": "code",
   "execution_count": null,
   "metadata": {},
   "outputs": [],
   "source": [
    "prepare_folds()"
   ]
  },
  {
   "cell_type": "code",
   "execution_count": null,
   "metadata": {},
   "outputs": [],
   "source": [
    "df.head()"
   ]
  },
  {
   "cell_type": "code",
   "execution_count": null,
   "metadata": {},
   "outputs": [],
   "source": [
    "SAVE_FOLDER = DATA_PATH + \"train_features/\""
   ]
  },
  {
   "cell_type": "code",
   "execution_count": null,
   "metadata": {},
   "outputs": [],
   "source": [
    "!rm -rf $SAVE_FOLDER"
   ]
  },
  {
   "cell_type": "code",
   "execution_count": null,
   "metadata": {},
   "outputs": [],
   "source": [
    "audios = glob.glob(DATA_PATH + \"train_audio/*/*\")\n",
    "print(f\"-> Found {len(audios)} files\")"
   ]
  },
  {
   "cell_type": "code",
   "execution_count": null,
   "metadata": {},
   "outputs": [],
   "source": [
    "targets = [create_target_path(SAVE_FOLDER, f) for f in audios]\n",
    "\n",
    "os.makedirs(SAVE_FOLDER, exist_ok=True)\n",
    "for f in set([os.path.dirname(f) for f in targets]):\n",
    "    os.makedirs(f, exist_ok=True)\n",
    "\n",
    "print(f\"-> Created {len(os.listdir(SAVE_FOLDER))} folders\")"
   ]
  },
  {
   "cell_type": "code",
   "execution_count": null,
   "metadata": {},
   "outputs": [],
   "source": [
    "fct = get_load_librosa_save_h5py(do_normalize=False, sr=32000)\n",
    "# fct(audios[0], targets[0])"
   ]
  },
  {
   "cell_type": "code",
   "execution_count": null,
   "metadata": {},
   "outputs": [],
   "source": [
    "_ = ProgressParallel(n_jobs=16, total=len(audios))(\n",
    "    delayed(fct)(load_path, save_path)\n",
    "    for load_path, save_path in zip(audios, targets)\n",
    ")"
   ]
  },
  {
   "cell_type": "code",
   "execution_count": null,
   "metadata": {},
   "outputs": [],
   "source": [
    "saved_targets = glob.glob(SAVE_FOLDER + \"*/*.hdf5\")\n",
    "print(f\"Saved {len(saved_targets)} files\")"
   ]
  },
  {
   "cell_type": "code",
   "execution_count": null,
   "metadata": {},
   "outputs": [],
   "source": [
    "df.head()"
   ]
  },
  {
   "cell_type": "markdown",
   "metadata": {},
   "source": [
    "### Previous comp data\n",
    "- Download the already precomputed features to save time"
   ]
  },
  {
   "cell_type": "code",
   "execution_count": 16,
   "metadata": {},
   "outputs": [],
   "source": [
    "df = pd.read_csv(DATA_PATH + \"df_extra_comp.csv\")"
   ]
  },
  {
   "cell_type": "code",
   "execution_count": 17,
   "metadata": {},
   "outputs": [],
   "source": [
    "SAVE_FOLDER = DATA_PATH + \"prev_comps_features/\""
   ]
  },
  {
   "cell_type": "code",
   "execution_count": 18,
   "metadata": {},
   "outputs": [
    {
     "name": "stdout",
     "output_type": "stream",
     "text": [
      "-> Found 166 files\n"
     ]
    }
   ],
   "source": [
    "audios = df.path.values\n",
    "print(f\"-> Found {len(audios)} files\")"
   ]
  },
  {
   "cell_type": "code",
   "execution_count": 13,
   "metadata": {},
   "outputs": [
    {
     "name": "stdout",
     "output_type": "stream",
     "text": [
      "-> Created 9 folders\n"
     ]
    }
   ],
   "source": [
    "targets = [create_target_path(SAVE_FOLDER, f) for f in audios]\n",
    "\n",
    "os.makedirs(SAVE_FOLDER, exist_ok=True)\n",
    "for f in set([os.path.dirname(f) for f in targets]):\n",
    "    os.makedirs(f, exist_ok=True)\n",
    "\n",
    "print(f\"-> Created {len(os.listdir(SAVE_FOLDER))} folders\")"
   ]
  },
  {
   "cell_type": "code",
   "execution_count": 14,
   "metadata": {},
   "outputs": [],
   "source": [
    "fct = get_load_librosa_save_h5py(do_normalize=False, sr=32000)\n",
    "# fct(audios[0], targets[0])"
   ]
  },
  {
   "cell_type": "code",
   "execution_count": 16,
   "metadata": {},
   "outputs": [
    {
     "name": "stderr",
     "output_type": "stream",
     "text": [
      "  0%|          | 0/166 [00:00<?, ?it/s]"
     ]
    },
    {
     "name": "stderr",
     "output_type": "stream",
     "text": [
      "100%|██████████| 166/166 [00:03<00:00, 53.75it/s] \n"
     ]
    }
   ],
   "source": [
    "for load_path, save_path in tqdm(zip(audios, targets), total=len(audios)):\n",
    "    fct(load_path, save_path) "
   ]
  },
  {
   "cell_type": "code",
   "execution_count": 17,
   "metadata": {},
   "outputs": [
    {
     "name": "stdout",
     "output_type": "stream",
     "text": [
      "Saved 166 files\n"
     ]
    }
   ],
   "source": [
    "saved_targets = glob.glob(SAVE_FOLDER + \"*/*.hdf5\")\n",
    "print(f\"Saved {len(saved_targets)} files\")"
   ]
  },
  {
   "cell_type": "code",
   "execution_count": 20,
   "metadata": {},
   "outputs": [],
   "source": [
    "df[\"fold\"] = -1\n",
    "df[\"path_ft\"] = targets\n",
    "df.to_csv('../input/df_extra_comp.csv', index=False)"
   ]
  },
  {
   "cell_type": "markdown",
   "metadata": {},
   "source": [
    "### Xenocanto extra data"
   ]
  },
  {
   "cell_type": "code",
   "execution_count": null,
   "metadata": {},
   "outputs": [],
   "source": [
    "df_xc = prepare_xenocanto_data()\n",
    "\n",
    "# df_xc = add_xeno_low_freq(df, upsample_to=0, low_freq=500).reset_index(drop=True)"
   ]
  },
  {
   "cell_type": "code",
   "execution_count": null,
   "metadata": {},
   "outputs": [],
   "source": [
    "audios = glob.glob(DATA_PATH + \"xenocanto/audio/*/*\")\n",
    "audios = [a for a in audios if a.split(\"/\", 4)[-1] in df_xc.filename.values]\n",
    "print(f\"-> Found {len(audios)} files\")"
   ]
  },
  {
   "cell_type": "code",
   "execution_count": null,
   "metadata": {},
   "outputs": [],
   "source": [
    "SAVE_FOLDER = DATA_PATH + \"xenocanto/features/\""
   ]
  },
  {
   "cell_type": "code",
   "execution_count": null,
   "metadata": {},
   "outputs": [],
   "source": [
    "!rm -rf $SAVE_FOLDER"
   ]
  },
  {
   "cell_type": "code",
   "execution_count": null,
   "metadata": {},
   "outputs": [],
   "source": [
    "targets = [create_target_path(SAVE_FOLDER, f) for f in audios]\n",
    "\n",
    "os.makedirs(SAVE_FOLDER, exist_ok=True)\n",
    "for f in set([os.path.dirname(f) for f in targets]):\n",
    "    os.makedirs(f, exist_ok=True)\n",
    "\n",
    "print(f\"-> Created {len(os.listdir(SAVE_FOLDER))} folders\")"
   ]
  },
  {
   "cell_type": "code",
   "execution_count": null,
   "metadata": {},
   "outputs": [],
   "source": [
    "fct = get_load_librosa_save_h5py(do_normalize=False, sr=32000)\n",
    "fct(audios[0], targets[0])"
   ]
  },
  {
   "cell_type": "code",
   "execution_count": null,
   "metadata": {},
   "outputs": [],
   "source": [
    "_ = ProgressParallel(n_jobs=16, total=len(audios))(\n",
    "    delayed(fct)(load_path, save_path)\n",
    "    for load_path, save_path in zip(audios, targets)\n",
    ")"
   ]
  },
  {
   "cell_type": "code",
   "execution_count": null,
   "metadata": {},
   "outputs": [],
   "source": [
    "saved_targets = glob.glob(SAVE_FOLDER + \"*/*.hdf5\")\n",
    "print(f\"Saved {len(saved_targets)} files\")"
   ]
  },
  {
   "cell_type": "markdown",
   "metadata": {},
   "source": [
    "### Unlabeled soundscapes"
   ]
  },
  {
   "cell_type": "code",
   "execution_count": null,
   "metadata": {},
   "outputs": [],
   "source": [
    "audios = glob.glob(DATA_PATH + \"unlabeled_soundscapes/*\")\n",
    "print(f\"-> Found {len(audios)} files\")"
   ]
  },
  {
   "cell_type": "code",
   "execution_count": null,
   "metadata": {},
   "outputs": [],
   "source": [
    "SAVE_FOLDER = DATA_PATH + \"unlabeled_features/\""
   ]
  },
  {
   "cell_type": "code",
   "execution_count": null,
   "metadata": {},
   "outputs": [],
   "source": [
    "!rm -rf $SAVE_FOLDER"
   ]
  },
  {
   "cell_type": "code",
   "execution_count": null,
   "metadata": {},
   "outputs": [],
   "source": [
    "targets = [create_target_path(SAVE_FOLDER, f) for f in audios]\n",
    "\n",
    "os.makedirs(SAVE_FOLDER, exist_ok=True)\n",
    "for f in set([os.path.dirname(f) for f in targets]):\n",
    "    os.makedirs(f, exist_ok=True)\n",
    "\n",
    "print(f\"-> Created {len(os.listdir(SAVE_FOLDER))} folders\")"
   ]
  },
  {
   "cell_type": "code",
   "execution_count": null,
   "metadata": {},
   "outputs": [],
   "source": [
    "fct = get_load_librosa_save_h5py(do_normalize=False, sr=32000)\n",
    "fct(audios[0], targets[0])"
   ]
  },
  {
   "cell_type": "code",
   "execution_count": null,
   "metadata": {},
   "outputs": [],
   "source": [
    "_ = ProgressParallel(n_jobs=16, total=len(audios))(\n",
    "    delayed(fct)(load_path, save_path)\n",
    "    for load_path, save_path in zip(audios, targets)\n",
    ")"
   ]
  },
  {
   "cell_type": "code",
   "execution_count": null,
   "metadata": {},
   "outputs": [],
   "source": [
    "saved_targets = glob.glob(SAVE_FOLDER + \"*/*.hdf5\")\n",
    "print(f\"Saved {len(saved_targets)} files\")"
   ]
  },
  {
   "cell_type": "markdown",
   "metadata": {},
   "source": [
    "Done !"
   ]
  }
 ],
 "metadata": {
  "kernelspec": {
   "display_name": "Python 3 (ipykernel)",
   "language": "python",
   "name": "python3"
  },
  "language_info": {
   "codemirror_mode": {
    "name": "ipython",
    "version": 3
   },
   "file_extension": ".py",
   "mimetype": "text/x-python",
   "name": "python",
   "nbconvert_exporter": "python",
   "pygments_lexer": "ipython3",
   "version": "3.10.12"
  }
 },
 "nbformat": 4,
 "nbformat_minor": 4
}
