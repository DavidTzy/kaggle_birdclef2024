{
 "cells": [
  {
   "cell_type": "markdown",
   "metadata": {},
   "source": [
    "**About** : This notebook is used to prepare the data."
   ]
  },
  {
   "cell_type": "code",
   "execution_count": 1,
   "metadata": {},
   "outputs": [],
   "source": [
    "%load_ext autoreload\n",
    "%autoreload 2"
   ]
  },
  {
   "cell_type": "code",
   "execution_count": 2,
   "metadata": {},
   "outputs": [
    {
     "name": "stdout",
     "output_type": "stream",
     "text": [
      "/home/tviel/work/kaggle_birdclef_2024/src\n"
     ]
    },
    {
     "name": "stderr",
     "output_type": "stream",
     "text": [
      "/home/tviel/.local/lib/python3.10/site-packages/IPython/core/magics/osm.py:417: UserWarning: using dhist requires you to install the `pickleshare` library.\n",
      "  self.shell.db['dhist'] = compress_dhist(dhist)[-100:]\n"
     ]
    }
   ],
   "source": [
    "cd ../src/"
   ]
  },
  {
   "cell_type": "markdown",
   "metadata": {},
   "source": [
    "### Imports"
   ]
  },
  {
   "cell_type": "code",
   "execution_count": 3,
   "metadata": {},
   "outputs": [],
   "source": [
    "import os\n",
    "import sys\n",
    "import glob\n",
    "import json\n",
    "import h5py\n",
    "import librosa\n",
    "import warnings\n",
    "import numpy as np\n",
    "import pandas as pd\n",
    "import seaborn as sns\n",
    "import matplotlib.pyplot as plt\n",
    "\n",
    "from tqdm import tqdm\n",
    "from copy import deepcopy\n",
    "from joblib import delayed\n",
    "from sklearn.metrics import *\n",
    "\n",
    "warnings.simplefilter(action=\"ignore\", category=UserWarning)\n",
    "pd.set_option('display.width', 500)\n",
    "pd.set_option('max_colwidth', 100)"
   ]
  },
  {
   "cell_type": "code",
   "execution_count": 4,
   "metadata": {},
   "outputs": [],
   "source": [
    "from params import *\n",
    "from data.preparation import *\n",
    "from util.plots import display_audio\n",
    "from data.processing import create_target_path, ProgressParallel, get_load_librosa_save_h5py"
   ]
  },
  {
   "cell_type": "markdown",
   "metadata": {},
   "source": [
    "## Competiton data"
   ]
  },
  {
   "cell_type": "markdown",
   "metadata": {},
   "source": [
    "### Data"
   ]
  },
  {
   "cell_type": "code",
   "execution_count": 10,
   "metadata": {},
   "outputs": [],
   "source": [
    "# df = prepare_data()\n",
    "df = prepare_data_2()"
   ]
  },
  {
   "cell_type": "code",
   "execution_count": 11,
   "metadata": {},
   "outputs": [],
   "source": [
    "# prepare_folds()"
   ]
  },
  {
   "cell_type": "code",
   "execution_count": 12,
   "metadata": {},
   "outputs": [
    {
     "data": {
      "text/html": [
       "<div>\n",
       "<style scoped>\n",
       "    .dataframe tbody tr th:only-of-type {\n",
       "        vertical-align: middle;\n",
       "    }\n",
       "\n",
       "    .dataframe tbody tr th {\n",
       "        vertical-align: top;\n",
       "    }\n",
       "\n",
       "    .dataframe thead th {\n",
       "        text-align: right;\n",
       "    }\n",
       "</style>\n",
       "<table border=\"1\" class=\"dataframe\">\n",
       "  <thead>\n",
       "    <tr style=\"text-align: right;\">\n",
       "      <th></th>\n",
       "      <th>id</th>\n",
       "      <th>filename</th>\n",
       "      <th>primary_label</th>\n",
       "      <th>secondary_labels</th>\n",
       "      <th>rating</th>\n",
       "      <th>path</th>\n",
       "      <th>path_ft</th>\n",
       "      <th>fold</th>\n",
       "    </tr>\n",
       "  </thead>\n",
       "  <tbody>\n",
       "    <tr>\n",
       "      <th>0</th>\n",
       "      <td>XC134896</td>\n",
       "      <td>asbfly/XC134896.ogg</td>\n",
       "      <td>asbfly</td>\n",
       "      <td>[]</td>\n",
       "      <td>5.0</td>\n",
       "      <td>../input/train_audio/asbfly/XC134896.ogg</td>\n",
       "      <td>../input/train_features/asbfly/XC134896.hdf5</td>\n",
       "      <td>0</td>\n",
       "    </tr>\n",
       "    <tr>\n",
       "      <th>1</th>\n",
       "      <td>XC164848</td>\n",
       "      <td>asbfly/XC164848.ogg</td>\n",
       "      <td>asbfly</td>\n",
       "      <td>[]</td>\n",
       "      <td>2.5</td>\n",
       "      <td>../input/train_audio/asbfly/XC164848.ogg</td>\n",
       "      <td>../input/train_features/asbfly/XC164848.hdf5</td>\n",
       "      <td>2</td>\n",
       "    </tr>\n",
       "    <tr>\n",
       "      <th>2</th>\n",
       "      <td>XC175797</td>\n",
       "      <td>asbfly/XC175797.ogg</td>\n",
       "      <td>asbfly</td>\n",
       "      <td>[]</td>\n",
       "      <td>2.5</td>\n",
       "      <td>../input/train_audio/asbfly/XC175797.ogg</td>\n",
       "      <td>../input/train_features/asbfly/XC175797.hdf5</td>\n",
       "      <td>1</td>\n",
       "    </tr>\n",
       "    <tr>\n",
       "      <th>3</th>\n",
       "      <td>XC207738</td>\n",
       "      <td>asbfly/XC207738.ogg</td>\n",
       "      <td>asbfly</td>\n",
       "      <td>[]</td>\n",
       "      <td>4.0</td>\n",
       "      <td>../input/train_audio/asbfly/XC207738.ogg</td>\n",
       "      <td>../input/train_features/asbfly/XC207738.hdf5</td>\n",
       "      <td>2</td>\n",
       "    </tr>\n",
       "    <tr>\n",
       "      <th>4</th>\n",
       "      <td>XC209218</td>\n",
       "      <td>asbfly/XC209218.ogg</td>\n",
       "      <td>asbfly</td>\n",
       "      <td>[]</td>\n",
       "      <td>4.0</td>\n",
       "      <td>../input/train_audio/asbfly/XC209218.ogg</td>\n",
       "      <td>../input/train_features/asbfly/XC209218.hdf5</td>\n",
       "      <td>1</td>\n",
       "    </tr>\n",
       "  </tbody>\n",
       "</table>\n",
       "</div>"
      ],
      "text/plain": [
       "         id             filename primary_label secondary_labels  rating                                      path                                       path_ft  fold\n",
       "0  XC134896  asbfly/XC134896.ogg        asbfly               []     5.0  ../input/train_audio/asbfly/XC134896.ogg  ../input/train_features/asbfly/XC134896.hdf5     0\n",
       "1  XC164848  asbfly/XC164848.ogg        asbfly               []     2.5  ../input/train_audio/asbfly/XC164848.ogg  ../input/train_features/asbfly/XC164848.hdf5     2\n",
       "2  XC175797  asbfly/XC175797.ogg        asbfly               []     2.5  ../input/train_audio/asbfly/XC175797.ogg  ../input/train_features/asbfly/XC175797.hdf5     1\n",
       "3  XC207738  asbfly/XC207738.ogg        asbfly               []     4.0  ../input/train_audio/asbfly/XC207738.ogg  ../input/train_features/asbfly/XC207738.hdf5     2\n",
       "4  XC209218  asbfly/XC209218.ogg        asbfly               []     4.0  ../input/train_audio/asbfly/XC209218.ogg  ../input/train_features/asbfly/XC209218.hdf5     1"
      ]
     },
     "execution_count": 12,
     "metadata": {},
     "output_type": "execute_result"
    }
   ],
   "source": [
    "df.head()"
   ]
  },
  {
   "cell_type": "markdown",
   "metadata": {},
   "source": [
    "### Convert to h5py"
   ]
  },
  {
   "cell_type": "code",
   "execution_count": null,
   "metadata": {},
   "outputs": [],
   "source": [
    "SAVE_FOLDER = DATA_PATH + \"train_features/\""
   ]
  },
  {
   "cell_type": "code",
   "execution_count": null,
   "metadata": {},
   "outputs": [],
   "source": [
    "!rm -rf $SAVE_FOLDER"
   ]
  },
  {
   "cell_type": "code",
   "execution_count": null,
   "metadata": {},
   "outputs": [],
   "source": [
    "audios = glob.glob(DATA_PATH + \"train_audio/*/*\")\n",
    "print(f\"-> Found {len(audios)} files\")"
   ]
  },
  {
   "cell_type": "code",
   "execution_count": null,
   "metadata": {},
   "outputs": [],
   "source": [
    "targets = [create_target_path(SAVE_FOLDER, f) for f in audios]\n",
    "\n",
    "os.makedirs(SAVE_FOLDER, exist_ok=True)\n",
    "for f in set([os.path.dirname(f) for f in targets]):\n",
    "    os.makedirs(f, exist_ok=True)\n",
    "\n",
    "print(f\"-> Created {len(os.listdir(SAVE_FOLDER))} folders\")"
   ]
  },
  {
   "cell_type": "code",
   "execution_count": null,
   "metadata": {},
   "outputs": [],
   "source": [
    "fct = get_load_librosa_save_h5py(do_normalize=False, sr=32000)\n",
    "# fct(audios[0], targets[0])"
   ]
  },
  {
   "cell_type": "code",
   "execution_count": null,
   "metadata": {},
   "outputs": [],
   "source": [
    "_ = ProgressParallel(n_jobs=16, total=len(audios))(\n",
    "    delayed(fct)(load_path, save_path)\n",
    "    for load_path, save_path in zip(audios, targets)\n",
    ")"
   ]
  },
  {
   "cell_type": "code",
   "execution_count": null,
   "metadata": {},
   "outputs": [],
   "source": [
    "saved_targets = glob.glob(SAVE_FOLDER + \"*/*.hdf5\")\n",
    "print(f\"Saved {len(saved_targets)} files\")"
   ]
  },
  {
   "cell_type": "code",
   "execution_count": null,
   "metadata": {},
   "outputs": [],
   "source": [
    "df.head()"
   ]
  },
  {
   "cell_type": "markdown",
   "metadata": {},
   "source": [
    "## Xenocanto extra data"
   ]
  },
  {
   "cell_type": "markdown",
   "metadata": {},
   "source": [
    "### Data"
   ]
  },
  {
   "cell_type": "code",
   "execution_count": null,
   "metadata": {},
   "outputs": [],
   "source": [
    "df_xc = prepare_xenocanto_data()"
   ]
  },
  {
   "cell_type": "code",
   "execution_count": null,
   "metadata": {},
   "outputs": [],
   "source": [
    "# df_xc[df_xc.duplicated(subset=\"id\", keep=False)].groupby('id').agg(list)\n",
    "# df_map = pd.read_csv(DATA_PATH + \"eBird_Taxonomy_v2021.csv\").sort_values('PRIMARY_COM_NAME')\n",
    "# df_map[df_map.SCI_NAME.apply(lambda x: x.lower().startswith('calonectris'))]\n",
    "# df_xc[df_xc.secondary_labels.apply(lambda x: \"unk\" in x)]"
   ]
  },
  {
   "cell_type": "markdown",
   "metadata": {},
   "source": [
    "### Convert to h5py"
   ]
  },
  {
   "cell_type": "code",
   "execution_count": null,
   "metadata": {},
   "outputs": [],
   "source": [
    "audios = glob.glob(DATA_PATH + \"xenocanto/audio/*/*\")\n",
    "print(f\"-> Found {len(audios)} files\")"
   ]
  },
  {
   "cell_type": "code",
   "execution_count": null,
   "metadata": {},
   "outputs": [],
   "source": [
    "SAVE_FOLDER = DATA_PATH + \"xenocanto/features/\""
   ]
  },
  {
   "cell_type": "code",
   "execution_count": null,
   "metadata": {},
   "outputs": [],
   "source": [
    "!rm -rf $SAVE_FOLDER"
   ]
  },
  {
   "cell_type": "code",
   "execution_count": null,
   "metadata": {},
   "outputs": [],
   "source": [
    "targets = [create_target_path(SAVE_FOLDER, f) for f in audios]\n",
    "\n",
    "os.makedirs(SAVE_FOLDER, exist_ok=True)\n",
    "for f in set([os.path.dirname(f) for f in targets]):\n",
    "    os.makedirs(f, exist_ok=True)\n",
    "\n",
    "print(f\"-> Created {len(os.listdir(SAVE_FOLDER))} folders\")"
   ]
  },
  {
   "cell_type": "code",
   "execution_count": null,
   "metadata": {},
   "outputs": [],
   "source": [
    "fct = get_load_librosa_save_h5py(do_normalize=False, sr=32000)\n",
    "fct(audios[0], targets[0])"
   ]
  },
  {
   "cell_type": "code",
   "execution_count": null,
   "metadata": {},
   "outputs": [],
   "source": [
    "_ = ProgressParallel(n_jobs=16, total=len(audios))(\n",
    "    delayed(fct)(load_path, save_path)\n",
    "    for load_path, save_path in zip(audios, targets)\n",
    ")"
   ]
  },
  {
   "cell_type": "code",
   "execution_count": null,
   "metadata": {},
   "outputs": [],
   "source": [
    "saved_targets = glob.glob(SAVE_FOLDER + \"*/*.hdf5\")\n",
    "print(f\"Saved {len(saved_targets)} files\")"
   ]
  },
  {
   "cell_type": "markdown",
   "metadata": {},
   "source": [
    "### Nocall"
   ]
  },
  {
   "cell_type": "code",
   "execution_count": null,
   "metadata": {},
   "outputs": [],
   "source": [
    "paths = [\n",
    "    DATA_PATH + \"background_noise/birdclef2021_nocall/\",\n",
    "    DATA_PATH + \"background_noise/birdclef2020_nocall/\",\n",
    "    DATA_PATH + \"background_noise/freefield/\",\n",
    "    DATA_PATH + \"background_noise/warblrb/\",\n",
    "    DATA_PATH + \"background_noise/birdvox/\",\n",
    "    DATA_PATH + \"background_noise/rainforest/\",\n",
    "    DATA_PATH + \"background_noise/environment/\",\n",
    "    DATA_PATH + \"nocall_dieter/aicrowd2020_noise_30sec/noise_30sec/\",\n",
    "    DATA_PATH + \"nocall_dieter/ff1010bird_nocall/nocall/\",\n",
    "    DATA_PATH + \"nocall_dieter/train_soundscapes/nocall/\",\n",
    "]"
   ]
  },
  {
   "cell_type": "code",
   "execution_count": null,
   "metadata": {},
   "outputs": [],
   "source": [
    "max_samples = 200\n",
    "\n",
    "dfs = []\n",
    "for path in paths:\n",
    "    audios = glob.glob(path + \"*\")\n",
    "    df = pd.DataFrame({\"path\": audios})\n",
    "\n",
    "    if len(df) > max_samples:\n",
    "        df = df.sample(max_samples)\n",
    "\n",
    "    df[\"duration\"] = df[\"path\"].apply(lambda x: librosa.get_duration(path=x))\n",
    "\n",
    "    src = path.split(\"/\", 3)[-1].split('/')[0]\n",
    "    df[\"source\"] = src\n",
    "\n",
    "    df = df[df['duration'] >= 5]\n",
    "    df = df[df['duration'] <= 60]\n",
    "\n",
    "    dfs.append(df)\n",
    "\n",
    "    print(f\"-> Found {len(audios)} files in {src}\")"
   ]
  },
  {
   "cell_type": "code",
   "execution_count": null,
   "metadata": {},
   "outputs": [],
   "source": [
    "df = pd.concat(dfs, ignore_index=True)\n",
    "\n",
    "plt.figure(figsize=(15, 5))\n",
    "plt.subplot(1, 2, 1)\n",
    "sns.countplot(y=df['source'].values)\n",
    "plt.subplot(1, 2, 2)\n",
    "sns.histplot(x=df['duration'].values)\n",
    "plt.show()"
   ]
  },
  {
   "cell_type": "code",
   "execution_count": null,
   "metadata": {},
   "outputs": [],
   "source": [
    "SAVE_FOLDER = DATA_PATH + \"nocall_features/\"\n",
    "audios = df[\"path\"].values"
   ]
  },
  {
   "cell_type": "code",
   "execution_count": null,
   "metadata": {},
   "outputs": [],
   "source": [
    "targets = [create_target_path(SAVE_FOLDER, f) for f in audios]\n",
    "\n",
    "os.makedirs(SAVE_FOLDER, exist_ok=True)\n",
    "for f in set([os.path.dirname(f) for f in targets]):\n",
    "    os.makedirs(f, exist_ok=True)\n",
    "\n",
    "print(f\"-> Created {len(os.listdir(SAVE_FOLDER))} folders\")"
   ]
  },
  {
   "cell_type": "code",
   "execution_count": null,
   "metadata": {},
   "outputs": [],
   "source": [
    "fct = get_load_librosa_save_h5py(do_normalize=False, sr=32000)\n",
    "fct(audios[0], targets[0])"
   ]
  },
  {
   "cell_type": "code",
   "execution_count": null,
   "metadata": {},
   "outputs": [],
   "source": [
    "_ = ProgressParallel(n_jobs=16, total=len(audios))(\n",
    "    delayed(fct)(load_path, save_path)\n",
    "    for load_path, save_path in zip(audios, targets)\n",
    ")"
   ]
  },
  {
   "cell_type": "code",
   "execution_count": null,
   "metadata": {},
   "outputs": [],
   "source": [
    "saved_targets = glob.glob(SAVE_FOLDER + \"*/*.hdf5\")\n",
    "print(f\"Saved {len(saved_targets)} files\")"
   ]
  },
  {
   "cell_type": "markdown",
   "metadata": {},
   "source": [
    "## Unlabeled data"
   ]
  },
  {
   "cell_type": "markdown",
   "metadata": {},
   "source": [
    "### Data"
   ]
  },
  {
   "cell_type": "markdown",
   "metadata": {},
   "source": [
    "### Convert to h5py"
   ]
  },
  {
   "cell_type": "code",
   "execution_count": 21,
   "metadata": {},
   "outputs": [
    {
     "name": "stdout",
     "output_type": "stream",
     "text": [
      "-> Found 8444 files\n"
     ]
    }
   ],
   "source": [
    "audios = glob.glob(DATA_PATH + \"unlabeled_soundscapes/*\")\n",
    "print(f\"-> Found {len(audios)} files\")"
   ]
  },
  {
   "cell_type": "code",
   "execution_count": 22,
   "metadata": {},
   "outputs": [],
   "source": [
    "SAVE_FOLDER = DATA_PATH + \"unlabeled_features/\""
   ]
  },
  {
   "cell_type": "code",
   "execution_count": 23,
   "metadata": {},
   "outputs": [],
   "source": [
    "!rm -rf $SAVE_FOLDER"
   ]
  },
  {
   "cell_type": "code",
   "execution_count": 24,
   "metadata": {},
   "outputs": [
    {
     "name": "stdout",
     "output_type": "stream",
     "text": [
      "-> Created 1 folders\n"
     ]
    }
   ],
   "source": [
    "targets = [create_target_path(SAVE_FOLDER, f) for f in audios]\n",
    "\n",
    "os.makedirs(SAVE_FOLDER, exist_ok=True)\n",
    "for f in set([os.path.dirname(f) for f in targets]):\n",
    "    os.makedirs(f, exist_ok=True)\n",
    "\n",
    "print(f\"-> Created {len(os.listdir(SAVE_FOLDER))} folders\")"
   ]
  },
  {
   "cell_type": "code",
   "execution_count": 25,
   "metadata": {},
   "outputs": [],
   "source": [
    "fct = get_load_librosa_save_h5py(do_normalize=False, sr=32000)\n",
    "fct(audios[0], targets[0])"
   ]
  },
  {
   "cell_type": "code",
   "execution_count": 26,
   "metadata": {},
   "outputs": [
    {
     "name": "stderr",
     "output_type": "stream",
     "text": [
      "  0%|          | 0/8444 [00:00<?, ?it/s]"
     ]
    },
    {
     "name": "stderr",
     "output_type": "stream",
     "text": [
      "100%|██████████| 8444/8444 [06:28<00:00, 21.75it/s]\n"
     ]
    }
   ],
   "source": [
    "_ = ProgressParallel(n_jobs=16, total=len(audios))(\n",
    "    delayed(fct)(load_path, save_path)\n",
    "    for load_path, save_path in zip(audios, targets)\n",
    ")"
   ]
  },
  {
   "cell_type": "code",
   "execution_count": 27,
   "metadata": {},
   "outputs": [
    {
     "name": "stdout",
     "output_type": "stream",
     "text": [
      "Saved 8444 files\n"
     ]
    },
    {
     "ename": "",
     "evalue": "",
     "output_type": "error",
     "traceback": [
      "\u001b[1;31mThe Kernel crashed while executing code in the current cell or a previous cell. \n",
      "\u001b[1;31mPlease review the code in the cell(s) to identify a possible cause of the failure. \n",
      "\u001b[1;31mClick <a href='https://aka.ms/vscodeJupyterKernelCrash'>here</a> for more info. \n",
      "\u001b[1;31mView Jupyter <a href='command:jupyter.viewOutput'>log</a> for further details."
     ]
    }
   ],
   "source": [
    "saved_targets = glob.glob(SAVE_FOLDER + \"*/*.hdf5\")\n",
    "print(f\"Saved {len(saved_targets)} files\")"
   ]
  },
  {
   "cell_type": "markdown",
   "metadata": {},
   "source": [
    "### Nocall"
   ]
  },
  {
   "cell_type": "code",
   "execution_count": null,
   "metadata": {},
   "outputs": [],
   "source": [
    "paths = [\n",
    "    DATA_PATH + \"background_noise/birdclef2021_nocall/\",\n",
    "    DATA_PATH + \"background_noise/birdclef2020_nocall/\",\n",
    "    DATA_PATH + \"background_noise/freefield/\",\n",
    "    DATA_PATH + \"background_noise/warblrb/\",\n",
    "    DATA_PATH + \"background_noise/birdvox/\",\n",
    "    DATA_PATH + \"background_noise/rainforest/\",\n",
    "    DATA_PATH + \"background_noise/environment/\",\n",
    "    DATA_PATH + \"nocall_dieter/aicrowd2020_noise_30sec/noise_30sec/\",\n",
    "    DATA_PATH + \"nocall_dieter/ff1010bird_nocall/nocall/\",\n",
    "    DATA_PATH + \"nocall_dieter/train_soundscapes/nocall/\",\n",
    "]"
   ]
  },
  {
   "cell_type": "code",
   "execution_count": null,
   "metadata": {},
   "outputs": [],
   "source": [
    "max_samples = 200\n",
    "\n",
    "dfs = []\n",
    "for path in paths:\n",
    "    audios = glob.glob(path + \"*\")\n",
    "    df = pd.DataFrame({\"path\": audios})\n",
    "\n",
    "    if len(df) > max_samples:\n",
    "        df = df.sample(max_samples)\n",
    "\n",
    "    df[\"duration\"] = df[\"path\"].apply(lambda x: librosa.get_duration(path=x))\n",
    "\n",
    "    src = path.split(\"/\", 3)[-1].split('/')[0]\n",
    "    df[\"source\"] = src\n",
    "\n",
    "    df = df[df['duration'] >= 5]\n",
    "    df = df[df['duration'] <= 60]\n",
    "\n",
    "    dfs.append(df)\n",
    "\n",
    "    print(f\"-> Found {len(audios)} files in {src}\")"
   ]
  },
  {
   "cell_type": "code",
   "execution_count": null,
   "metadata": {},
   "outputs": [],
   "source": [
    "df = pd.concat(dfs, ignore_index=True)\n",
    "\n",
    "plt.figure(figsize=(15, 5))\n",
    "plt.subplot(1, 2, 1)\n",
    "sns.countplot(y=df['source'].values)\n",
    "plt.subplot(1, 2, 2)\n",
    "sns.histplot(x=df['duration'].values)\n",
    "plt.show()"
   ]
  },
  {
   "cell_type": "code",
   "execution_count": null,
   "metadata": {},
   "outputs": [],
   "source": [
    "SAVE_FOLDER = DATA_PATH + \"nocall_features/\"\n",
    "audios = df[\"path\"].values"
   ]
  },
  {
   "cell_type": "code",
   "execution_count": null,
   "metadata": {},
   "outputs": [],
   "source": [
    "targets = [create_target_path(SAVE_FOLDER, f) for f in audios]\n",
    "\n",
    "os.makedirs(SAVE_FOLDER, exist_ok=True)\n",
    "for f in set([os.path.dirname(f) for f in targets]):\n",
    "    os.makedirs(f, exist_ok=True)\n",
    "\n",
    "print(f\"-> Created {len(os.listdir(SAVE_FOLDER))} folders\")"
   ]
  },
  {
   "cell_type": "code",
   "execution_count": null,
   "metadata": {},
   "outputs": [],
   "source": [
    "fct = get_load_librosa_save_h5py(do_normalize=False, sr=32000)\n",
    "fct(audios[0], targets[0])"
   ]
  },
  {
   "cell_type": "code",
   "execution_count": null,
   "metadata": {},
   "outputs": [],
   "source": [
    "_ = ProgressParallel(n_jobs=16, total=len(audios))(\n",
    "    delayed(fct)(load_path, save_path)\n",
    "    for load_path, save_path in zip(audios, targets)\n",
    ")"
   ]
  },
  {
   "cell_type": "code",
   "execution_count": null,
   "metadata": {},
   "outputs": [],
   "source": [
    "saved_targets = glob.glob(SAVE_FOLDER + \"*/*.hdf5\")\n",
    "print(f\"Saved {len(saved_targets)} files\")"
   ]
  },
  {
   "cell_type": "markdown",
   "metadata": {},
   "source": [
    "### Duplicates"
   ]
  },
  {
   "cell_type": "code",
   "execution_count": null,
   "metadata": {},
   "outputs": [],
   "source": [
    "df_tot = pd.concat([df, df_xc])\n",
    "dups = df_tot[df_tot.duplicated(subset='id', keep=False)].sort_values('id')"
   ]
  },
  {
   "cell_type": "code",
   "execution_count": null,
   "metadata": {},
   "outputs": [],
   "source": [
    "# dups[dups['fold'] == -1].id.values.tolist()"
   ]
  },
  {
   "cell_type": "code",
   "execution_count": null,
   "metadata": {},
   "outputs": [],
   "source": [
    "dups.head(10)"
   ]
  },
  {
   "cell_type": "code",
   "execution_count": null,
   "metadata": {},
   "outputs": [],
   "source": [
    "idx = 0"
   ]
  },
  {
   "cell_type": "code",
   "execution_count": null,
   "metadata": {},
   "outputs": [],
   "source": [
    "display_audio(dups[\"path\"].values[idx])"
   ]
  },
  {
   "cell_type": "code",
   "execution_count": null,
   "metadata": {},
   "outputs": [],
   "source": [
    "display_audio(dups[\"path\"].values[idx + 1])"
   ]
  },
  {
   "cell_type": "markdown",
   "metadata": {},
   "source": [
    "Done !"
   ]
  }
 ],
 "metadata": {
  "kernelspec": {
   "display_name": "Python 3 (ipykernel)",
   "language": "python",
   "name": "python3"
  },
  "language_info": {
   "codemirror_mode": {
    "name": "ipython",
    "version": 3
   },
   "file_extension": ".py",
   "mimetype": "text/x-python",
   "name": "python",
   "nbconvert_exporter": "python",
   "pygments_lexer": "ipython3",
   "version": "3.10.12"
  }
 },
 "nbformat": 4,
 "nbformat_minor": 4
}
