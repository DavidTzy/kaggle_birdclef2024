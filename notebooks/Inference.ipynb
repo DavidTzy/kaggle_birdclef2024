{
 "cells": [
  {
   "cell_type": "markdown",
   "metadata": {},
   "source": [
    "**About** : This notebook is used to infer models."
   ]
  },
  {
   "cell_type": "code",
   "execution_count": 1,
   "metadata": {},
   "outputs": [],
   "source": [
    "%load_ext autoreload\n",
    "%autoreload 2"
   ]
  },
  {
   "cell_type": "code",
   "execution_count": 2,
   "metadata": {},
   "outputs": [
    {
     "name": "stdout",
     "output_type": "stream",
     "text": [
      "/home/tviel/work/kaggle_birdclef_2024/src\n"
     ]
    },
    {
     "name": "stderr",
     "output_type": "stream",
     "text": [
      "/home/tviel/.local/lib/python3.10/site-packages/IPython/core/magics/osm.py:417: UserWarning: using dhist requires you to install the `pickleshare` library.\n",
      "  self.shell.db['dhist'] = compress_dhist(dhist)[-100:]\n"
     ]
    }
   ],
   "source": [
    "cd ../src/"
   ]
  },
  {
   "cell_type": "markdown",
   "metadata": {},
   "source": [
    "### Imports"
   ]
  },
  {
   "cell_type": "code",
   "execution_count": 3,
   "metadata": {},
   "outputs": [],
   "source": [
    "import os\n",
    "import gc\n",
    "import sys\n",
    "import cv2\n",
    "import glob\n",
    "import json\n",
    "import torch\n",
    "import shutil\n",
    "import librosa\n",
    "import warnings\n",
    "import numpy as np\n",
    "import pandas as pd\n",
    "import seaborn as sns\n",
    "import torch.nn.functional as F\n",
    "import matplotlib.pyplot as plt\n",
    "\n",
    "from tqdm import tqdm\n",
    "from joblib import Parallel, delayed"
   ]
  },
  {
   "cell_type": "code",
   "execution_count": 4,
   "metadata": {},
   "outputs": [
    {
     "name": "stderr",
     "output_type": "stream",
     "text": [
      "/home/tviel/.local/lib/python3.10/site-packages/transformers/utils/generic.py:441: UserWarning: torch.utils._pytree._register_pytree_node is deprecated. Please use torch.utils._pytree.register_pytree_node instead.\n",
      "  _torch_pytree._register_pytree_node(\n"
     ]
    }
   ],
   "source": [
    "from util.logger import Config\n",
    "from util.metrics import macro_auc\n",
    "from util.torch import load_model_weights\n",
    "\n",
    "from data.dataset import WaveInfDataset\n",
    "from data.preparation import prepare_data, prepare_folds\n",
    "from data.processing import create_target_path, ProgressParallel, get_load_librosa_save_h5py\n",
    "\n",
    "from model_zoo.models import define_model\n",
    "from inference.predict import predict\n",
    "\n",
    "from params import CLASSES"
   ]
  },
  {
   "cell_type": "markdown",
   "metadata": {},
   "source": [
    "### Params"
   ]
  },
  {
   "cell_type": "code",
   "execution_count": 10,
   "metadata": {},
   "outputs": [],
   "source": [
    "EVAL = True"
   ]
  },
  {
   "cell_type": "code",
   "execution_count": 11,
   "metadata": {},
   "outputs": [],
   "source": [
    "if EVAL:\n",
    "    DATA_PATH = \"../input/train_audio/\"\n",
    "else:\n",
    "    DATA_PATH = \"../input/test_soundscapes/\"\n",
    "\n",
    "SAVE_FOLDER = \"../output/tmp/\"\n",
    "\n",
    "if os.path.exists(SAVE_FOLDER):\n",
    "    shutil.rmtree(SAVE_FOLDER)\n",
    "os.makedirs(SAVE_FOLDER)"
   ]
  },
  {
   "cell_type": "code",
   "execution_count": 12,
   "metadata": {},
   "outputs": [],
   "source": [
    "BATCH_SIZE = 32\n",
    "USE_FP16 = True\n",
    "NUM_WORKERS = 2\n",
    "\n",
    "DEVICE = \"cuda\" if torch.cuda.is_available() else \"cpu\"\n",
    "\n",
    "DURATION = 5\n",
    "SR = 32000"
   ]
  },
  {
   "cell_type": "code",
   "execution_count": 83,
   "metadata": {},
   "outputs": [],
   "source": [
    "FOLD = 0 if EVAL else \"fullfit_0\"\n",
    "\n",
    "EXP_FOLDERS = [\n",
    "    # (\"../logs/2024-04-12/8/\", [FOLD]),   # 0.978 / 0.972\n",
    "    # (\"../logs/2024-04-15/0/\", [FOLD]),\n",
    "    # (\"../logs/2024-04-16/15/\", [FOLD]),  # 0.983 / 0.977\n",
    "    # ('../logs/2024-04-16/17/', [FOLD]),  # 0.987 / 0.982\n",
    "]"
   ]
  },
  {
   "cell_type": "code",
   "execution_count": 84,
   "metadata": {},
   "outputs": [],
   "source": [
    "# from util.logger import upload_to_kaggle\n",
    "\n",
    "# upload_to_kaggle(\n",
    "#     [f for f, _ in EXP_FOLDERS],\n",
    "#     directory=\"../output/dataset_1/\",\n",
    "#     dataset_name=\"BirdCLEF 2024 Weights 1\",\n",
    "#     update_folders=True\n",
    "# )"
   ]
  },
  {
   "cell_type": "markdown",
   "metadata": {},
   "source": [
    "### Preprocessing"
   ]
  },
  {
   "cell_type": "code",
   "execution_count": 85,
   "metadata": {},
   "outputs": [],
   "source": [
    "if EVAL:\n",
    "    df = pd.DataFrame({\"path\": glob.glob(DATA_PATH + \"*/*\")})\n",
    "    df[\"id\"] = df[\"path\"].apply(lambda x: x.split(\"/\")[-1][:-4])\n",
    "\n",
    "    folds = pd.read_csv('../input/folds_4.csv')\n",
    "    folds['id'] = folds['filename'].apply(lambda x: x.split('/')[-1][:-4])\n",
    "    df = df.merge(folds)\n",
    "    df = df[df['fold'] == 0].reset_index(drop=True)\n",
    "\n",
    "    df[\"primary_label\"] = df[\"path\"].apply(lambda x:  x.split('/')[-2])\n",
    "else:\n",
    "    df = pd.DataFrame({\"path\": glob.glob(DATA_PATH + \"*\")})\n",
    "    df[\"id\"] = df[\"path\"].apply(lambda x: x.split(\"/\")[-1][:-4])\n",
    "\n",
    "df[\"duration\"] = df[\"path\"].apply(lambda x: librosa.get_duration(path=x))\n",
    "\n",
    "df['slice'] = df['duration'].apply(lambda x: [(DURATION * i * SR, DURATION * (i + 1) * SR) for i in range(int(np.ceil(x / DURATION)))])\n",
    "df = df.explode(\"slice\")\n",
    "\n",
    "df[\"t_end\"] = DURATION\n",
    "df['t_end'] = df[[\"id\", \"t_end\"]].groupby(\"id\").cumsum()\n",
    "\n",
    "if EVAL:\n",
    "    df = df[df['t_end'] == 5]"
   ]
  },
  {
   "cell_type": "markdown",
   "metadata": {},
   "source": [
    "### Models"
   ]
  },
  {
   "cell_type": "code",
   "execution_count": 86,
   "metadata": {},
   "outputs": [
    {
     "name": "stdout",
     "output_type": "stream",
     "text": [
      "\n",
      " -> Loading encoder weights from ../logs/2024-04-12/8/tf_efficientnetv2_s_0.pt\n",
      "\n"
     ]
    }
   ],
   "source": [
    "models = []\n",
    "\n",
    "for exp_folder, folds in EXP_FOLDERS:\n",
    "    models_ = []\n",
    "    config = Config(json.load(open(exp_folder + \"config.json\", \"r\")))\n",
    "\n",
    "    model = define_model(\n",
    "        config.name,\n",
    "        config.melspec_config,\n",
    "        head=config.head,\n",
    "        aug_config=config.aug_config,\n",
    "        num_classes=config.num_classes,\n",
    "        n_channels=config.n_channels,\n",
    "        drop_rate=config.drop_rate,\n",
    "        drop_path_rate=config.drop_path_rate,\n",
    "        increase_stride=config.increase_stride,\n",
    "        verbose=True,\n",
    "        pretrained=False\n",
    "    )\n",
    "    model = model.to(DEVICE).eval()\n",
    "    \n",
    "    for fold in folds:\n",
    "        weights = exp_folder + f\"{config.name}_{fold}.pt\"\n",
    "        model = load_model_weights(model, weights, verbose=config.local_rank == 0)\n",
    "        models_.append(model)\n",
    "        \n",
    "    models.append(models_)"
   ]
  },
  {
   "cell_type": "code",
   "execution_count": 87,
   "metadata": {},
   "outputs": [],
   "source": [
    "dataset = WaveInfDataset(\n",
    "    df,\n",
    "    normalize=config.normalize,\n",
    "    max_len=config.melspec_config[\"sample_rate\"] * config.duration,\n",
    ")"
   ]
  },
  {
   "cell_type": "code",
   "execution_count": 88,
   "metadata": {},
   "outputs": [
    {
     "data": {
      "application/vnd.jupyter.widget-view+json": {
       "model_id": "77c90ea06d774797946699147d2838f7",
       "version_major": 2,
       "version_minor": 0
      },
      "text/plain": [
       "  0%|          | 0/191 [00:00<?, ?it/s]"
      ]
     },
     "metadata": {},
     "output_type": "display_data"
    }
   ],
   "source": [
    "preds = predict(\n",
    "    model,\n",
    "    dataset,\n",
    "    config.loss_config,\n",
    "    batch_size=BATCH_SIZE,\n",
    "    device=DEVICE,\n",
    "    use_fp16=USE_FP16,\n",
    "    num_workers=NUM_WORKERS,\n",
    ")"
   ]
  },
  {
   "cell_type": "code",
   "execution_count": 89,
   "metadata": {},
   "outputs": [
    {
     "name": "stdout",
     "output_type": "stream",
     "text": [
      "Fold 0 AUC: 0.978\n"
     ]
    }
   ],
   "source": [
    "if EVAL:\n",
    "    auc = macro_auc(df[\"primary_label\"].values.tolist(), preds)\n",
    "    print(f'Fold 0 AUC: {auc:.3f}')"
   ]
  },
  {
   "cell_type": "code",
   "execution_count": 90,
   "metadata": {},
   "outputs": [
    {
     "name": "stdout",
     "output_type": "stream",
     "text": [
      "Fold 0 AUC:\t 0.978\n",
      "Fold 0 AUC_s:\t 0.972\n"
     ]
    }
   ],
   "source": [
    "if EVAL:\n",
    "    from data.preparation import prepare_data\n",
    "    from data.dataset import WaveDataset\n",
    "\n",
    "    df_ = prepare_data()\n",
    "    df_ = df_[df_['fold'] == 0].reset_index(drop=True)\n",
    "    df = df.merge(df_[[\"filename\", \"secondary_labels\"]], how=\"left\")\n",
    "    df['path_ft'] = df['path']\n",
    "    dataset = WaveDataset(df)\n",
    "\n",
    "    y, y_s = dataset.get_targets()\n",
    "\n",
    "    auc = macro_auc(y, preds)\n",
    "    print(f'Fold 0 AUC:\\t {auc:.3f}')\n",
    "    \n",
    "    auc = macro_auc(y_s, preds)\n",
    "    print(f'Fold 0 AUC_s:\\t {auc:.3f}')"
   ]
  },
  {
   "cell_type": "code",
   "execution_count": 19,
   "metadata": {},
   "outputs": [
    {
     "data": {
      "text/html": [
       "<div>\n",
       "<style scoped>\n",
       "    .dataframe tbody tr th:only-of-type {\n",
       "        vertical-align: middle;\n",
       "    }\n",
       "\n",
       "    .dataframe tbody tr th {\n",
       "        vertical-align: top;\n",
       "    }\n",
       "\n",
       "    .dataframe thead th {\n",
       "        text-align: right;\n",
       "    }\n",
       "</style>\n",
       "<table border=\"1\" class=\"dataframe\">\n",
       "  <thead>\n",
       "    <tr style=\"text-align: right;\">\n",
       "      <th></th>\n",
       "      <th>row_id</th>\n",
       "      <th>asbfly</th>\n",
       "      <th>ashdro1</th>\n",
       "      <th>ashpri1</th>\n",
       "      <th>ashwoo2</th>\n",
       "      <th>asikoe2</th>\n",
       "      <th>asiope1</th>\n",
       "      <th>aspfly1</th>\n",
       "      <th>aspswi1</th>\n",
       "      <th>barfly1</th>\n",
       "      <th>...</th>\n",
       "      <th>whbwoo2</th>\n",
       "      <th>whcbar1</th>\n",
       "      <th>whiter2</th>\n",
       "      <th>whrmun</th>\n",
       "      <th>whtkin2</th>\n",
       "      <th>woosan</th>\n",
       "      <th>wynlau1</th>\n",
       "      <th>yebbab1</th>\n",
       "      <th>yebbul3</th>\n",
       "      <th>zitcis1</th>\n",
       "    </tr>\n",
       "  </thead>\n",
       "  <tbody>\n",
       "    <tr>\n",
       "      <th>0</th>\n",
       "      <td>XC199339_5</td>\n",
       "      <td>0.016983</td>\n",
       "      <td>0.001289</td>\n",
       "      <td>0.002068</td>\n",
       "      <td>0.000238</td>\n",
       "      <td>0.002090</td>\n",
       "      <td>0.000421</td>\n",
       "      <td>0.001053</td>\n",
       "      <td>0.000077</td>\n",
       "      <td>0.000750</td>\n",
       "      <td>...</td>\n",
       "      <td>0.000419</td>\n",
       "      <td>0.000175</td>\n",
       "      <td>0.002165</td>\n",
       "      <td>0.000602</td>\n",
       "      <td>0.003351</td>\n",
       "      <td>0.035828</td>\n",
       "      <td>0.000145</td>\n",
       "      <td>0.000296</td>\n",
       "      <td>0.000225</td>\n",
       "      <td>0.052917</td>\n",
       "    </tr>\n",
       "    <tr>\n",
       "      <th>1</th>\n",
       "      <td>XC199339_10</td>\n",
       "      <td>0.074524</td>\n",
       "      <td>0.000785</td>\n",
       "      <td>0.000497</td>\n",
       "      <td>0.000028</td>\n",
       "      <td>0.001554</td>\n",
       "      <td>0.000265</td>\n",
       "      <td>0.000274</td>\n",
       "      <td>0.000021</td>\n",
       "      <td>0.000789</td>\n",
       "      <td>...</td>\n",
       "      <td>0.000542</td>\n",
       "      <td>0.000171</td>\n",
       "      <td>0.000573</td>\n",
       "      <td>0.000137</td>\n",
       "      <td>0.002209</td>\n",
       "      <td>0.006798</td>\n",
       "      <td>0.000089</td>\n",
       "      <td>0.000181</td>\n",
       "      <td>0.000278</td>\n",
       "      <td>0.001629</td>\n",
       "    </tr>\n",
       "    <tr>\n",
       "      <th>2</th>\n",
       "      <td>XC199339_15</td>\n",
       "      <td>0.000373</td>\n",
       "      <td>0.000134</td>\n",
       "      <td>0.000161</td>\n",
       "      <td>0.000041</td>\n",
       "      <td>0.000330</td>\n",
       "      <td>0.000016</td>\n",
       "      <td>0.000050</td>\n",
       "      <td>0.000003</td>\n",
       "      <td>0.000031</td>\n",
       "      <td>...</td>\n",
       "      <td>0.000162</td>\n",
       "      <td>0.000004</td>\n",
       "      <td>0.000202</td>\n",
       "      <td>0.000056</td>\n",
       "      <td>0.000391</td>\n",
       "      <td>0.004101</td>\n",
       "      <td>0.000012</td>\n",
       "      <td>0.000020</td>\n",
       "      <td>0.000014</td>\n",
       "      <td>0.009857</td>\n",
       "    </tr>\n",
       "    <tr>\n",
       "      <th>3</th>\n",
       "      <td>XC757943_5</td>\n",
       "      <td>0.000283</td>\n",
       "      <td>0.000227</td>\n",
       "      <td>0.000900</td>\n",
       "      <td>0.000009</td>\n",
       "      <td>0.000859</td>\n",
       "      <td>0.000158</td>\n",
       "      <td>0.000081</td>\n",
       "      <td>0.000014</td>\n",
       "      <td>0.000188</td>\n",
       "      <td>...</td>\n",
       "      <td>0.000199</td>\n",
       "      <td>0.000074</td>\n",
       "      <td>0.000873</td>\n",
       "      <td>0.000085</td>\n",
       "      <td>0.001095</td>\n",
       "      <td>0.009933</td>\n",
       "      <td>0.000012</td>\n",
       "      <td>0.000081</td>\n",
       "      <td>0.000073</td>\n",
       "      <td>0.004280</td>\n",
       "    </tr>\n",
       "    <tr>\n",
       "      <th>4</th>\n",
       "      <td>XC246306_5</td>\n",
       "      <td>0.003351</td>\n",
       "      <td>0.001616</td>\n",
       "      <td>0.014229</td>\n",
       "      <td>0.000251</td>\n",
       "      <td>0.022415</td>\n",
       "      <td>0.000811</td>\n",
       "      <td>0.001661</td>\n",
       "      <td>0.000735</td>\n",
       "      <td>0.003651</td>\n",
       "      <td>...</td>\n",
       "      <td>0.006145</td>\n",
       "      <td>0.004906</td>\n",
       "      <td>0.002150</td>\n",
       "      <td>0.001554</td>\n",
       "      <td>0.006771</td>\n",
       "      <td>0.007374</td>\n",
       "      <td>0.001184</td>\n",
       "      <td>0.001525</td>\n",
       "      <td>0.001897</td>\n",
       "      <td>0.006931</td>\n",
       "    </tr>\n",
       "  </tbody>\n",
       "</table>\n",
       "<p>5 rows × 183 columns</p>\n",
       "</div>"
      ],
      "text/plain": [
       "        row_id    asbfly   ashdro1   ashpri1   ashwoo2   asikoe2   asiope1  \\\n",
       "0   XC199339_5  0.016983  0.001289  0.002068  0.000238  0.002090  0.000421   \n",
       "1  XC199339_10  0.074524  0.000785  0.000497  0.000028  0.001554  0.000265   \n",
       "2  XC199339_15  0.000373  0.000134  0.000161  0.000041  0.000330  0.000016   \n",
       "3   XC757943_5  0.000283  0.000227  0.000900  0.000009  0.000859  0.000158   \n",
       "4   XC246306_5  0.003351  0.001616  0.014229  0.000251  0.022415  0.000811   \n",
       "\n",
       "    aspfly1   aspswi1   barfly1  ...   whbwoo2   whcbar1   whiter2    whrmun  \\\n",
       "0  0.001053  0.000077  0.000750  ...  0.000419  0.000175  0.002165  0.000602   \n",
       "1  0.000274  0.000021  0.000789  ...  0.000542  0.000171  0.000573  0.000137   \n",
       "2  0.000050  0.000003  0.000031  ...  0.000162  0.000004  0.000202  0.000056   \n",
       "3  0.000081  0.000014  0.000188  ...  0.000199  0.000074  0.000873  0.000085   \n",
       "4  0.001661  0.000735  0.003651  ...  0.006145  0.004906  0.002150  0.001554   \n",
       "\n",
       "    whtkin2    woosan   wynlau1   yebbab1   yebbul3   zitcis1  \n",
       "0  0.003351  0.035828  0.000145  0.000296  0.000225  0.052917  \n",
       "1  0.002209  0.006798  0.000089  0.000181  0.000278  0.001629  \n",
       "2  0.000391  0.004101  0.000012  0.000020  0.000014  0.009857  \n",
       "3  0.001095  0.009933  0.000012  0.000081  0.000073  0.004280  \n",
       "4  0.006771  0.007374  0.001184  0.001525  0.001897  0.006931  \n",
       "\n",
       "[5 rows x 183 columns]"
      ]
     },
     "execution_count": 19,
     "metadata": {},
     "output_type": "execute_result"
    }
   ],
   "source": [
    "sub = pd.DataFrame((df[\"id\"] + \"_\" + df[\"t_end\"].astype(str)).values, columns=['row_id'])\n",
    "sub.loc[:, CLASSES] = preds\n",
    "# sub.to_csv('submission.csv', index=False)\n",
    "sub.head()"
   ]
  },
  {
   "cell_type": "markdown",
   "metadata": {},
   "source": [
    "Done ! "
   ]
  }
 ],
 "metadata": {
  "kernelspec": {
   "display_name": "Python 3 (ipykernel)",
   "language": "python",
   "name": "python3"
  },
  "language_info": {
   "codemirror_mode": {
    "name": "ipython",
    "version": 3
   },
   "file_extension": ".py",
   "mimetype": "text/x-python",
   "name": "python",
   "nbconvert_exporter": "python",
   "pygments_lexer": "ipython3",
   "version": "3.10.12"
  },
  "vscode": {
   "interpreter": {
    "hash": "f7241b2af102f7e024509099765066b36197b195077f7bfac6e5bc041ba17c8c"
   }
  }
 },
 "nbformat": 4,
 "nbformat_minor": 4
}
