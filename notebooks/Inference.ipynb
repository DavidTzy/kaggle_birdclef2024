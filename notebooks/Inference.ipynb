{
 "cells": [
  {
   "cell_type": "markdown",
   "metadata": {},
   "source": [
    "**About** : This notebook is used to infer models."
   ]
  },
  {
   "cell_type": "code",
   "execution_count": 1,
   "metadata": {},
   "outputs": [],
   "source": [
    "%load_ext autoreload\n",
    "%autoreload 2"
   ]
  },
  {
   "cell_type": "code",
   "execution_count": 2,
   "metadata": {},
   "outputs": [
    {
     "name": "stdout",
     "output_type": "stream",
     "text": [
      "/home/tviel/work/kaggle_birdclef_2024/src\n"
     ]
    },
    {
     "name": "stderr",
     "output_type": "stream",
     "text": [
      "/home/tviel/.local/lib/python3.10/site-packages/IPython/core/magics/osm.py:417: UserWarning: using dhist requires you to install the `pickleshare` library.\n",
      "  self.shell.db['dhist'] = compress_dhist(dhist)[-100:]\n"
     ]
    }
   ],
   "source": [
    "cd ../src/"
   ]
  },
  {
   "cell_type": "markdown",
   "metadata": {},
   "source": [
    "### Imports"
   ]
  },
  {
   "cell_type": "code",
   "execution_count": 3,
   "metadata": {},
   "outputs": [],
   "source": [
    "import os\n",
    "import gc\n",
    "import sys\n",
    "import cv2\n",
    "import glob\n",
    "import json\n",
    "import torch\n",
    "import shutil\n",
    "import librosa\n",
    "import warnings\n",
    "import numpy as np\n",
    "import pandas as pd\n",
    "import seaborn as sns\n",
    "import torch.nn.functional as F\n",
    "import matplotlib.pyplot as plt\n",
    "\n",
    "from tqdm import tqdm\n",
    "from joblib import Parallel, delayed"
   ]
  },
  {
   "cell_type": "code",
   "execution_count": 98,
   "metadata": {},
   "outputs": [],
   "source": [
    "from util.logger import Config\n",
    "from util.metrics import macro_auc\n",
    "from util.torch import load_model_weights\n",
    "\n",
    "from data.dataset import WaveInfDataset\n",
    "from data.preparation import prepare_data, prepare_folds\n",
    "from data.processing import create_target_path, ProgressParallel, get_load_librosa_save_h5py\n",
    "\n",
    "from model_zoo.models import define_model\n",
    "from inference.predict import predict\n",
    "\n",
    "from params import CLASSES"
   ]
  },
  {
   "cell_type": "markdown",
   "metadata": {},
   "source": [
    "### Params"
   ]
  },
  {
   "cell_type": "code",
   "execution_count": 100,
   "metadata": {},
   "outputs": [],
   "source": [
    "EVAL = False"
   ]
  },
  {
   "cell_type": "code",
   "execution_count": 101,
   "metadata": {},
   "outputs": [],
   "source": [
    "if EVAL:\n",
    "    DATA_PATH = \"../input/train_audio/\"\n",
    "else:\n",
    "    DATA_PATH = \"../input/test_soundscapes/\"\n",
    "\n",
    "SAVE_FOLDER = \"../output/tmp/\"\n",
    "\n",
    "if os.path.exists(SAVE_FOLDER):\n",
    "    shutil.rmtree(SAVE_FOLDER)\n",
    "os.makedirs(SAVE_FOLDER)"
   ]
  },
  {
   "cell_type": "code",
   "execution_count": 102,
   "metadata": {},
   "outputs": [],
   "source": [
    "BATCH_SIZE = 32\n",
    "USE_FP16 = True\n",
    "NUM_WORKERS = 2\n",
    "\n",
    "DEVICE = \"cuda\" if torch.cuda.is_available() else \"cpu\""
   ]
  },
  {
   "cell_type": "code",
   "execution_count": 103,
   "metadata": {},
   "outputs": [],
   "source": [
    "FOLD = 0 if EVAL else \"fullfit_0\"\n",
    "\n",
    "EXP_FOLDERS = [\n",
    "    (\"../logs/2024-04-12/8/\", [FOLD]),\n",
    "]"
   ]
  },
  {
   "cell_type": "code",
   "execution_count": 104,
   "metadata": {},
   "outputs": [],
   "source": [
    "# from util.logger import upload_to_kaggle\n",
    "\n",
    "# upload_to_kaggle(\n",
    "#     [f for f, _ in EXP_FOLDERS],\n",
    "#     directory=\"../output/dataset_1/\",\n",
    "#     dataset_name=\"BirdCLEF 2024 Weights 1\",\n",
    "#     update_folders=True\n",
    "# )"
   ]
  },
  {
   "cell_type": "markdown",
   "metadata": {},
   "source": [
    "### Preprocessing"
   ]
  },
  {
   "cell_type": "code",
   "execution_count": 105,
   "metadata": {},
   "outputs": [],
   "source": [
    "DURATION, SR = 5, 32000"
   ]
  },
  {
   "cell_type": "code",
   "execution_count": 87,
   "metadata": {},
   "outputs": [],
   "source": [
    "df = pd.DataFrame({\"path\": glob.glob(DATA_PATH + \"*/*\"),})\n",
    "df[\"id\"] = df[\"path\"].apply(lambda x: x.split(\"/\")[-1][:-4])\n",
    "\n",
    "if EVAL:\n",
    "    folds = pd.read_csv('../input/folds_4.csv')\n",
    "    folds['id'] = folds['filename'].apply(lambda x: x.split('/')[-1][:-4])\n",
    "    df = df.merge(folds)\n",
    "    df = df[df['fold'] == 0].reset_index(drop=True)\n",
    "\n",
    "    df[\"primary_label\"] = df[\"path\"].apply(lambda x:  x.split('/')[-2])\n",
    "\n",
    "df[\"DURATION\"] = df[\"path\"].apply(lambda x: librosa.get_DURATION(path=x))\n",
    "\n",
    "df['slice'] = df['DURATION'].apply(lambda x: [(DURATION * i * SR, DURATION * (i + 1) * SR) for i in range(int(np.ceil(x / segment_len)))])\n",
    "df = df.explode(\"slice\")\n",
    "\n",
    "df[\"t_end\"] = DURATION\n",
    "df['t_end'] = df[[\"id\", \"t_end\"]].groupby(\"id\").cumsum()\n",
    "\n",
    "if EVAL:\n",
    "    df = df[df['t_end'] == 5]"
   ]
  },
  {
   "cell_type": "code",
   "execution_count": 88,
   "metadata": {},
   "outputs": [
    {
     "data": {
      "text/html": [
       "<div>\n",
       "<style scoped>\n",
       "    .dataframe tbody tr th:only-of-type {\n",
       "        vertical-align: middle;\n",
       "    }\n",
       "\n",
       "    .dataframe tbody tr th {\n",
       "        vertical-align: top;\n",
       "    }\n",
       "\n",
       "    .dataframe thead th {\n",
       "        text-align: right;\n",
       "    }\n",
       "</style>\n",
       "<table border=\"1\" class=\"dataframe\">\n",
       "  <thead>\n",
       "    <tr style=\"text-align: right;\">\n",
       "      <th></th>\n",
       "      <th>path</th>\n",
       "      <th>id</th>\n",
       "      <th>filename</th>\n",
       "      <th>fold</th>\n",
       "      <th>primary_label</th>\n",
       "      <th>duration</th>\n",
       "      <th>slice</th>\n",
       "      <th>t_end</th>\n",
       "    </tr>\n",
       "  </thead>\n",
       "  <tbody>\n",
       "    <tr>\n",
       "      <th>0</th>\n",
       "      <td>../input/train_audio/rorpar/XC199339.ogg</td>\n",
       "      <td>XC199339</td>\n",
       "      <td>rorpar/XC199339.ogg</td>\n",
       "      <td>0</td>\n",
       "      <td>rorpar</td>\n",
       "      <td>13.165719</td>\n",
       "      <td>(0, 160000)</td>\n",
       "      <td>5</td>\n",
       "    </tr>\n",
       "    <tr>\n",
       "      <th>1</th>\n",
       "      <td>../input/train_audio/rorpar/XC757943.ogg</td>\n",
       "      <td>XC757943</td>\n",
       "      <td>rorpar/XC757943.ogg</td>\n",
       "      <td>0</td>\n",
       "      <td>rorpar</td>\n",
       "      <td>1.752000</td>\n",
       "      <td>(0, 160000)</td>\n",
       "      <td>5</td>\n",
       "    </tr>\n",
       "    <tr>\n",
       "      <th>2</th>\n",
       "      <td>../input/train_audio/rorpar/XC246306.ogg</td>\n",
       "      <td>XC246306</td>\n",
       "      <td>rorpar/XC246306.ogg</td>\n",
       "      <td>0</td>\n",
       "      <td>rorpar</td>\n",
       "      <td>202.448969</td>\n",
       "      <td>(0, 160000)</td>\n",
       "      <td>5</td>\n",
       "    </tr>\n",
       "    <tr>\n",
       "      <th>3</th>\n",
       "      <td>../input/train_audio/rorpar/XC446300.ogg</td>\n",
       "      <td>XC446300</td>\n",
       "      <td>rorpar/XC446300.ogg</td>\n",
       "      <td>0</td>\n",
       "      <td>rorpar</td>\n",
       "      <td>18.960000</td>\n",
       "      <td>(0, 160000)</td>\n",
       "      <td>5</td>\n",
       "    </tr>\n",
       "    <tr>\n",
       "      <th>4</th>\n",
       "      <td>../input/train_audio/rorpar/XC606439.ogg</td>\n",
       "      <td>XC606439</td>\n",
       "      <td>rorpar/XC606439.ogg</td>\n",
       "      <td>0</td>\n",
       "      <td>rorpar</td>\n",
       "      <td>8.688000</td>\n",
       "      <td>(0, 160000)</td>\n",
       "      <td>5</td>\n",
       "    </tr>\n",
       "  </tbody>\n",
       "</table>\n",
       "</div>"
      ],
      "text/plain": [
       "                                       path        id             filename  \\\n",
       "0  ../input/train_audio/rorpar/XC199339.ogg  XC199339  rorpar/XC199339.ogg   \n",
       "1  ../input/train_audio/rorpar/XC757943.ogg  XC757943  rorpar/XC757943.ogg   \n",
       "2  ../input/train_audio/rorpar/XC246306.ogg  XC246306  rorpar/XC246306.ogg   \n",
       "3  ../input/train_audio/rorpar/XC446300.ogg  XC446300  rorpar/XC446300.ogg   \n",
       "4  ../input/train_audio/rorpar/XC606439.ogg  XC606439  rorpar/XC606439.ogg   \n",
       "\n",
       "   fold primary_label    duration        slice  t_end  \n",
       "0     0        rorpar   13.165719  (0, 160000)      5  \n",
       "1     0        rorpar    1.752000  (0, 160000)      5  \n",
       "2     0        rorpar  202.448969  (0, 160000)      5  \n",
       "3     0        rorpar   18.960000  (0, 160000)      5  \n",
       "4     0        rorpar    8.688000  (0, 160000)      5  "
      ]
     },
     "execution_count": 88,
     "metadata": {},
     "output_type": "execute_result"
    }
   ],
   "source": [
    "df.head()"
   ]
  },
  {
   "cell_type": "markdown",
   "metadata": {},
   "source": [
    "### Models"
   ]
  },
  {
   "cell_type": "code",
   "execution_count": 89,
   "metadata": {},
   "outputs": [
    {
     "name": "stdout",
     "output_type": "stream",
     "text": [
      "\n",
      " -> Loading encoder weights from ../logs/2024-04-12/8/tf_efficientnetv2_s_0.pt\n",
      "\n"
     ]
    }
   ],
   "source": [
    "models = []\n",
    "\n",
    "for exp_folder, folds in EXP_FOLDERS:\n",
    "    models_ = []\n",
    "    config = Config(json.load(open(exp_folder + \"config.json\", \"r\")))\n",
    "\n",
    "    model = define_model(\n",
    "        config.name,\n",
    "        config.melspec_config,\n",
    "        head=config.head,\n",
    "        aug_config=config.aug_config,\n",
    "        num_classes=config.num_classes,\n",
    "        n_channels=config.n_channels,\n",
    "        drop_rate=config.drop_rate,\n",
    "        drop_path_rate=config.drop_path_rate,\n",
    "        increase_stride=config.increase_stride,\n",
    "        verbose=True,\n",
    "        pretrained=False\n",
    "    )\n",
    "    model = model.to(DEVICE).eval()\n",
    "    \n",
    "    for fold in folds:\n",
    "        weights = exp_folder + f\"{config.name}_{fold}.pt\"\n",
    "        model = load_model_weights(model, weights, verbose=config.local_rank == 0)\n",
    "        models_.append(model)\n",
    "        \n",
    "    models.append(models_)"
   ]
  },
  {
   "cell_type": "code",
   "execution_count": 90,
   "metadata": {},
   "outputs": [],
   "source": [
    "dataset = WaveInfDataset(\n",
    "    df,\n",
    "    normalize=config.normalize,\n",
    "    max_len=config.melspec_config[\"sample_rate\"] * config.duration,\n",
    ")"
   ]
  },
  {
   "cell_type": "code",
   "execution_count": 91,
   "metadata": {},
   "outputs": [
    {
     "data": {
      "application/vnd.jupyter.widget-view+json": {
       "model_id": "cfa763e6b630423397564971db594264",
       "version_major": 2,
       "version_minor": 0
      },
      "text/plain": [
       "  0%|          | 0/191 [00:00<?, ?it/s]"
      ]
     },
     "metadata": {},
     "output_type": "display_data"
    }
   ],
   "source": [
    "preds = predict(\n",
    "    model,\n",
    "    dataset,\n",
    "    config.loss_config,\n",
    "    batch_size=BATCH_SIZE,\n",
    "    device=DEVICE,\n",
    "    use_fp16=USE_FP16,\n",
    "    num_workers=NUM_WORKERS,\n",
    ")"
   ]
  },
  {
   "cell_type": "code",
   "execution_count": 92,
   "metadata": {},
   "outputs": [
    {
     "name": "stdout",
     "output_type": "stream",
     "text": [
      "Fold 0 AUC: 0.978\n"
     ]
    }
   ],
   "source": [
    "if EVAL:\n",
    "    # dataset.use_secondary_labels = True\n",
    "    # y = dataset.get_targets()\n",
    "    # auc = macro_auc(y, preds)\n",
    "\n",
    "    auc = macro_auc(df[\"primary_label\"].values.tolist(), preds)\n",
    "    print(f'Fold 0 AUC: {auc:.3f}')"
   ]
  },
  {
   "cell_type": "code",
   "execution_count": 99,
   "metadata": {},
   "outputs": [
    {
     "data": {
      "text/html": [
       "<div>\n",
       "<style scoped>\n",
       "    .dataframe tbody tr th:only-of-type {\n",
       "        vertical-align: middle;\n",
       "    }\n",
       "\n",
       "    .dataframe tbody tr th {\n",
       "        vertical-align: top;\n",
       "    }\n",
       "\n",
       "    .dataframe thead th {\n",
       "        text-align: right;\n",
       "    }\n",
       "</style>\n",
       "<table border=\"1\" class=\"dataframe\">\n",
       "  <thead>\n",
       "    <tr style=\"text-align: right;\">\n",
       "      <th></th>\n",
       "      <th>row_id</th>\n",
       "      <th>asbfly</th>\n",
       "      <th>ashdro1</th>\n",
       "      <th>ashpri1</th>\n",
       "      <th>ashwoo2</th>\n",
       "      <th>asikoe2</th>\n",
       "      <th>asiope1</th>\n",
       "      <th>aspfly1</th>\n",
       "      <th>aspswi1</th>\n",
       "      <th>barfly1</th>\n",
       "      <th>...</th>\n",
       "      <th>whbwoo2</th>\n",
       "      <th>whcbar1</th>\n",
       "      <th>whiter2</th>\n",
       "      <th>whrmun</th>\n",
       "      <th>whtkin2</th>\n",
       "      <th>woosan</th>\n",
       "      <th>wynlau1</th>\n",
       "      <th>yebbab1</th>\n",
       "      <th>yebbul3</th>\n",
       "      <th>zitcis1</th>\n",
       "    </tr>\n",
       "  </thead>\n",
       "  <tbody>\n",
       "    <tr>\n",
       "      <th>0</th>\n",
       "      <td>XC199339_5</td>\n",
       "      <td>0.047516</td>\n",
       "      <td>0.001040</td>\n",
       "      <td>0.004467</td>\n",
       "      <td>0.000707</td>\n",
       "      <td>0.003136</td>\n",
       "      <td>0.000178</td>\n",
       "      <td>0.001467</td>\n",
       "      <td>0.000070</td>\n",
       "      <td>0.001095</td>\n",
       "      <td>...</td>\n",
       "      <td>0.000631</td>\n",
       "      <td>0.000911</td>\n",
       "      <td>0.005775</td>\n",
       "      <td>0.000360</td>\n",
       "      <td>0.004055</td>\n",
       "      <td>0.007011</td>\n",
       "      <td>0.000196</td>\n",
       "      <td>0.000174</td>\n",
       "      <td>0.000136</td>\n",
       "      <td>0.160400</td>\n",
       "    </tr>\n",
       "    <tr>\n",
       "      <th>1</th>\n",
       "      <td>XC757943_5</td>\n",
       "      <td>0.000255</td>\n",
       "      <td>0.000368</td>\n",
       "      <td>0.000657</td>\n",
       "      <td>0.000085</td>\n",
       "      <td>0.001211</td>\n",
       "      <td>0.000217</td>\n",
       "      <td>0.000439</td>\n",
       "      <td>0.000051</td>\n",
       "      <td>0.000371</td>\n",
       "      <td>...</td>\n",
       "      <td>0.000296</td>\n",
       "      <td>0.000646</td>\n",
       "      <td>0.001748</td>\n",
       "      <td>0.000102</td>\n",
       "      <td>0.000958</td>\n",
       "      <td>0.021454</td>\n",
       "      <td>0.000061</td>\n",
       "      <td>0.000364</td>\n",
       "      <td>0.000059</td>\n",
       "      <td>0.008781</td>\n",
       "    </tr>\n",
       "    <tr>\n",
       "      <th>2</th>\n",
       "      <td>XC246306_5</td>\n",
       "      <td>0.011597</td>\n",
       "      <td>0.015305</td>\n",
       "      <td>0.002035</td>\n",
       "      <td>0.000389</td>\n",
       "      <td>0.020920</td>\n",
       "      <td>0.000641</td>\n",
       "      <td>0.010948</td>\n",
       "      <td>0.001782</td>\n",
       "      <td>0.003607</td>\n",
       "      <td>...</td>\n",
       "      <td>0.012192</td>\n",
       "      <td>0.009300</td>\n",
       "      <td>0.010490</td>\n",
       "      <td>0.002125</td>\n",
       "      <td>0.010368</td>\n",
       "      <td>0.009270</td>\n",
       "      <td>0.004398</td>\n",
       "      <td>0.005180</td>\n",
       "      <td>0.000750</td>\n",
       "      <td>0.008987</td>\n",
       "    </tr>\n",
       "    <tr>\n",
       "      <th>3</th>\n",
       "      <td>XC446300_5</td>\n",
       "      <td>0.000752</td>\n",
       "      <td>0.006851</td>\n",
       "      <td>0.001525</td>\n",
       "      <td>0.000157</td>\n",
       "      <td>0.005344</td>\n",
       "      <td>0.000251</td>\n",
       "      <td>0.000448</td>\n",
       "      <td>0.001086</td>\n",
       "      <td>0.000181</td>\n",
       "      <td>...</td>\n",
       "      <td>0.000937</td>\n",
       "      <td>0.002165</td>\n",
       "      <td>0.004887</td>\n",
       "      <td>0.000357</td>\n",
       "      <td>0.147583</td>\n",
       "      <td>0.015602</td>\n",
       "      <td>0.000886</td>\n",
       "      <td>0.018646</td>\n",
       "      <td>0.000040</td>\n",
       "      <td>0.002125</td>\n",
       "    </tr>\n",
       "    <tr>\n",
       "      <th>4</th>\n",
       "      <td>XC606439_5</td>\n",
       "      <td>0.000873</td>\n",
       "      <td>0.008415</td>\n",
       "      <td>0.004314</td>\n",
       "      <td>0.000527</td>\n",
       "      <td>0.004055</td>\n",
       "      <td>0.000584</td>\n",
       "      <td>0.001427</td>\n",
       "      <td>0.000974</td>\n",
       "      <td>0.000211</td>\n",
       "      <td>...</td>\n",
       "      <td>0.000758</td>\n",
       "      <td>0.000573</td>\n",
       "      <td>0.005280</td>\n",
       "      <td>0.000261</td>\n",
       "      <td>0.005001</td>\n",
       "      <td>0.005730</td>\n",
       "      <td>0.000849</td>\n",
       "      <td>0.001957</td>\n",
       "      <td>0.000092</td>\n",
       "      <td>0.033844</td>\n",
       "    </tr>\n",
       "  </tbody>\n",
       "</table>\n",
       "<p>5 rows × 183 columns</p>\n",
       "</div>"
      ],
      "text/plain": [
       "       row_id    asbfly   ashdro1   ashpri1   ashwoo2   asikoe2   asiope1  \\\n",
       "0  XC199339_5  0.047516  0.001040  0.004467  0.000707  0.003136  0.000178   \n",
       "1  XC757943_5  0.000255  0.000368  0.000657  0.000085  0.001211  0.000217   \n",
       "2  XC246306_5  0.011597  0.015305  0.002035  0.000389  0.020920  0.000641   \n",
       "3  XC446300_5  0.000752  0.006851  0.001525  0.000157  0.005344  0.000251   \n",
       "4  XC606439_5  0.000873  0.008415  0.004314  0.000527  0.004055  0.000584   \n",
       "\n",
       "    aspfly1   aspswi1   barfly1  ...   whbwoo2   whcbar1   whiter2    whrmun  \\\n",
       "0  0.001467  0.000070  0.001095  ...  0.000631  0.000911  0.005775  0.000360   \n",
       "1  0.000439  0.000051  0.000371  ...  0.000296  0.000646  0.001748  0.000102   \n",
       "2  0.010948  0.001782  0.003607  ...  0.012192  0.009300  0.010490  0.002125   \n",
       "3  0.000448  0.001086  0.000181  ...  0.000937  0.002165  0.004887  0.000357   \n",
       "4  0.001427  0.000974  0.000211  ...  0.000758  0.000573  0.005280  0.000261   \n",
       "\n",
       "    whtkin2    woosan   wynlau1   yebbab1   yebbul3   zitcis1  \n",
       "0  0.004055  0.007011  0.000196  0.000174  0.000136  0.160400  \n",
       "1  0.000958  0.021454  0.000061  0.000364  0.000059  0.008781  \n",
       "2  0.010368  0.009270  0.004398  0.005180  0.000750  0.008987  \n",
       "3  0.147583  0.015602  0.000886  0.018646  0.000040  0.002125  \n",
       "4  0.005001  0.005730  0.000849  0.001957  0.000092  0.033844  \n",
       "\n",
       "[5 rows x 183 columns]"
      ]
     },
     "execution_count": 99,
     "metadata": {},
     "output_type": "execute_result"
    }
   ],
   "source": [
    "sub = pd.DataFrame((df[\"id\"] + \"_\" + df[\"t_end\"].astype(str)).values, columns=['row_id'])\n",
    "sub.loc[:, CLASSES] = preds\n",
    "# sub.to_csv('submission.csv', index=False)\n",
    "sub.head()"
   ]
  },
  {
   "cell_type": "markdown",
   "metadata": {},
   "source": [
    "Done ! "
   ]
  }
 ],
 "metadata": {
  "kernelspec": {
   "display_name": "Python 3 (ipykernel)",
   "language": "python",
   "name": "python3"
  },
  "language_info": {
   "codemirror_mode": {
    "name": "ipython",
    "version": 3
   },
   "file_extension": ".py",
   "mimetype": "text/x-python",
   "name": "python",
   "nbconvert_exporter": "python",
   "pygments_lexer": "ipython3",
   "version": "3.10.12"
  },
  "vscode": {
   "interpreter": {
    "hash": "f7241b2af102f7e024509099765066b36197b195077f7bfac6e5bc041ba17c8c"
   }
  }
 },
 "nbformat": 4,
 "nbformat_minor": 4
}
