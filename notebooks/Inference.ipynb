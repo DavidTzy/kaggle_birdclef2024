{
 "cells": [
  {
   "cell_type": "markdown",
   "metadata": {},
   "source": [
    "**About** : This notebook is used to infer models."
   ]
  },
  {
   "cell_type": "code",
   "execution_count": 2,
   "metadata": {},
   "outputs": [],
   "source": [
    "%load_ext autoreload\n",
    "%autoreload 2"
   ]
  },
  {
   "cell_type": "code",
   "execution_count": 3,
   "metadata": {},
   "outputs": [
    {
     "name": "stdout",
     "output_type": "stream",
     "text": [
      "/home/tviel/work/kaggle_birdclef_2024/src\n"
     ]
    },
    {
     "name": "stderr",
     "output_type": "stream",
     "text": [
      "/home/tviel/.local/lib/python3.10/site-packages/IPython/core/magics/osm.py:417: UserWarning: using dhist requires you to install the `pickleshare` library.\n",
      "  self.shell.db['dhist'] = compress_dhist(dhist)[-100:]\n"
     ]
    }
   ],
   "source": [
    "cd ../src/"
   ]
  },
  {
   "cell_type": "markdown",
   "metadata": {},
   "source": [
    "### Imports"
   ]
  },
  {
   "cell_type": "code",
   "execution_count": 4,
   "metadata": {},
   "outputs": [],
   "source": [
    "import os\n",
    "import gc\n",
    "import sys\n",
    "import cv2\n",
    "import glob\n",
    "import json\n",
    "import torch\n",
    "import shutil\n",
    "import librosa\n",
    "import warnings\n",
    "import numpy as np\n",
    "import pandas as pd\n",
    "import seaborn as sns\n",
    "import torch.nn.functional as F\n",
    "import matplotlib.pyplot as plt\n",
    "\n",
    "from tqdm import tqdm\n",
    "from joblib import Parallel, delayed"
   ]
  },
  {
   "cell_type": "code",
   "execution_count": 5,
   "metadata": {},
   "outputs": [
    {
     "name": "stderr",
     "output_type": "stream",
     "text": [
      "/home/tviel/.local/lib/python3.10/site-packages/transformers/utils/generic.py:441: UserWarning: torch.utils._pytree._register_pytree_node is deprecated. Please use torch.utils._pytree.register_pytree_node instead.\n",
      "  _torch_pytree._register_pytree_node(\n"
     ]
    }
   ],
   "source": [
    "from util.logger import Config\n",
    "from util.metrics import macro_auc\n",
    "from util.torch import load_model_weights\n",
    "\n",
    "from data.dataset import WaveInfDataset\n",
    "from data.preparation import prepare_data, prepare_folds\n",
    "from data.processing import create_target_path, ProgressParallel, get_load_librosa_save_h5py\n",
    "\n",
    "from model_zoo.models import define_model\n",
    "from inference.predict import predict\n",
    "\n",
    "from params import CLASSES"
   ]
  },
  {
   "cell_type": "markdown",
   "metadata": {},
   "source": [
    "### Params"
   ]
  },
  {
   "cell_type": "code",
   "execution_count": 6,
   "metadata": {},
   "outputs": [],
   "source": [
    "EVAL = False"
   ]
  },
  {
   "cell_type": "code",
   "execution_count": 7,
   "metadata": {},
   "outputs": [],
   "source": [
    "if EVAL:\n",
    "    DATA_PATH = \"../input/train_audio/\"\n",
    "else:\n",
    "    DATA_PATH = \"../input/unlabeled_soundscapes/\""
   ]
  },
  {
   "cell_type": "code",
   "execution_count": 8,
   "metadata": {},
   "outputs": [],
   "source": [
    "BATCH_SIZE = 32\n",
    "USE_FP16 = True\n",
    "NUM_WORKERS = 2\n",
    "\n",
    "DEVICE = \"cuda\" if torch.cuda.is_available() else \"cpu\"\n",
    "DEVICE = \"cpu\" \n",
    "\n",
    "DURATION = 5\n",
    "SR = 32000"
   ]
  },
  {
   "cell_type": "code",
   "execution_count": 11,
   "metadata": {},
   "outputs": [],
   "source": [
    "FOLD = 0 if EVAL else \"fullfit_0\"\n",
    "\n",
    "EXP_FOLDERS = [\n",
    "    # (\"../logs/2024-04-12/8/\", [FOLD]),   # LB 0.64 baseline\n",
    "    # (\"../logs/2024-04-18/12/\", [FOLD]),  #\n",
    "    # (\"../logs/2024-04-18/15/\", [FOLD]),  #\n",
    "    # (\"../logs/2024-04-19/4/\", [FOLD]),  # Change norm, sampling\n",
    "    # (\"../logs/2024-04-19/5/\", [FOLD]),  # d=15s\n",
    "    # (\"../logs/2024-04-19/7/\", [FOLD]),  # minmaxnorm, sampling, nocall, less mix\n",
    "    # (\"../logs/2024-04-19/8/\", [FOLD]),  # minmaxnorm, no sampling, nocall, less mix no add\n",
    "    # (\"../logs/2024-04-19/10/\", [FOLD]),  # minmaxnorm more mix more aug\n",
    "    # (\"../logs/2024-04-29/2/\", [FOLD]),  # minmaxnorm fixed crop\n",
    "    # (\"../logs/2024-04-29/4/\", [FOLD]),  # minmaxnorm fixed crop 20s selfmix\n",
    "    # (\"../logs/2024-04-29/6/\", [FOLD]),  # minmaxnorm fixed crop no_xc selfmix\n",
    "    # (\"../logs/2024-04-29/7/\", [FOLD]),  # minmaxnorm fixed crop no_xc selfmix focal_bce ousmk\n",
    "    # (\"../logs/2024-04-30/0/\", [FOLD]),  # minmaxnorm selfmix focal_bce ousmk\n",
    "    # (\"../logs/2024-04-30/1/\", [FOLD]),  # minmaxnorm selfmix focal_bce ousmk++\n",
    "    # (\"../logs/2024-04-30/3/\", [FOLD]),  # minmaxnorm selfmix focal_bce no_xc more mix\n",
    "    # (\"../logs/2024-04-30/4/\", [FOLD]),  # minmaxnorm selfmix bce no_xc ousmk^\n",
    "    # (\"../logs/2024-05-02/0/\", [FOLD]),  # selfmix focal_bce ousmk + dedup, new melspec params, start-end sampling\n",
    "    # (\"../logs/2024-05-02/15/\", [FOLD]),  # no selfmix focal_bce ousmk + 2nd mask, new melspec params, start-end sampling\n",
    "    # (\"../logs/2024-05-02/15/\", [FOLD]),  # no selfmix focal_bce ousmk + 2nd mask, new melspec params, start-end sampling\n",
    "    (\"../logs/2024-05-03/7/\", [FOLD]),  # no selfmix focal_bce ousmk + 2nd mask, new melspec params, start-end sampling DEDUP UPSAMPLE\n",
    "]"
   ]
  },
  {
   "cell_type": "code",
   "execution_count": 12,
   "metadata": {},
   "outputs": [
    {
     "name": "stdout",
     "output_type": "stream",
     "text": [
      "- Copying ../logs/2024-05-03/7/ ...\n",
      "\n",
      "Dataset size : 3.098 Go\n",
      "- Update existing dataset !\n",
      "- Uploading ...\n"
     ]
    },
    {
     "name": "stderr",
     "output_type": "stream",
     "text": [
      "100%|██████████| 72.9M/72.9M [00:02<00:00, 29.6MB/s]\n",
      "100%|██████████| 371M/371M [00:11<00:00, 34.9MB/s] \n",
      "100%|██████████| 539k/539k [00:00<00:00, 639kB/s]\n",
      "100%|██████████| 371M/371M [00:11<00:00, 35.1MB/s] \n",
      "100%|██████████| 72.9M/72.9M [00:02<00:00, 29.5MB/s]\n",
      "100%|██████████| 372M/372M [00:11<00:00, 35.2MB/s] \n",
      "100%|██████████| 72.9M/72.9M [00:02<00:00, 29.8MB/s]\n",
      "100%|██████████| 372M/372M [00:11<00:00, 35.1MB/s] \n",
      "100%|██████████| 372M/372M [00:11<00:00, 35.1MB/s] \n",
      "100%|██████████| 371M/371M [00:11<00:00, 32.7MB/s] \n",
      "100%|██████████| 72.9M/72.9M [00:02<00:00, 29.7MB/s]\n",
      "100%|██████████| 372M/372M [00:11<00:00, 35.1MB/s] \n"
     ]
    },
    {
     "name": "stdout",
     "output_type": "stream",
     "text": [
      "\n",
      "Output :\n",
      " b\"Starting upload for file 2024-04-30_0.zip\\nWarning: Looks like you're using an outdated API Version, please consider updating (server 1.6.12 / client 1.6.8)\\nUpload successful: 2024-04-30_0.zip (73MB)\\nStarting upload for file 2024-04-29_7.zip\\nUpload successful: 2024-04-29_7.zip (371MB)\\nStarting upload for file folds_4.csv\\nUpload successful: folds_4.csv (539KB)\\nStarting upload for file 2024-04-29_6.zip\\nUpload successful: 2024-04-29_6.zip (371MB)\\nStarting upload for file 2024-04-30_4.zip\\nUpload successful: 2024-04-30_4.zip (73MB)\\nStarting upload for file 2024-05-02_15.zip\\nUpload successful: 2024-05-02_15.zip (372MB)\\nStarting upload for file 2024-04-30_3.zip\\nUpload successful: 2024-04-30_3.zip (73MB)\\nStarting upload for file 2024-05-03_7.zip\\nUpload successful: 2024-05-03_7.zip (372MB)\\nStarting upload for file 2024-04-29_4.zip\\nUpload successful: 2024-04-29_4.zip (372MB)\\nStarting upload for file 2024-05-02_0.zip\\nUpload successful: 2024-05-02_0.zip (371MB)\\nStarting upload for file 2024-04-30_1.zip\\nUpload successful: 2024-04-30_1.zip (73MB)\\nStarting upload for file 2024-04-29_2.zip\\nUpload successful: 2024-04-29_2.zip (372MB)\\nDataset version is being created. Please check progress at https://www.kaggle.com/theoviel/birdclef-2024-weights-1\\n\"\n",
      "\n",
      "Error :\n",
      " None\n"
     ]
    }
   ],
   "source": [
    "from util.logger import upload_to_kaggle\n",
    "\n",
    "upload_to_kaggle(\n",
    "    [f for f, _ in EXP_FOLDERS],\n",
    "    directory=\"../output/dataset_1/\",\n",
    "    dataset_name=\"BirdCLEF 2024 Weights 1\",\n",
    "    update_folders=True\n",
    ")"
   ]
  },
  {
   "cell_type": "markdown",
   "metadata": {},
   "source": [
    "### Preprocessing"
   ]
  },
  {
   "cell_type": "code",
   "execution_count": 131,
   "metadata": {},
   "outputs": [],
   "source": [
    "if EVAL:\n",
    "    df = pd.DataFrame({\"path\": glob.glob(DATA_PATH + \"*/*\")})\n",
    "    df[\"id\"] = df[\"path\"].apply(lambda x: x.split(\"/\")[-1][:-4])\n",
    "\n",
    "    folds = pd.read_csv('../input/folds_4.csv')\n",
    "    folds['id'] = folds['filename'].apply(lambda x: x.split('/')[-1][:-4])\n",
    "    df = df.merge(folds)\n",
    "    df = df[df['fold'] == 0].reset_index(drop=True)\n",
    "\n",
    "    df[\"primary_label\"] = df[\"path\"].apply(lambda x:  x.split('/')[-2])\n",
    "else:\n",
    "    df = pd.DataFrame({\"path\": glob.glob(DATA_PATH + \"*\")})\n",
    "    df[\"id\"] = df[\"path\"].apply(lambda x: x.split(\"/\")[-1][:-4])\n",
    "\n",
    "df[\"duration\"] = df[\"path\"].apply(lambda x: librosa.get_duration(path=x))\n",
    "\n",
    "df['slice'] = df['duration'].apply(lambda x: [(DURATION * i * SR, DURATION * (i + 1) * SR) for i in range(int(np.ceil(x / DURATION)))])\n",
    "df = df.explode(\"slice\")\n",
    "\n",
    "df[\"t_end\"] = DURATION\n",
    "df['t_end'] = df[[\"id\", \"t_end\"]].groupby(\"id\").cumsum()\n",
    "\n",
    "if EVAL:\n",
    "    df = df[df['t_end'] == 5]"
   ]
  },
  {
   "cell_type": "markdown",
   "metadata": {},
   "source": [
    "### Models"
   ]
  },
  {
   "cell_type": "code",
   "execution_count": 132,
   "metadata": {},
   "outputs": [
    {
     "name": "stdout",
     "output_type": "stream",
     "text": [
      "\n",
      " -> Loading encoder weights from ../logs/2024-05-02/15/tf_efficientnetv2_s_fullfit_0.pt\n",
      "\n"
     ]
    }
   ],
   "source": [
    "models = []\n",
    "\n",
    "for exp_folder, folds in EXP_FOLDERS:\n",
    "    models_ = []\n",
    "    config = Config(json.load(open(exp_folder + \"config.json\", \"r\")))\n",
    "\n",
    "    model = define_model(\n",
    "        config.name,\n",
    "        config.melspec_config,\n",
    "        head=config.head,\n",
    "        aug_config=config.aug_config,\n",
    "        num_classes=config.num_classes,\n",
    "        n_channels=config.n_channels,\n",
    "        drop_rate=config.drop_rate,\n",
    "        drop_path_rate=config.drop_path_rate,\n",
    "        # exportable=True,\n",
    "        verbose=True,\n",
    "        pretrained=False\n",
    "    )\n",
    "    model = model.to(DEVICE).eval()\n",
    "    \n",
    "    for fold in folds:\n",
    "        weights = exp_folder + f\"{config.name}_{fold}.pt\"\n",
    "        model = load_model_weights(model, weights, verbose=config.local_rank == 0)\n",
    "        models_.append(model)\n",
    "        \n",
    "    models.append(models_)"
   ]
  },
  {
   "cell_type": "markdown",
   "metadata": {},
   "source": [
    "### Main"
   ]
  },
  {
   "cell_type": "code",
   "execution_count": 134,
   "metadata": {},
   "outputs": [],
   "source": [
    "df = df.head(1000)"
   ]
  },
  {
   "cell_type": "code",
   "execution_count": 135,
   "metadata": {},
   "outputs": [],
   "source": [
    "dataset = WaveInfDataset(\n",
    "    df,\n",
    "    normalize=config.normalize,\n",
    "    max_len=config.melspec_config[\"sample_rate\"] * config.duration,\n",
    ")"
   ]
  },
  {
   "cell_type": "code",
   "execution_count": 143,
   "metadata": {},
   "outputs": [
    {
     "data": {
      "text/plain": [
       "[<matplotlib.lines.Line2D at 0x71d961263d30>]"
      ]
     },
     "execution_count": 143,
     "metadata": {},
     "output_type": "execute_result"
    },
    {
     "data": {
      "image/png": "[encoded data removed]",
      "text/plain": [
       "<Figure size 640x480 with 1 Axes>"
      ]
     },
     "metadata": {},
     "output_type": "display_data"
    }
   ],
   "source": [
    "plt.plot(dataset[0][0])"
   ]
  },
  {
   "cell_type": "code",
   "execution_count": 136,
   "metadata": {},
   "outputs": [
    {
     "data": {
      "application/vnd.jupyter.widget-view+json": {
       "model_id": "13fc77e7a0904622b322779f327c95ce",
       "version_major": 2,
       "version_minor": 0
      },
      "text/plain": [
       "  0%|          | 0/32 [00:00<?, ?it/s]"
      ]
     },
     "metadata": {},
     "output_type": "display_data"
    }
   ],
   "source": [
    "preds = predict(\n",
    "    model,\n",
    "    dataset,\n",
    "    {\"activation\": \"sigmoid\"},\n",
    "    batch_size=BATCH_SIZE,\n",
    "    device=DEVICE,\n",
    "    use_fp16=False,\n",
    "    num_workers=NUM_WORKERS,\n",
    ")"
   ]
  },
  {
   "cell_type": "code",
   "execution_count": 137,
   "metadata": {},
   "outputs": [],
   "source": [
    "if EVAL:\n",
    "    auc = macro_auc(df[\"primary_label\"].values.tolist(), preds)\n",
    "    print(f'Fold 0 AUC: {auc:.3f}')"
   ]
  },
  {
   "cell_type": "code",
   "execution_count": 138,
   "metadata": {},
   "outputs": [],
   "source": [
    "if EVAL:\n",
    "    from data.preparation import prepare_data\n",
    "    from data.dataset import WaveDataset\n",
    "\n",
    "    df_ = prepare_data()\n",
    "    df_ = df_[df_['fold'] == 0].reset_index(drop=True)\n",
    "    df = df.merge(df_[[\"filename\", \"secondary_labels\"]], how=\"left\")\n",
    "    df['path_ft'] = df['path']\n",
    "    dataset = WaveDataset(df)\n",
    "\n",
    "    y, y_s = dataset.get_targets()\n",
    "\n",
    "    auc = macro_auc(y, preds)\n",
    "    print(f'Fold 0 AUC:\\t {auc:.3f}')\n",
    "    \n",
    "    auc = macro_auc(y_s, preds)\n",
    "    print(f'Fold 0 AUC_s:\\t {auc:.3f}')"
   ]
  },
  {
   "cell_type": "code",
   "execution_count": 140,
   "metadata": {},
   "outputs": [
    {
     "data": {
      "text/html": [
       "<div>\n",
       "<style scoped>\n",
       "    .dataframe tbody tr th:only-of-type {\n",
       "        vertical-align: middle;\n",
       "    }\n",
       "\n",
       "    .dataframe tbody tr th {\n",
       "        vertical-align: top;\n",
       "    }\n",
       "\n",
       "    .dataframe thead th {\n",
       "        text-align: right;\n",
       "    }\n",
       "</style>\n",
       "<table border=\"1\" class=\"dataframe\">\n",
       "  <thead>\n",
       "    <tr style=\"text-align: right;\">\n",
       "      <th></th>\n",
       "      <th>row_id</th>\n",
       "      <th>asbfly</th>\n",
       "      <th>ashdro1</th>\n",
       "      <th>ashpri1</th>\n",
       "      <th>ashwoo2</th>\n",
       "      <th>asikoe2</th>\n",
       "      <th>asiope1</th>\n",
       "      <th>aspfly1</th>\n",
       "      <th>aspswi1</th>\n",
       "      <th>barfly1</th>\n",
       "      <th>...</th>\n",
       "      <th>whbwoo2</th>\n",
       "      <th>whcbar1</th>\n",
       "      <th>whiter2</th>\n",
       "      <th>whrmun</th>\n",
       "      <th>whtkin2</th>\n",
       "      <th>woosan</th>\n",
       "      <th>wynlau1</th>\n",
       "      <th>yebbab1</th>\n",
       "      <th>yebbul3</th>\n",
       "      <th>zitcis1</th>\n",
       "    </tr>\n",
       "  </thead>\n",
       "  <tbody>\n",
       "    <tr>\n",
       "      <th>0</th>\n",
       "      <td>184575141_5</td>\n",
       "      <td>0.003136</td>\n",
       "      <td>0.049863</td>\n",
       "      <td>0.001314</td>\n",
       "      <td>0.000577</td>\n",
       "      <td>0.005707</td>\n",
       "      <td>0.000700</td>\n",
       "      <td>0.001037</td>\n",
       "      <td>0.000318</td>\n",
       "      <td>0.001782</td>\n",
       "      <td>...</td>\n",
       "      <td>0.002820</td>\n",
       "      <td>0.010577</td>\n",
       "      <td>0.003512</td>\n",
       "      <td>0.000988</td>\n",
       "      <td>0.007733</td>\n",
       "      <td>0.028478</td>\n",
       "      <td>0.000782</td>\n",
       "      <td>0.001908</td>\n",
       "      <td>0.001010</td>\n",
       "      <td>0.003753</td>\n",
       "    </tr>\n",
       "    <tr>\n",
       "      <th>1</th>\n",
       "      <td>184575141_10</td>\n",
       "      <td>0.003227</td>\n",
       "      <td>0.017401</td>\n",
       "      <td>0.001354</td>\n",
       "      <td>0.000126</td>\n",
       "      <td>0.004946</td>\n",
       "      <td>0.000260</td>\n",
       "      <td>0.000825</td>\n",
       "      <td>0.001015</td>\n",
       "      <td>0.007064</td>\n",
       "      <td>...</td>\n",
       "      <td>0.001455</td>\n",
       "      <td>0.001770</td>\n",
       "      <td>0.005314</td>\n",
       "      <td>0.001473</td>\n",
       "      <td>0.005322</td>\n",
       "      <td>0.017273</td>\n",
       "      <td>0.000923</td>\n",
       "      <td>0.001709</td>\n",
       "      <td>0.000708</td>\n",
       "      <td>0.004105</td>\n",
       "    </tr>\n",
       "    <tr>\n",
       "      <th>2</th>\n",
       "      <td>184575141_15</td>\n",
       "      <td>0.002187</td>\n",
       "      <td>0.003410</td>\n",
       "      <td>0.002335</td>\n",
       "      <td>0.000130</td>\n",
       "      <td>0.003637</td>\n",
       "      <td>0.000993</td>\n",
       "      <td>0.000483</td>\n",
       "      <td>0.000662</td>\n",
       "      <td>0.001035</td>\n",
       "      <td>...</td>\n",
       "      <td>0.002875</td>\n",
       "      <td>0.002242</td>\n",
       "      <td>0.004375</td>\n",
       "      <td>0.000494</td>\n",
       "      <td>0.003166</td>\n",
       "      <td>0.036977</td>\n",
       "      <td>0.000469</td>\n",
       "      <td>0.000471</td>\n",
       "      <td>0.000383</td>\n",
       "      <td>0.008104</td>\n",
       "    </tr>\n",
       "    <tr>\n",
       "      <th>3</th>\n",
       "      <td>184575141_20</td>\n",
       "      <td>0.000670</td>\n",
       "      <td>0.001348</td>\n",
       "      <td>0.000405</td>\n",
       "      <td>0.000036</td>\n",
       "      <td>0.005254</td>\n",
       "      <td>0.000153</td>\n",
       "      <td>0.000474</td>\n",
       "      <td>0.000423</td>\n",
       "      <td>0.001711</td>\n",
       "      <td>...</td>\n",
       "      <td>0.002651</td>\n",
       "      <td>0.268458</td>\n",
       "      <td>0.001926</td>\n",
       "      <td>0.000558</td>\n",
       "      <td>0.001016</td>\n",
       "      <td>0.009320</td>\n",
       "      <td>0.000560</td>\n",
       "      <td>0.000239</td>\n",
       "      <td>0.001859</td>\n",
       "      <td>0.003413</td>\n",
       "    </tr>\n",
       "    <tr>\n",
       "      <th>4</th>\n",
       "      <td>184575141_25</td>\n",
       "      <td>0.001914</td>\n",
       "      <td>0.005158</td>\n",
       "      <td>0.001606</td>\n",
       "      <td>0.000073</td>\n",
       "      <td>0.012566</td>\n",
       "      <td>0.000449</td>\n",
       "      <td>0.002297</td>\n",
       "      <td>0.000386</td>\n",
       "      <td>0.003738</td>\n",
       "      <td>...</td>\n",
       "      <td>0.003126</td>\n",
       "      <td>0.605313</td>\n",
       "      <td>0.004630</td>\n",
       "      <td>0.001112</td>\n",
       "      <td>0.001908</td>\n",
       "      <td>0.008082</td>\n",
       "      <td>0.004034</td>\n",
       "      <td>0.000323</td>\n",
       "      <td>0.006231</td>\n",
       "      <td>0.002068</td>\n",
       "    </tr>\n",
       "  </tbody>\n",
       "</table>\n",
       "<p>5 rows × 183 columns</p>\n",
       "</div>"
      ],
      "text/plain": [
       "         row_id    asbfly   ashdro1   ashpri1   ashwoo2   asikoe2   asiope1  \\\n",
       "0   184575141_5  0.003136  0.049863  0.001314  0.000577  0.005707  0.000700   \n",
       "1  184575141_10  0.003227  0.017401  0.001354  0.000126  0.004946  0.000260   \n",
       "2  184575141_15  0.002187  0.003410  0.002335  0.000130  0.003637  0.000993   \n",
       "3  184575141_20  0.000670  0.001348  0.000405  0.000036  0.005254  0.000153   \n",
       "4  184575141_25  0.001914  0.005158  0.001606  0.000073  0.012566  0.000449   \n",
       "\n",
       "    aspfly1   aspswi1   barfly1  ...   whbwoo2   whcbar1   whiter2    whrmun  \\\n",
       "0  0.001037  0.000318  0.001782  ...  0.002820  0.010577  0.003512  0.000988   \n",
       "1  0.000825  0.001015  0.007064  ...  0.001455  0.001770  0.005314  0.001473   \n",
       "2  0.000483  0.000662  0.001035  ...  0.002875  0.002242  0.004375  0.000494   \n",
       "3  0.000474  0.000423  0.001711  ...  0.002651  0.268458  0.001926  0.000558   \n",
       "4  0.002297  0.000386  0.003738  ...  0.003126  0.605313  0.004630  0.001112   \n",
       "\n",
       "    whtkin2    woosan   wynlau1   yebbab1   yebbul3   zitcis1  \n",
       "0  0.007733  0.028478  0.000782  0.001908  0.001010  0.003753  \n",
       "1  0.005322  0.017273  0.000923  0.001709  0.000708  0.004105  \n",
       "2  0.003166  0.036977  0.000469  0.000471  0.000383  0.008104  \n",
       "3  0.001016  0.009320  0.000560  0.000239  0.001859  0.003413  \n",
       "4  0.001908  0.008082  0.004034  0.000323  0.006231  0.002068  \n",
       "\n",
       "[5 rows x 183 columns]"
      ]
     },
     "metadata": {},
     "output_type": "display_data"
    }
   ],
   "source": [
    "if not EVAL:\n",
    "    sub = pd.DataFrame((df[\"id\"] + \"_\" + df[\"t_end\"].astype(str)).values, columns=['row_id'])\n",
    "    sub.loc[:, CLASSES] = preds\n",
    "    sub.to_csv('../output/tmp/submission.csv', index=False)\n",
    "    display(sub.head())"
   ]
  },
  {
   "cell_type": "code",
   "execution_count": null,
   "metadata": {},
   "outputs": [],
   "source": []
  },
  {
   "cell_type": "markdown",
   "metadata": {},
   "source": [
    "### EDA"
   ]
  },
  {
   "cell_type": "code",
   "execution_count": null,
   "metadata": {},
   "outputs": [],
   "source": [
    "pd.set_option('display.width', 1000)\n",
    "pd.set_option('max_colwidth', 100)\n",
    "pd.set_option('display.max_columns', 100)\n",
    "\n",
    "from util.plots import display_audio"
   ]
  },
  {
   "cell_type": "markdown",
   "metadata": {},
   "source": [
    "#### Max per class"
   ]
  },
  {
   "cell_type": "code",
   "execution_count": null,
   "metadata": {},
   "outputs": [],
   "source": [
    "max_df = pd.DataFrame(sub.max()).T\n",
    "max_df = max_df[max_df.columns[1:]].astype(float)\n",
    "max_df"
   ]
  },
  {
   "cell_type": "code",
   "execution_count": null,
   "metadata": {},
   "outputs": [],
   "source": [
    "sns.distplot(max_df.values[0])\n",
    "plt.show()"
   ]
  },
  {
   "cell_type": "markdown",
   "metadata": {},
   "source": [
    "#### Max per recording"
   ]
  },
  {
   "cell_type": "code",
   "execution_count": null,
   "metadata": {},
   "outputs": [],
   "source": [
    "dfg = sub.copy()\n",
    "dfg['row_id'] = dfg['row_id'].apply(lambda x:x.split('_')[0])\n",
    "dfg = dfg.groupby('row_id').max()\n",
    "dfg = dfg.max(1)\n",
    "\n",
    "\n",
    "pd.DataFrame(dfg[dfg < 0.3]).T"
   ]
  },
  {
   "cell_type": "code",
   "execution_count": null,
   "metadata": {},
   "outputs": [],
   "source": [
    "dfg = sub.copy()\n",
    "\n",
    "dfg['row_id'] = dfg['row_id'].apply(lambda x:x.split('_')[0])\n",
    "\n",
    "dfg['max'] = dfg[dfg.columns[1:]].max(1)\n",
    "dfg_ = dfg[[\"row_id\", \"max\"]].groupby('row_id').max().reset_index()"
   ]
  },
  {
   "cell_type": "code",
   "execution_count": null,
   "metadata": {},
   "outputs": [],
   "source": [
    "dfg = dfg.drop('max', axis=1).merge(dfg_, how=\"left\")\n",
    "\n",
    "dfg[CLASSES] = preds / dfg['max'].values[:, None]\n",
    "\n",
    "# pd.DataFrame(dfg).sort_values(\"max\")"
   ]
  },
  {
   "cell_type": "code",
   "execution_count": null,
   "metadata": {},
   "outputs": [],
   "source": [
    "sns.histplot(dfg.values)\n",
    "plt.show()"
   ]
  },
  {
   "cell_type": "code",
   "execution_count": null,
   "metadata": {},
   "outputs": [],
   "source": [
    "val = np.load(EXP_FOLDERS[0][0] + \"pred_val_0.npy\")\n",
    "sns.histplot(val.max(-1))\n",
    "plt.show()"
   ]
  },
  {
   "cell_type": "markdown",
   "metadata": {},
   "source": [
    "#### Single sample"
   ]
  },
  {
   "cell_type": "code",
   "execution_count": null,
   "metadata": {},
   "outputs": [],
   "source": [
    "id_ = \"1051136855\"\n",
    "id_ = \"1227419659\"\n",
    "\n",
    "df_id = sub[sub[\"row_id\"].apply(lambda x: id_ in x)]"
   ]
  },
  {
   "cell_type": "code",
   "execution_count": null,
   "metadata": {},
   "outputs": [],
   "source": [
    "plt.figure(figsize=(20, 5))\n",
    "plt.plot(df_id[df_id.columns[1:]].max(1).values)\n",
    "plt.grid()\n",
    "plt.xticks([i for i in range(0, len(df_id), 2)], [f\"{i * 5 // 60}'{i * 5 % 60}\" for i in range(0, len(df_id), 2)])\n",
    "plt.show()"
   ]
  },
  {
   "cell_type": "code",
   "execution_count": null,
   "metadata": {},
   "outputs": [],
   "source": [
    "display_audio(DATA_PATH + f\"{id_}.ogg\", duration=None)\n"
   ]
  },
  {
   "cell_type": "markdown",
   "metadata": {},
   "source": [
    "Done ! "
   ]
  }
 ],
 "metadata": {
  "kernelspec": {
   "display_name": "Python 3 (ipykernel)",
   "language": "python",
   "name": "python3"
  },
  "language_info": {
   "codemirror_mode": {
    "name": "ipython",
    "version": 3
   },
   "file_extension": ".py",
   "mimetype": "text/x-python",
   "name": "python",
   "nbconvert_exporter": "python",
   "pygments_lexer": "ipython3",
   "version": "3.10.12"
  },
  "vscode": {
   "interpreter": {
    "hash": "f7241b2af102f7e024509099765066b36197b195077f7bfac6e5bc041ba17c8c"
   }
  }
 },
 "nbformat": 4,
 "nbformat_minor": 4
}
