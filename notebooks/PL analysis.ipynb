{
 "cells": [
  {
   "cell_type": "markdown",
   "metadata": {},
   "source": [
    "**About** : This notebook is used to analyse preds"
   ]
  },
  {
   "cell_type": "code",
   "execution_count": null,
   "metadata": {},
   "outputs": [],
   "source": [
    "%load_ext autoreload\n",
    "%autoreload 2"
   ]
  },
  {
   "cell_type": "code",
   "execution_count": null,
   "metadata": {},
   "outputs": [],
   "source": [
    "cd ../src/"
   ]
  },
  {
   "cell_type": "markdown",
   "metadata": {},
   "source": [
    "### Imports"
   ]
  },
  {
   "cell_type": "code",
   "execution_count": null,
   "metadata": {},
   "outputs": [],
   "source": [
    "import os\n",
    "import gc\n",
    "import sys\n",
    "import cv2\n",
    "import glob\n",
    "import json\n",
    "import torch\n",
    "import shutil\n",
    "import joblib\n",
    "import pickle\n",
    "import librosa\n",
    "import warnings\n",
    "import numpy as np\n",
    "import pandas as pd\n",
    "import seaborn as sns\n",
    "import torch.nn.functional as F\n",
    "import matplotlib.pyplot as plt\n",
    "\n",
    "from tqdm.notebook import tqdm\n",
    "from scipy.special import expit\n",
    "from joblib import Parallel, delayed\n",
    "\n",
    "warnings.simplefilter(action=\"ignore\", category=UserWarning)"
   ]
  },
  {
   "cell_type": "code",
   "execution_count": null,
   "metadata": {},
   "outputs": [],
   "source": [
    "from util.logger import Config\n",
    "from util.metrics import macro_auc\n",
    "from util.torch import load_model_weights\n",
    "\n",
    "from data.preparation import prepare_data, prepare_folds\n",
    "from model_zoo.models import define_model\n",
    "\n",
    "from params import CLASSES"
   ]
  },
  {
   "cell_type": "markdown",
   "metadata": {},
   "source": [
    "### Params"
   ]
  },
  {
   "cell_type": "code",
   "execution_count": null,
   "metadata": {},
   "outputs": [],
   "source": [
    "DATA_PATH = \"../input/unlabeled_soundscapes/\""
   ]
  },
  {
   "cell_type": "code",
   "execution_count": null,
   "metadata": {},
   "outputs": [],
   "source": [
    "BATCH_SIZE = 48\n",
    "USE_FP16 = True\n",
    "NUM_WORKERS = 4\n",
    "\n",
    "DEVICE = \"cuda\" \n",
    "RUNTIME = \"torch\"\n",
    "\n",
    "DURATION = 5\n",
    "SR = 32000"
   ]
  },
  {
   "cell_type": "code",
   "execution_count": null,
   "metadata": {},
   "outputs": [],
   "source": [
    "to_plot = []\n",
    "names = []"
   ]
  },
  {
   "cell_type": "markdown",
   "metadata": {},
   "source": [
    "### CPMP"
   ]
  },
  {
   "cell_type": "code",
   "execution_count": null,
   "metadata": {},
   "outputs": [],
   "source": [
    "# with open('../output/cpmp_preds/pl_all.pkl', \"rb\") as f:\n",
    "#     preds = pickle.load(f)\n",
    "\n",
    "# # for f in [0, 1]: #2 , 3, 4]:\n",
    "# #     preds_cpmp = {}\n",
    "# #     for k in preds.keys():\n",
    "# #         preds_cpmp[k[:-4].split('/')[-1]] = preds[k][f]\n",
    "\n",
    "# #     names.append(f'CPMP-vitb0-{f}')\n",
    "# #     to_plot.append(preds_cpmp)\n",
    "\n",
    "# preds_cpmp = {}\n",
    "# for k in preds.keys():\n",
    "#     preds_cpmp[k[:-4].split('/')[-1]] = np.mean(preds[k], 0)\n",
    "# names.append(f'CPMP-vitb0-avg')\n",
    "# to_plot.append(preds_cpmp)\n",
    "\n",
    "# del preds, preds_cpmp\n",
    "# gc.collect()"
   ]
  },
  {
   "cell_type": "markdown",
   "metadata": {},
   "source": [
    "### Pickle to sub"
   ]
  },
  {
   "cell_type": "code",
   "execution_count": null,
   "metadata": {},
   "outputs": [],
   "source": [
    "sub = pd.read_csv(\"../logs/2024-05-10/18/pl_sub_fullfit_0.csv\")\n",
    "ids = sub.row_id.apply(lambda x: x.split('_')[0]).unique()"
   ]
  },
  {
   "cell_type": "code",
   "execution_count": null,
   "metadata": {},
   "outputs": [],
   "source": [
    "with open('../output/cpmp_preds_72/pl_all.pkl', \"rb\") as f:\n",
    "    preds = pickle.load(f)\n",
    "\n",
    "# for f in [0, 1, 2, 3, 4]:\n",
    "#     preds_cpmp = {}\n",
    "#     for k in preds.keys():\n",
    "#         preds_cpmp[k[:-4].split('/')[-1]] = preds[k][f]\n",
    "\n",
    "#     names.append(f'CPMP72-vitb0-{f}')\n",
    "#     to_plot.append(preds_cpmp)\n",
    "\n",
    "preds_cpmp = {}\n",
    "for k in preds.keys():\n",
    "    preds_cpmp[k[:-4].split('/')[-1]] = np.mean(preds[k], 0)\n",
    "names.append(f'CPMP72-vitb0-avg')\n",
    "to_plot.append(preds_cpmp)\n",
    "\n",
    "# del preds, preds_cpmp\n",
    "# gc.collect()"
   ]
  },
  {
   "cell_type": "code",
   "execution_count": null,
   "metadata": {},
   "outputs": [],
   "source": [
    "inference_rows = []\n",
    "\n",
    "for id in tqdm(ids):\n",
    "    preds = preds_cpmp[id]\n",
    "    # preds = preds_birdnet[id]\n",
    "    for t in range(len(preds)):\n",
    "        p = dict([(l, p) for l, p in zip(CLASSES, preds[t])])\n",
    "        inference_rows.append(\n",
    "            {\"row_id\": f\"{id}_{(t + 1) * 5}\"} | p\n",
    "        )\n",
    "sub_ = pd.DataFrame(inference_rows)\n",
    "\n",
    "np.save('../output/cpmp_preds_107-4/pl_preds_avg.npy', sub_[CLASSES].values)\n",
    "sub_[[\"row_id\"]].to_csv('../output/cpmp_preds_72/pl_sub.csv', index=False)\n",
    "sub_.head()"
   ]
  },
  {
   "cell_type": "code",
   "execution_count": null,
   "metadata": {},
   "outputs": [],
   "source": [
    "u = set(sub_.row_id.values) - set(sub.row_id.values)\n",
    "sub_ = sub_[~sub_.row_id.isin(u)]\n",
    "sub_ = sub_.reset_index(drop=True)\n",
    "\n",
    "assert len(sub_) == len(sub)\n",
    "assert (sub_.row_id == sub.row_id).all()"
   ]
  },
  {
   "cell_type": "code",
   "execution_count": null,
   "metadata": {},
   "outputs": [],
   "source": [
    "# sub_.to_csv('../output/cpmp_preds_72/pl_sub.csv', index=False)\n",
    "sub_.to_csv('../output/pl_birdnet.csv', index=False)"
   ]
  },
  {
   "cell_type": "markdown",
   "metadata": {},
   "source": [
    "### Theo"
   ]
  },
  {
   "cell_type": "code",
   "execution_count": null,
   "metadata": {},
   "outputs": [],
   "source": [
    "def avg_dicts(dicts):\n",
    "    avg_dict = {k: None for k in dicts[0].keys()}\n",
    "    for k in dicts[0].keys():\n",
    "        avg_dict[k] = np.mean([d[k] for d in dicts], 0)\n",
    "    return avg_dict"
   ]
  },
  {
   "cell_type": "code",
   "execution_count": null,
   "metadata": {},
   "outputs": [],
   "source": [
    "# EXP_FOLDER = \"../logs/2024-05-06/18/\"  # vitb0\n",
    "EXP_FOLDERS = [\n",
    "    # (\"../logs/2024-05-05/7/\", \"v2s 0.64\"),\n",
    "    # (\"../logs/2024-05-06/18/\", \"vitb0\"),\n",
    "    # (\"../logs/2024-05-07/0/\", \"vitb0\"),\n",
    "    # (\"../logs/2024-05-06/19/\", \"v2s\"),\n",
    "    # (\"../logs/2024-05-06/22/\", \"vitb1\"),\n",
    "    # (\"../logs/2024-05-07/5/\", \"vitb0\"),\n",
    "    (\"../logs/2024-05-07/6/\", \"v2-b0\"),\n",
    "    # (\"../logs/2024-05-07/7/\", \"vitb1\"),\n",
    "    # (\"../logs/2024-05-10/18/\", \"vitb0PL\"),\n",
    "]\n",
    "\n",
    "for e, n in EXP_FOLDERS:\n",
    "    files = glob.glob(e + \"pl_sub_*.csv\")\n",
    "    l = len(files)\n",
    "    for i in range(len(files)):\n",
    "        try:\n",
    "            try:\n",
    "                sub = pd.read_csv(files[i])\n",
    "                names.append(n + f\"_{i}\")\n",
    "                do_break = False\n",
    "            except:\n",
    "                sub = pd.read_csv(e + f'pl_sub.csv')\n",
    "                names.append(n)\n",
    "                do_break = True\n",
    "            ids = sub['row_id'].apply(lambda x: x.split('_')[0]).values[::48]\n",
    "\n",
    "            preds_theo = dict(zip(\n",
    "                ids,\n",
    "                sub[CLASSES].values.reshape(-1, 48, 182),\n",
    "            ))\n",
    "            to_plot.append(preds_theo)\n",
    "            \n",
    "            del (sub, preds_theo)\n",
    "            gc.collect()\n",
    "\n",
    "            if do_break:\n",
    "                break\n",
    "        except:\n",
    "            pass\n",
    "\n",
    "    if not do_break:\n",
    "        print(f\"Average {names[-l:]}\")\n",
    "        avg = avg_dicts(to_plot[-l:])\n",
    "        to_plot = to_plot[:-l]\n",
    "        names = names[:-l]\n",
    "        to_plot.append(avg)\n",
    "        names.append(n + f\"_avg\")\n"
   ]
  },
  {
   "cell_type": "markdown",
   "metadata": {},
   "source": [
    "### Compare"
   ]
  },
  {
   "cell_type": "code",
   "execution_count": null,
   "metadata": {},
   "outputs": [],
   "source": [
    "names"
   ]
  },
  {
   "cell_type": "code",
   "execution_count": null,
   "metadata": {},
   "outputs": [],
   "source": [
    "th = 0.2\n",
    "LIM = 20"
   ]
  },
  {
   "cell_type": "code",
   "execution_count": null,
   "metadata": {},
   "outputs": [],
   "source": [
    "# keys = [\"1976786596\", \"106748716\", \"523220948\"]\n",
    "keys = list(to_plot[0].keys())[:LIM]\n",
    "# keys = ['184575141', '1542255759', '1976786596', '106748716', '523220948',\n",
    "#        '616589570', '95561326', '1908248554', '901569271', '1681605492']"
   ]
  },
  {
   "cell_type": "code",
   "execution_count": null,
   "metadata": {},
   "outputs": [],
   "source": [
    "for k in keys:\n",
    "    # print(k)\n",
    "    plt.figure(figsize=(20, 5))\n",
    "\n",
    "    for i, c in enumerate(CLASSES):\n",
    "        if any(\n",
    "            [p[k][:, i].max() > th for p in to_plot]\n",
    "        ):\n",
    "            for p in range(len(to_plot)):\n",
    "                plt.subplot(1, len(to_plot), p + 1)\n",
    "                plt.plot(to_plot[p][k][:, i], label=c)\n",
    "                plt.ylim(0, 1)\n",
    "                plt.title(f'{k}\\n{names[p]}')\n",
    "\n",
    "    plt.legend()\n",
    "    plt.show()"
   ]
  },
  {
   "cell_type": "markdown",
   "metadata": {},
   "source": [
    "Done !"
   ]
  }
 ],
 "metadata": {
  "kernelspec": {
   "display_name": "Python 3 (ipykernel)",
   "language": "python",
   "name": "python3"
  },
  "language_info": {
   "codemirror_mode": {
    "name": "ipython",
    "version": 3
   },
   "file_extension": ".py",
   "mimetype": "text/x-python",
   "name": "python",
   "nbconvert_exporter": "python",
   "pygments_lexer": "ipython3",
   "version": "3.10.12"
  },
  "vscode": {
   "interpreter": {
    "hash": "f7241b2af102f7e024509099765066b36197b195077f7bfac6e5bc041ba17c8c"
   }
  }
 },
 "nbformat": 4,
 "nbformat_minor": 4
}
