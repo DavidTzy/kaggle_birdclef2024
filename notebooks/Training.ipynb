{
 "cells": [
  {
   "cell_type": "markdown",
   "metadata": {},
   "source": [
    "**About** : This notebook is used to prepare the data."
   ]
  },
  {
   "cell_type": "code",
   "execution_count": null,
   "metadata": {},
   "outputs": [],
   "source": [
    "%load_ext autoreload\n",
    "%autoreload 2"
   ]
  },
  {
   "cell_type": "code",
   "execution_count": null,
   "metadata": {},
   "outputs": [],
   "source": [
    "cd ../src/"
   ]
  },
  {
   "cell_type": "markdown",
   "metadata": {},
   "source": [
    "### Imports"
   ]
  },
  {
   "cell_type": "code",
   "execution_count": null,
   "metadata": {},
   "outputs": [],
   "source": [
    "import os\n",
    "import sys\n",
    "import glob\n",
    "import json\n",
    "import torch\n",
    "import librosa\n",
    "import warnings\n",
    "import numpy as np\n",
    "import pandas as pd\n",
    "import seaborn as sns\n",
    "import matplotlib.pyplot as plt\n",
    "\n",
    "from tqdm import tqdm\n",
    "from copy import deepcopy\n",
    "from joblib import delayed\n",
    "from sklearn.metrics import *\n",
    "\n",
    "warnings.simplefilter(action=\"ignore\", category=UserWarning)"
   ]
  },
  {
   "cell_type": "code",
   "execution_count": null,
   "metadata": {},
   "outputs": [],
   "source": [
    "from params import *\n",
    "from util.plots import *\n",
    "\n",
    "from data.preparation import *\n",
    "from data.dataset import WaveDataset\n",
    "from data.transforms import get_transfos\n",
    "\n",
    "from util.logger import create_logger, save_config, prepare_log_folder\n",
    "from util.torch import init_distributed\n",
    "\n",
    "from model_zoo.models import define_model\n",
    "from model_zoo.melspec import FeatureExtractor, CustomTimeMasking, CustomFreqMasking\n",
    "\n",
    "from training.losses import BirdLoss\n",
    "from training.main import k_fold"
   ]
  },
  {
   "cell_type": "markdown",
   "metadata": {},
   "source": [
    "### Data"
   ]
  },
  {
   "cell_type": "code",
   "execution_count": null,
   "metadata": {},
   "outputs": [],
   "source": [
    "df = prepare_data()\n",
    "df_xc = prepare_xenocanto_data()\n",
    "df = prepare_nocall_data()\n",
    "\n",
    "df.sample(5)"
   ]
  },
  {
   "cell_type": "code",
   "execution_count": null,
   "metadata": {},
   "outputs": [],
   "source": [
    "transforms = get_transfos(augment=True, strength=1)"
   ]
  },
  {
   "cell_type": "code",
   "execution_count": null,
   "metadata": {},
   "outputs": [],
   "source": [
    "dataset = WaveDataset(\n",
    "    df,\n",
    "    transforms,\n",
    "    max_len=32000 * 10,\n",
    "    train=True,\n",
    "    self_mixup=True,\n",
    ")"
   ]
  },
  {
   "cell_type": "code",
   "execution_count": null,
   "metadata": {},
   "outputs": [],
   "source": [
    "for i in tqdm(range(len(dataset))):\n",
    "    # try:\n",
    "    x = dataset[i]\n",
    "    # except:\n",
    "    #     print(i)\n",
    "    #     break"
   ]
  },
  {
   "cell_type": "code",
   "execution_count": null,
   "metadata": {},
   "outputs": [],
   "source": [
    "wave, y, w = dataset[np.random.choice(len(dataset))]\n",
    "# w = wave"
   ]
  },
  {
   "cell_type": "code",
   "execution_count": null,
   "metadata": {},
   "outputs": [],
   "source": [
    "display_audio(wave.numpy(), title=\", \".join(([CLASSES[int(c)] for c in np.argwhere(y.numpy())[0]])))"
   ]
  },
  {
   "cell_type": "code",
   "execution_count": null,
   "metadata": {},
   "outputs": [],
   "source": [
    "# display_audio(w.numpy(), title=\", \".join(([CLASSES[int(c)] for c in np.argwhere(y.numpy())[0]])))"
   ]
  },
  {
   "cell_type": "markdown",
   "metadata": {},
   "source": [
    "### Spectrograms"
   ]
  },
  {
   "cell_type": "code",
   "execution_count": null,
   "metadata": {},
   "outputs": [],
   "source": [
    "params = {\n",
    "    \"sample_rate\": 32000,\n",
    "    \"n_mels\": 128,\n",
    "    \"f_min\": 50,\n",
    "    \"f_max\": 15000,\n",
    "    \"n_fft\": 2048,\n",
    "    \"hop_length\": 512,\n",
    "    \"normalized\": False,\n",
    "}\n",
    "\n",
    "aug_config = {\n",
    "    \"specaug_freq\": {\n",
    "        \"mask_max_length\": 10,\n",
    "        \"mask_max_masks\": 3,\n",
    "        \"p\": 0.,\n",
    "    },\n",
    "    \"specaug_time\": {\n",
    "        \"mask_max_length\": 20,\n",
    "        \"mask_max_masks\": 3,\n",
    "        \"p\": 0.,\n",
    "    },\n",
    "    \"mixup\":\n",
    "    {\n",
    "        \"p_audio\": 0,\n",
    "        \"p_spec\": 0,\n",
    "        \"additive\": True,\n",
    "        \"alpha\": 4,\n",
    "        \"num_classes\": 182,\n",
    "    }\n",
    "}"
   ]
  },
  {
   "cell_type": "code",
   "execution_count": null,
   "metadata": {},
   "outputs": [],
   "source": [
    "ft_extractor = FeatureExtractor(params, aug_config=aug_config)\n",
    "ft_extractor = ft_extractor.train()"
   ]
  },
  {
   "cell_type": "code",
   "execution_count": null,
   "metadata": {},
   "outputs": [],
   "source": [
    "x = torch.stack([wave, wave])\n",
    "if len(y.size()) < 2:\n",
    "    y = torch.stack([y, y])"
   ]
  },
  {
   "cell_type": "code",
   "execution_count": null,
   "metadata": {},
   "outputs": [],
   "source": [
    "melspec, _, _ = ft_extractor(x)"
   ]
  },
  {
   "cell_type": "code",
   "execution_count": null,
   "metadata": {},
   "outputs": [],
   "source": [
    "plot_spectrogram(melspec[0].numpy(), params)"
   ]
  },
  {
   "cell_type": "code",
   "execution_count": null,
   "metadata": {},
   "outputs": [],
   "source": [
    "# plot_spectrogram(melspec[1].numpy(), params)"
   ]
  },
  {
   "cell_type": "markdown",
   "metadata": {},
   "source": [
    "### Model"
   ]
  },
  {
   "cell_type": "code",
   "execution_count": null,
   "metadata": {},
   "outputs": [],
   "source": [
    "model = define_model(\n",
    "    \"eca_nfnet_l0\", \n",
    "    params,\n",
    "    head=\"gem\",\n",
    "    n_channels=1,\n",
    "    num_classes=NUM_CLASSES,\n",
    ")"
   ]
  },
  {
   "cell_type": "code",
   "execution_count": null,
   "metadata": {},
   "outputs": [],
   "source": [
    "pred, _, _ = model(x, y)"
   ]
  },
  {
   "cell_type": "code",
   "execution_count": null,
   "metadata": {},
   "outputs": [],
   "source": [
    "y.size(), pred.size()"
   ]
  },
  {
   "cell_type": "code",
   "execution_count": null,
   "metadata": {},
   "outputs": [],
   "source": [
    "loss = BirdLoss({\"name\": \"bce\", \"top_k\": 0})\n",
    "loss(pred, y)"
   ]
  },
  {
   "cell_type": "markdown",
   "metadata": {},
   "source": [
    "### Train"
   ]
  },
  {
   "cell_type": "code",
   "execution_count": null,
   "metadata": {},
   "outputs": [],
   "source": [
    "class Config:\n",
    "    \"\"\"\n",
    "    Parameters used for training\n",
    "    \"\"\"\n",
    "    # General\n",
    "    seed = 42\n",
    "    verbose = 1\n",
    "    device = \"cuda\"\n",
    "    save_weights = True\n",
    "\n",
    "    # Data\n",
    "    train_duration = 5\n",
    "    duration = 5\n",
    "    aug_strength = 0\n",
    "    self_mixup = True\n",
    "    normalize = True\n",
    "\n",
    "    melspec_config = {\n",
    "        \"sample_rate\": 32000,\n",
    "        \"n_mels\": 128,  # 128, 224\n",
    "        \"f_min\": 50,\n",
    "        \"f_max\": 15000,\n",
    "        \"n_fft\": 2048,\n",
    "        \"hop_length\": 512,  # 716, 512, 417\n",
    "        \"normalized\": False,\n",
    "    }\n",
    "\n",
    "    aug_config = {\n",
    "        \"specaug_freq\": {\n",
    "            \"mask_max_length\": 10,\n",
    "            \"mask_max_masks\": 3,\n",
    "            \"p\": 0.5,\n",
    "        },\n",
    "        \"specaug_time\": {\n",
    "            \"mask_max_length\": 20,\n",
    "            \"mask_max_masks\": 3,\n",
    "            \"p\": 0.5,\n",
    "        },\n",
    "        \"mixup\":\n",
    "        {\n",
    "            \"p_audio\": 0.75,\n",
    "            \"p_spec\": 0.25,\n",
    "            \"additive\": True,\n",
    "            \"alpha\": 4,\n",
    "            \"num_classes\": 182,\n",
    "        }\n",
    "    }\n",
    "\n",
    "    # k-fold\n",
    "    k = 4\n",
    "    folds_file = f\"../input/folds_{k}.csv\"\n",
    "    selected_folds = [0, 1, 2, 3]\n",
    "\n",
    "    # Model\n",
    "    name = \"tf_efficientnetv2_s\"  # tf_efficientnetv2_s maxvit_tiny_tf_384 eca_nfnet_l0\n",
    "    pretrained_weights = None\n",
    "\n",
    "    num_classes = 182\n",
    "    drop_rate = 0.2\n",
    "    drop_path_rate = 0.2\n",
    "    n_channels = 1\n",
    "    head = \"gem\"\n",
    "    reduce_stride = \"256\" in name\n",
    "\n",
    "    # Training\n",
    "    loss_config = {\n",
    "        \"name\": \"bce\",\n",
    "        \"weighted\": True,\n",
    "        \"smoothing\": 0.,\n",
    "        \"top_k\": 0,\n",
    "        \"activation\": \"sigmoid\",  # \"softmax\"\n",
    "    }\n",
    "    secondary_labels_weight = 1. if loss_config[\"name\"] == \"bce\" else 0.5  # 0.5 for ce / 1. for bce\n",
    "\n",
    "    data_config = {\n",
    "        \"batch_size\": 64,\n",
    "        \"val_bs\": 256,\n",
    "        \"num_classes\": num_classes,\n",
    "        \"num_workers\": 8,\n",
    "    }\n",
    "\n",
    "    optimizer_config = {\n",
    "        \"name\": \"Ranger\",\n",
    "        \"lr\": 5e-3,\n",
    "        \"warmup_prop\": 0.0,\n",
    "        \"betas\": (0.9, 0.999),\n",
    "        \"max_grad_norm\": 0.1,\n",
    "        \"weight_decay\": 0.,\n",
    "    }\n",
    "\n",
    "    epochs = 20\n",
    "\n",
    "    use_fp16 = True\n",
    "    verbose = 1\n",
    "    verbose_eval = 20\n",
    "\n",
    "    fullfit = True\n",
    "    n_fullfit = 1"
   ]
  },
  {
   "cell_type": "code",
   "execution_count": null,
   "metadata": {},
   "outputs": [],
   "source": [
    "DEBUG = True"
   ]
  },
  {
   "cell_type": "code",
   "execution_count": null,
   "metadata": {},
   "outputs": [],
   "source": [
    "log_folder = None\n",
    "config = Config\n",
    "\n",
    "if not DEBUG:\n",
    "    log_folder = prepare_log_folder(LOG_PATH)\n",
    "    print(f'\\n -> Logging results to {log_folder}\\n')\n",
    "\n",
    "    create_logger(directory=log_folder, name=\"logs.txt\")\n",
    "    save_config(config, log_folder + \"config.json\")\n",
    "\n",
    "init_distributed(config)"
   ]
  },
  {
   "cell_type": "code",
   "execution_count": null,
   "metadata": {},
   "outputs": [],
   "source": [
    "df = prepare_data(DATA_PATH)\n",
    "# df_xc = prepare_xenocanto_data(DATA_PATH)\n",
    "# df = pd.concat([df, df_xc], ignore_index=True)\n",
    "\n",
    "# if DEBUG:\n",
    "#     df = df.sample(100).reset_index(drop=True)"
   ]
  },
  {
   "cell_type": "code",
   "execution_count": null,
   "metadata": {},
   "outputs": [],
   "source": [
    "k_fold(config, df, log_folder=log_folder)"
   ]
  },
  {
   "cell_type": "markdown",
   "metadata": {},
   "source": [
    "Done !"
   ]
  }
 ],
 "metadata": {
  "kernelspec": {
   "display_name": "Python 3 (ipykernel)",
   "language": "python",
   "name": "python3"
  },
  "language_info": {
   "codemirror_mode": {
    "name": "ipython",
    "version": 3
   },
   "file_extension": ".py",
   "mimetype": "text/x-python",
   "name": "python",
   "nbconvert_exporter": "python",
   "pygments_lexer": "ipython3",
   "version": "3.10.12"
  }
 },
 "nbformat": 4,
 "nbformat_minor": 4
}
