{
 "cells": [
  {
   "cell_type": "markdown",
   "metadata": {},
   "source": [
    "**About** : This notebook is used to prepare the data."
   ]
  },
  {
   "cell_type": "code",
   "execution_count": null,
   "metadata": {},
   "outputs": [],
   "source": [
    "%load_ext autoreload\n",
    "%autoreload 2"
   ]
  },
  {
   "cell_type": "code",
   "execution_count": null,
   "metadata": {},
   "outputs": [],
   "source": [
    "cd ../src/"
   ]
  },
  {
   "cell_type": "markdown",
   "metadata": {},
   "source": [
    "### Imports"
   ]
  },
  {
   "cell_type": "code",
   "execution_count": null,
   "metadata": {},
   "outputs": [],
   "source": [
    "import os\n",
    "import sys\n",
    "import glob\n",
    "import json\n",
    "import torch\n",
    "import librosa\n",
    "import warnings\n",
    "import numpy as np\n",
    "import pandas as pd\n",
    "import seaborn as sns\n",
    "import matplotlib.pyplot as plt\n",
    "\n",
    "from tqdm import tqdm\n",
    "from copy import deepcopy\n",
    "from joblib import delayed\n",
    "from sklearn.metrics import *\n",
    "\n",
    "warnings.simplefilter(action=\"ignore\", category=UserWarning)\n",
    "pd.set_option('display.width', 500)\n",
    "pd.set_option('display.max_columns', 200)\n"
   ]
  },
  {
   "cell_type": "code",
   "execution_count": null,
   "metadata": {},
   "outputs": [],
   "source": [
    "from params import *\n",
    "from util.plots import *\n",
    "\n",
    "from data.preparation import *\n",
    "from data.dataset import WaveDataset, PLDataset\n",
    "from data.transforms import get_transfos\n",
    "\n",
    "from util.logger import create_logger, save_config, prepare_log_folder\n",
    "from util.torch import init_distributed\n",
    "\n",
    "from model_zoo.models import define_model\n",
    "from model_zoo.melspec import FeatureExtractor, CustomTimeMasking, CustomFreqMasking\n",
    "\n",
    "from training.losses import BirdLoss\n",
    "from training.main import k_fold"
   ]
  },
  {
   "cell_type": "markdown",
   "metadata": {},
   "source": [
    "### Data"
   ]
  },
  {
   "cell_type": "code",
   "execution_count": null,
   "metadata": {},
   "outputs": [],
   "source": [
    "df = prepare_data_2()\n",
    "df_xc = prepare_xenocanto_data()\n",
    "# df = prepare_nocall_data()\n",
    "\n",
    "df.sample(5)"
   ]
  },
  {
   "cell_type": "code",
   "execution_count": null,
   "metadata": {},
   "outputs": [],
   "source": [
    "# df_ = pd.concat([\n",
    "#     df[~df[\"primary_label\"].apply(lambda x: isinstance(x, list))],\n",
    "#     df[df[\"primary_label\"].apply(lambda x: isinstance(x, list))].explode('primary_label')\n",
    "# ], ignore_index=True)\n",
    "\n",
    "# cts = df_[\"primary_label\"].value_counts()\n",
    "# cts = np.array([cts.to_dict()[c] for c in CLASSES])\n",
    "\n",
    "# ws = (1 / (cts / 500)) ** 0.4"
   ]
  },
  {
   "cell_type": "code",
   "execution_count": null,
   "metadata": {},
   "outputs": [],
   "source": [
    "folders = [\n",
    "    \"../logs/2024-05-14/17/\",\n",
    "    \"../logs/2024-05-14/16/\",\n",
    "    \"../logs/2024-05-14/15/\",\n",
    "    \"../logs/2024-05-14/14/\",\n",
    "    \"../logs/2024-05-14/12/\",\n",
    "    \"../logs/2024-05-14/8/\",\n",
    "    \"../output/cpmp_preds_72/pl_sub.csv\",\n",
    "]\n",
    "\n",
    "# for f in tqdm(folders):\n",
    "#     for fold in [0, 1, 2, 3]:\n",
    "#         s = pd.read_csv(f + f\"pl_sub_{fold}.csv\")\n",
    "#         scores = np.load(f + f\"pl_preds_{fold}.npy\")\n",
    "#         # np.save(f + f\"pl_preds_{fold}.npy\", scores)\n",
    "#         s[[\"row_id\"]].to_csv(f + f\"pl_preds_{fold}.csv\", index=False)"
   ]
  },
  {
   "cell_type": "code",
   "execution_count": null,
   "metadata": {},
   "outputs": [],
   "source": [
    "# pls = []\n",
    "\n",
    "# fold = 0 # \"fullfit\"\n",
    "# for f in folders:\n",
    "#     if f.endswith('.csv'):\n",
    "#         pls.append(f[:-4])\n",
    "#     elif \"fullfit\" not in str(fold):\n",
    "#         pls.append(f + f\"pl_preds_{fold}\")\n",
    "#     else:\n",
    "#         pls += [f[:-4] for f in glob.glob(f + \"pl_preds_*.csv\")]"
   ]
  },
  {
   "cell_type": "code",
   "execution_count": null,
   "metadata": {},
   "outputs": [],
   "source": [
    "# dataset = PLDataset(pls, normalize=\"std\")\n",
    "# x, y, y_aux, w = dataset[0]\n",
    "\n",
    "# pl_loader = torch.utils.data.DataLoader(\n",
    "#     dataset,\n",
    "#     batch_size=256,\n",
    "#     shuffle=True,\n",
    "#     drop_last=True,\n",
    "#     num_workers=8,\n",
    "#     pin_memory=False,\n",
    "# )\n",
    "# pl_iterator = iter(pl_loader)"
   ]
  },
  {
   "cell_type": "code",
   "execution_count": null,
   "metadata": {},
   "outputs": [],
   "source": [
    "# for i in tqdm(range(len(pl_loader))):\n",
    "#     x, y, y_aux, w = next(pl_iterator)"
   ]
  },
  {
   "cell_type": "code",
   "execution_count": null,
   "metadata": {},
   "outputs": [],
   "source": [
    "transforms = get_transfos(augment=True, strength=0)"
   ]
  },
  {
   "cell_type": "code",
   "execution_count": null,
   "metadata": {},
   "outputs": [],
   "source": [
    "dataset = WaveDataset(\n",
    "    df,\n",
    "    transforms,\n",
    "    max_len=32000 * 5,\n",
    "    train=True,\n",
    "    self_mixup=True,\n",
    "    secondary_labels_weight=1,\n",
    "    normalize=\"std\"\n",
    ")"
   ]
  },
  {
   "cell_type": "code",
   "execution_count": null,
   "metadata": {},
   "outputs": [],
   "source": [
    "# for i in tqdm(range(len(dataset))):\n",
    "#     # try:\n",
    "#     x = dataset[i]\n",
    "#     # except:\n",
    "#     #     print(i)\n",
    "#     #     break"
   ]
  },
  {
   "cell_type": "code",
   "execution_count": null,
   "metadata": {},
   "outputs": [],
   "source": [
    "wave, y, y_aux, w = dataset[np.random.choice(len(dataset))]\n",
    "wave_2, y_2, y_aux_2, w_2 = dataset[np.random.choice(len(dataset))]\n",
    "# w = wave\n",
    "y.sum(), y_aux.sum()"
   ]
  },
  {
   "cell_type": "code",
   "execution_count": null,
   "metadata": {},
   "outputs": [],
   "source": [
    "# display_audio(wave.numpy(), title=\", \".join(([CLASSES[int(c)] for c in np.argwhere(y.numpy())[0]])))"
   ]
  },
  {
   "cell_type": "code",
   "execution_count": null,
   "metadata": {},
   "outputs": [],
   "source": [
    "# display_audio(w.numpy(), title=\", \".join(([CLASSES[int(c)] for c in np.argwhere(y.numpy())[0]])))"
   ]
  },
  {
   "cell_type": "markdown",
   "metadata": {},
   "source": [
    "### Spectrograms"
   ]
  },
  {
   "cell_type": "code",
   "execution_count": null,
   "metadata": {},
   "outputs": [],
   "source": [
    "params = {\n",
    "    \"sample_rate\": 32000,\n",
    "    \"n_mels\": 224,  # 128, 224\n",
    "    \"f_min\": 90,  # 50\n",
    "    \"f_max\": 14000,  # 15000\n",
    "    \"n_fft\": 1536,  # 1536\n",
    "    \"hop_length\": 717,  # 717\n",
    "    \"win_length\": 1024,\n",
    "    \"mel_scale\": \"htk\",\n",
    "    \"power\": 2.0,\n",
    "}\n",
    "\n",
    "aug_config = {\n",
    "    \"specaug_freq\": {\n",
    "        \"mask_max_length\": 10,\n",
    "        \"mask_max_masks\": 3,\n",
    "        \"p\": 0.,\n",
    "    },\n",
    "    \"specaug_time\": {\n",
    "        \"mask_max_length\": 20,\n",
    "        \"mask_max_masks\": 3,\n",
    "        \"p\": 0.,\n",
    "    },\n",
    "    \"mixup\":\n",
    "    {\n",
    "        \"p_audio\": 1,\n",
    "        \"p_spec\": 0,\n",
    "        \"additive\": True,\n",
    "        \"alpha\": 4,\n",
    "        \"num_classes\": 182,\n",
    "        \"norm\": \"std\",\n",
    "    }\n",
    "}"
   ]
  },
  {
   "cell_type": "code",
   "execution_count": null,
   "metadata": {},
   "outputs": [],
   "source": [
    "ft_extractor = FeatureExtractor(params, aug_config=aug_config, norm=\"simple\")\n",
    "ft_extractor = ft_extractor.train()"
   ]
  },
  {
   "cell_type": "code",
   "execution_count": null,
   "metadata": {},
   "outputs": [],
   "source": [
    "x = torch.stack([wave, wave_2])\n",
    "if len(y.size()) < 2:\n",
    "    y = torch.stack([y, y_2])"
   ]
  },
  {
   "cell_type": "code",
   "execution_count": null,
   "metadata": {},
   "outputs": [],
   "source": [
    "with torch.cuda.amp.autocast(enabled=True):\n",
    "    melspec, _, _, _ = ft_extractor(x)"
   ]
  },
  {
   "cell_type": "code",
   "execution_count": null,
   "metadata": {},
   "outputs": [],
   "source": [
    "melspec.size()"
   ]
  },
  {
   "cell_type": "code",
   "execution_count": null,
   "metadata": {},
   "outputs": [],
   "source": [
    "plot_spectrogram(melspec[0].numpy(), params)"
   ]
  },
  {
   "cell_type": "code",
   "execution_count": null,
   "metadata": {},
   "outputs": [],
   "source": [
    "# plot_spectrogram(melspec[1].numpy(), params)"
   ]
  },
  {
   "cell_type": "markdown",
   "metadata": {},
   "source": [
    "### Model"
   ]
  },
  {
   "cell_type": "code",
   "execution_count": null,
   "metadata": {},
   "outputs": [],
   "source": [
    "# \"mixnet_s\" \"mobilenetv2_100\" \"mnasnet_100\" \"tf_efficientnet_b0\" \"tinynet_b\""
   ]
  },
  {
   "cell_type": "code",
   "execution_count": null,
   "metadata": {},
   "outputs": [],
   "source": [
    "model = define_model(\n",
    "    \"efficientvit_b0\", \n",
    "    params,\n",
    "    head=\"gem\",\n",
    "    n_channels=3,\n",
    "    num_classes=NUM_CLASSES,\n",
    ")"
   ]
  },
  {
   "cell_type": "code",
   "execution_count": null,
   "metadata": {},
   "outputs": [],
   "source": [
    "from util.torch import count_parameters\n",
    "count_parameters(model)"
   ]
  },
  {
   "cell_type": "code",
   "execution_count": null,
   "metadata": {},
   "outputs": [],
   "source": [
    "pred, _, _, w = model(x, y, y_aux, w)"
   ]
  },
  {
   "cell_type": "code",
   "execution_count": null,
   "metadata": {},
   "outputs": [],
   "source": [
    "y.size(), pred.size()"
   ]
  },
  {
   "cell_type": "code",
   "execution_count": null,
   "metadata": {},
   "outputs": [],
   "source": [
    "loss = BirdLoss({\"name\": \"bce\", \"top_k\": 0, \"ousm_k\": 0})\n",
    "loss(pred, y)"
   ]
  },
  {
   "cell_type": "markdown",
   "metadata": {},
   "source": [
    "### Train"
   ]
  },
  {
   "cell_type": "code",
   "execution_count": null,
   "metadata": {},
   "outputs": [],
   "source": [
    "class Config:\n",
    "    \"\"\"\n",
    "    Parameters used for training\n",
    "    \"\"\"\n",
    "    # General\n",
    "    seed = 42\n",
    "    verbose = 1\n",
    "    device = \"cuda\"\n",
    "    save_weights = True\n",
    "\n",
    "    # Data\n",
    "    use_nocall = False\n",
    "    upsample_low_freq = False\n",
    "\n",
    "    train_duration = 5  # 15, 5\n",
    "    duration = 5\n",
    "    random_crop = False\n",
    "\n",
    "    aug_strength = 1\n",
    "    self_mixup = True\n",
    "    normalize = True  # False ??\n",
    "    exportable = False\n",
    "\n",
    "    melspec_config = {\n",
    "        \"sample_rate\": 32000,\n",
    "        \"n_mels\": 128,  # 128, 224\n",
    "        \"f_min\": 50,\n",
    "        \"f_max\": 15000,\n",
    "        \"n_fft\": 2048,\n",
    "        \"hop_length\": 512,  # 716, 512, 417\n",
    "        \"normalized\": True,\n",
    "    }\n",
    "\n",
    "    aug_config = {\n",
    "        \"specaug_freq\": {\n",
    "            \"mask_max_length\": 10,\n",
    "            \"mask_max_masks\": 3,\n",
    "            \"p\": 0.5,\n",
    "        },\n",
    "        \"specaug_time\": {\n",
    "            \"mask_max_length\": 20,\n",
    "            \"mask_max_masks\": 3,\n",
    "            \"p\": 0.5,\n",
    "        },\n",
    "        \"mixup\":\n",
    "        {\n",
    "            \"p_audio\": 0.5,\n",
    "            \"p_spec\": 0.2,\n",
    "            \"additive\": True,\n",
    "            \"alpha\": 4,\n",
    "            \"num_classes\": 182,\n",
    "        }\n",
    "    }\n",
    "\n",
    "    # k-fold\n",
    "    k = 4\n",
    "    folds_file = f\"../input/folds_{k}.csv\"\n",
    "    selected_folds = [0, 1, 2, 3]\n",
    "\n",
    "    # Model\n",
    "    name = \"tf_efficientnetv2_s\"  # tf_efficientnetv2_s maxvit_tiny_tf_384 eca_nfnet_l0\n",
    "    pretrained_weights = None\n",
    "\n",
    "    num_classes = 182\n",
    "    drop_rate = 0.2\n",
    "    drop_path_rate = 0.2\n",
    "    n_channels = 1\n",
    "    head = \"gem\"\n",
    "    reduce_stride = \"256\" in name\n",
    "\n",
    "    # Training\n",
    "    loss_config = {\n",
    "        \"name\": \"focal_bce\",\n",
    "        \"weighted\": False,\n",
    "        \"smoothing\": 0.,\n",
    "        \"top_k\": 0,\n",
    "        \"ousm_k\": 0,\n",
    "        \"activation\": \"sigmoid\",  # \"softmax\"\n",
    "    }\n",
    "    secondary_labels_weight = 0.5 if loss_config[\"name\"] == \"ce\" else 1.\n",
    "\n",
    "    data_config = {\n",
    "        \"batch_size\": 8,\n",
    "        \"val_bs\": 256,\n",
    "        \"num_classes\": num_classes,\n",
    "        \"num_workers\": 8,\n",
    "    }\n",
    "\n",
    "    optimizer_config = {\n",
    "        \"name\": \"Ranger\",\n",
    "        \"lr\": 5e-3,\n",
    "        \"warmup_prop\": 0.0,\n",
    "        \"betas\": (0.9, 0.999),\n",
    "        \"max_grad_norm\": 0.1,\n",
    "        \"weight_decay\": 0.,\n",
    "    }\n",
    "\n",
    "    epochs = 1\n",
    "\n",
    "    use_fp16 = True\n",
    "    verbose = 1\n",
    "    verbose_eval = 20\n",
    "\n",
    "    fullfit = True\n",
    "    n_fullfit = 1"
   ]
  },
  {
   "cell_type": "code",
   "execution_count": null,
   "metadata": {},
   "outputs": [],
   "source": [
    "DEBUG = True"
   ]
  },
  {
   "cell_type": "code",
   "execution_count": null,
   "metadata": {},
   "outputs": [],
   "source": [
    "log_folder = None\n",
    "config = Config\n",
    "\n",
    "if not DEBUG:\n",
    "    log_folder = prepare_log_folder(LOG_PATH)\n",
    "    print(f'\\n -> Logging results to {log_folder}\\n')\n",
    "\n",
    "    create_logger(directory=log_folder, name=\"logs.txt\")\n",
    "    save_config(config, log_folder + \"config.json\")\n",
    "\n",
    "init_distributed(config)"
   ]
  },
  {
   "cell_type": "code",
   "execution_count": null,
   "metadata": {},
   "outputs": [],
   "source": [
    "df = prepare_data(DATA_PATH)\n",
    "# df_xc = prepare_xenocanto_data(DATA_PATH)\n",
    "# df = pd.concat([df, df_xc], ignore_index=True)\n",
    "\n",
    "# if DEBUG:\n",
    "#     df = df.sample(100).reset_index(drop=True)"
   ]
  },
  {
   "cell_type": "code",
   "execution_count": null,
   "metadata": {},
   "outputs": [],
   "source": [
    "k_fold(config, df, log_folder=log_folder)"
   ]
  },
  {
   "cell_type": "markdown",
   "metadata": {},
   "source": [
    "Done !"
   ]
  }
 ],
 "metadata": {
  "kernelspec": {
   "display_name": "Python 3 (ipykernel)",
   "language": "python",
   "name": "python3"
  },
  "language_info": {
   "codemirror_mode": {
    "name": "ipython",
    "version": 3
   },
   "file_extension": ".py",
   "mimetype": "text/x-python",
   "name": "python",
   "nbconvert_exporter": "python",
   "pygments_lexer": "ipython3",
   "version": "3.10.12"
  }
 },
 "nbformat": 4,
 "nbformat_minor": 4
}
