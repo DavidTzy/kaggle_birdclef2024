{
 "cells": [
  {
   "cell_type": "markdown",
   "metadata": {},
   "source": [
    "**About** : This notebook is used to prepare the data."
   ]
  },
  {
   "cell_type": "code",
   "execution_count": 1,
   "metadata": {},
   "outputs": [],
   "source": [
    "%load_ext autoreload\n",
    "%autoreload 2"
   ]
  },
  {
   "cell_type": "code",
   "execution_count": 2,
   "metadata": {},
   "outputs": [
    {
     "name": "stdout",
     "output_type": "stream",
     "text": [
      "/home/tviel/work/kaggle_birdclef_2024/src\n"
     ]
    },
    {
     "name": "stderr",
     "output_type": "stream",
     "text": [
      "/home/tviel/.local/lib/python3.10/site-packages/IPython/core/magics/osm.py:417: UserWarning: using dhist requires you to install the `pickleshare` library.\n",
      "  self.shell.db['dhist'] = compress_dhist(dhist)[-100:]\n"
     ]
    }
   ],
   "source": [
    "cd ../src/"
   ]
  },
  {
   "cell_type": "markdown",
   "metadata": {},
   "source": [
    "### Imports"
   ]
  },
  {
   "cell_type": "code",
   "execution_count": 3,
   "metadata": {},
   "outputs": [],
   "source": [
    "import os\n",
    "import sys\n",
    "import glob\n",
    "import json\n",
    "import torch\n",
    "import librosa\n",
    "import warnings\n",
    "import numpy as np\n",
    "import pandas as pd\n",
    "import seaborn as sns\n",
    "import matplotlib.pyplot as plt\n",
    "\n",
    "from tqdm import tqdm\n",
    "from copy import deepcopy\n",
    "from joblib import delayed\n",
    "from sklearn.metrics import *\n",
    "\n",
    "warnings.simplefilter(action=\"ignore\", category=UserWarning)\n",
    "pd.set_option('display.width', 500)\n",
    "pd.set_option('display.max_columns', 200)\n"
   ]
  },
  {
   "cell_type": "code",
   "execution_count": 4,
   "metadata": {},
   "outputs": [],
   "source": [
    "from params import *\n",
    "from util.plots import *\n",
    "\n",
    "from data.preparation import *\n",
    "from data.dataset import WaveDataset\n",
    "from data.transforms import get_transfos\n",
    "\n",
    "from util.logger import create_logger, save_config, prepare_log_folder\n",
    "from util.torch import init_distributed\n",
    "\n",
    "from model_zoo.models import define_model\n",
    "from model_zoo.melspec import FeatureExtractor, CustomTimeMasking, CustomFreqMasking\n",
    "\n",
    "from training.losses import BirdLoss\n",
    "from training.main import k_fold"
   ]
  },
  {
   "cell_type": "markdown",
   "metadata": {},
   "source": [
    "### Data"
   ]
  },
  {
   "cell_type": "code",
   "execution_count": 5,
   "metadata": {},
   "outputs": [
    {
     "data": {
      "text/html": [
       "<div>\n",
       "<style scoped>\n",
       "    .dataframe tbody tr th:only-of-type {\n",
       "        vertical-align: middle;\n",
       "    }\n",
       "\n",
       "    .dataframe tbody tr th {\n",
       "        vertical-align: top;\n",
       "    }\n",
       "\n",
       "    .dataframe thead th {\n",
       "        text-align: right;\n",
       "    }\n",
       "</style>\n",
       "<table border=\"1\" class=\"dataframe\">\n",
       "  <thead>\n",
       "    <tr style=\"text-align: right;\">\n",
       "      <th></th>\n",
       "      <th>id</th>\n",
       "      <th>filename</th>\n",
       "      <th>primary_label</th>\n",
       "      <th>secondary_labels</th>\n",
       "      <th>rating</th>\n",
       "      <th>path</th>\n",
       "      <th>path_ft</th>\n",
       "      <th>fold</th>\n",
       "    </tr>\n",
       "  </thead>\n",
       "  <tbody>\n",
       "    <tr>\n",
       "      <th>23650</th>\n",
       "      <td>XC754702</td>\n",
       "      <td>woosan/XC754702.ogg</td>\n",
       "      <td>woosan</td>\n",
       "      <td>[]</td>\n",
       "      <td>5.0</td>\n",
       "      <td>../input/train_audio/woosan/XC754702.ogg</td>\n",
       "      <td>../input/train_features/woosan/XC754702.hdf5</td>\n",
       "      <td>1</td>\n",
       "    </tr>\n",
       "    <tr>\n",
       "      <th>4313</th>\n",
       "      <td>XC607727</td>\n",
       "      <td>brwowl1/XC607727.ogg</td>\n",
       "      <td>brwowl1</td>\n",
       "      <td>[]</td>\n",
       "      <td>2.5</td>\n",
       "      <td>../input/train_audio/brwowl1/XC607727.ogg</td>\n",
       "      <td>../input/train_features/brwowl1/XC607727.hdf5</td>\n",
       "      <td>2</td>\n",
       "    </tr>\n",
       "    <tr>\n",
       "      <th>726</th>\n",
       "      <td>XC182025</td>\n",
       "      <td>barswa/XC182025.ogg</td>\n",
       "      <td>barswa</td>\n",
       "      <td>[]</td>\n",
       "      <td>3.0</td>\n",
       "      <td>../input/train_audio/barswa/XC182025.ogg</td>\n",
       "      <td>../input/train_features/barswa/XC182025.hdf5</td>\n",
       "      <td>0</td>\n",
       "    </tr>\n",
       "    <tr>\n",
       "      <th>12596</th>\n",
       "      <td>XC207728</td>\n",
       "      <td>grnwar1/XC207728.ogg</td>\n",
       "      <td>grnwar1</td>\n",
       "      <td>[]</td>\n",
       "      <td>4.0</td>\n",
       "      <td>../input/train_audio/grnwar1/XC207728.ogg</td>\n",
       "      <td>../input/train_features/grnwar1/XC207728.hdf5</td>\n",
       "      <td>0</td>\n",
       "    </tr>\n",
       "    <tr>\n",
       "      <th>12881</th>\n",
       "      <td>XC575145</td>\n",
       "      <td>grtdro1/XC575145.ogg</td>\n",
       "      <td>grtdro1</td>\n",
       "      <td>[]</td>\n",
       "      <td>4.0</td>\n",
       "      <td>../input/train_audio/grtdro1/XC575145.ogg</td>\n",
       "      <td>../input/train_features/grtdro1/XC575145.hdf5</td>\n",
       "      <td>0</td>\n",
       "    </tr>\n",
       "  </tbody>\n",
       "</table>\n",
       "</div>"
      ],
      "text/plain": [
       "             id              filename primary_label secondary_labels  rating                                       path                                        path_ft  fold\n",
       "23650  XC754702   woosan/XC754702.ogg        woosan               []     5.0   ../input/train_audio/woosan/XC754702.ogg   ../input/train_features/woosan/XC754702.hdf5     1\n",
       "4313   XC607727  brwowl1/XC607727.ogg       brwowl1               []     2.5  ../input/train_audio/brwowl1/XC607727.ogg  ../input/train_features/brwowl1/XC607727.hdf5     2\n",
       "726    XC182025   barswa/XC182025.ogg        barswa               []     3.0   ../input/train_audio/barswa/XC182025.ogg   ../input/train_features/barswa/XC182025.hdf5     0\n",
       "12596  XC207728  grnwar1/XC207728.ogg       grnwar1               []     4.0  ../input/train_audio/grnwar1/XC207728.ogg  ../input/train_features/grnwar1/XC207728.hdf5     0\n",
       "12881  XC575145  grtdro1/XC575145.ogg       grtdro1               []     4.0  ../input/train_audio/grtdro1/XC575145.ogg  ../input/train_features/grtdro1/XC575145.hdf5     0"
      ]
     },
     "execution_count": 5,
     "metadata": {},
     "output_type": "execute_result"
    }
   ],
   "source": [
    "df = prepare_data_2()\n",
    "df_xc = prepare_xenocanto_data()\n",
    "# df = prepare_nocall_data()\n",
    "\n",
    "df.sample(5)"
   ]
  },
  {
   "cell_type": "code",
   "execution_count": 6,
   "metadata": {},
   "outputs": [],
   "source": [
    "transforms = get_transfos(augment=True, strength=1)"
   ]
  },
  {
   "cell_type": "code",
   "execution_count": 7,
   "metadata": {},
   "outputs": [],
   "source": [
    "dataset = WaveDataset(\n",
    "    df,\n",
    "    transforms,\n",
    "    max_len=32000 * 5,\n",
    "    train=True,\n",
    "    self_mixup=True,\n",
    "    secondary_labels_weight=1,\n",
    ")"
   ]
  },
  {
   "cell_type": "code",
   "execution_count": 8,
   "metadata": {},
   "outputs": [],
   "source": [
    "# for i in tqdm(range(len(dataset))):\n",
    "#     # try:\n",
    "#     x = dataset[i]\n",
    "#     # except:\n",
    "#     #     print(i)\n",
    "#     #     break"
   ]
  },
  {
   "cell_type": "code",
   "execution_count": 9,
   "metadata": {},
   "outputs": [
    {
     "data": {
      "text/plain": [
       "(tensor(1.), tensor(0.))"
      ]
     },
     "execution_count": 9,
     "metadata": {},
     "output_type": "execute_result"
    }
   ],
   "source": [
    "wave, y, y_aux, w = dataset[np.random.choice(len(dataset))]\n",
    "# w = wave\n",
    "y.sum(), y_aux.sum()"
   ]
  },
  {
   "cell_type": "code",
   "execution_count": 12,
   "metadata": {},
   "outputs": [],
   "source": [
    "# display_audio(wave.numpy(), title=\", \".join(([CLASSES[int(c)] for c in np.argwhere(y.numpy())[0]])))"
   ]
  },
  {
   "cell_type": "code",
   "execution_count": 13,
   "metadata": {},
   "outputs": [],
   "source": [
    "# display_audio(w.numpy(), title=\", \".join(([CLASSES[int(c)] for c in np.argwhere(y.numpy())[0]])))"
   ]
  },
  {
   "cell_type": "markdown",
   "metadata": {},
   "source": [
    "### Spectrograms"
   ]
  },
  {
   "cell_type": "code",
   "execution_count": 14,
   "metadata": {},
   "outputs": [],
   "source": [
    "params = {\n",
    "    \"sample_rate\": 32000,\n",
    "    \"n_mels\": 128,\n",
    "    \"f_min\": 50,\n",
    "    \"f_max\": 15000,\n",
    "    \"n_fft\": 2048,\n",
    "    \"hop_length\": 512,\n",
    "    \"normalized\": False,\n",
    "}\n",
    "\n",
    "aug_config = {\n",
    "    \"specaug_freq\": {\n",
    "        \"mask_max_length\": 10,\n",
    "        \"mask_max_masks\": 3,\n",
    "        \"p\": 0.,\n",
    "    },\n",
    "    \"specaug_time\": {\n",
    "        \"mask_max_length\": 20,\n",
    "        \"mask_max_masks\": 3,\n",
    "        \"p\": 0.,\n",
    "    },\n",
    "    \"mixup\":\n",
    "    {\n",
    "        \"p_audio\": 0,\n",
    "        \"p_spec\": 0,\n",
    "        \"additive\": True,\n",
    "        \"alpha\": 4,\n",
    "        \"num_classes\": 182,\n",
    "    }\n",
    "}"
   ]
  },
  {
   "cell_type": "code",
   "execution_count": 19,
   "metadata": {},
   "outputs": [],
   "source": [
    "ft_extractor = FeatureExtractor(params, aug_config=aug_config, norm=\"none\")\n",
    "ft_extractor = ft_extractor.train()"
   ]
  },
  {
   "cell_type": "code",
   "execution_count": 20,
   "metadata": {},
   "outputs": [],
   "source": [
    "x = torch.stack([wave, wave])\n",
    "if len(y.size()) < 2:\n",
    "    y = torch.stack([y, y])"
   ]
  },
  {
   "cell_type": "code",
   "execution_count": 21,
   "metadata": {},
   "outputs": [],
   "source": [
    "with torch.cuda.amp.autocast(enabled=True):\n",
    "    melspec, _, _, _ = ft_extractor(x)"
   ]
  },
  {
   "cell_type": "code",
   "execution_count": 22,
   "metadata": {},
   "outputs": [
    {
     "data": {
      "text/plain": [
       "(tensor(-0.9776), tensor(0.0224))"
      ]
     },
     "execution_count": 22,
     "metadata": {},
     "output_type": "execute_result"
    }
   ],
   "source": [
    "melspec.min(), melspec.max()"
   ]
  },
  {
   "cell_type": "code",
   "execution_count": null,
   "metadata": {},
   "outputs": [],
   "source": [
    "melspec.size()"
   ]
  },
  {
   "cell_type": "code",
   "execution_count": null,
   "metadata": {},
   "outputs": [],
   "source": [
    "plot_spectrogram(melspec[0].numpy(), params)"
   ]
  },
  {
   "cell_type": "code",
   "execution_count": null,
   "metadata": {},
   "outputs": [],
   "source": [
    "# plot_spectrogram(melspec[1].numpy(), params)"
   ]
  },
  {
   "cell_type": "markdown",
   "metadata": {},
   "source": [
    "### Model"
   ]
  },
  {
   "cell_type": "code",
   "execution_count": null,
   "metadata": {},
   "outputs": [],
   "source": [
    "model = define_model(\n",
    "    \"efficientvit_b0\", \n",
    "    params,\n",
    "    head=\"gem\",\n",
    "    n_channels=1,\n",
    "    num_classes=NUM_CLASSES,\n",
    ")"
   ]
  },
  {
   "cell_type": "code",
   "execution_count": null,
   "metadata": {},
   "outputs": [],
   "source": [
    "pred, _, _, w = model(x, y, y_aux, w)"
   ]
  },
  {
   "cell_type": "code",
   "execution_count": null,
   "metadata": {},
   "outputs": [],
   "source": [
    "y.size(), pred.size()"
   ]
  },
  {
   "cell_type": "code",
   "execution_count": null,
   "metadata": {},
   "outputs": [],
   "source": [
    "loss = BirdLoss({\"name\": \"bce\", \"top_k\": 0, \"ousm_k\": 0})\n",
    "loss(pred, y)"
   ]
  },
  {
   "cell_type": "markdown",
   "metadata": {},
   "source": [
    "### Train"
   ]
  },
  {
   "cell_type": "code",
   "execution_count": null,
   "metadata": {},
   "outputs": [],
   "source": [
    "class Config:\n",
    "    \"\"\"\n",
    "    Parameters used for training\n",
    "    \"\"\"\n",
    "    # General\n",
    "    seed = 42\n",
    "    verbose = 1\n",
    "    device = \"cuda\"\n",
    "    save_weights = True\n",
    "\n",
    "    # Data\n",
    "    use_nocall = False\n",
    "    upsample_low_freq = False\n",
    "\n",
    "    train_duration = 5  # 15, 5\n",
    "    duration = 5\n",
    "    random_crop = False\n",
    "\n",
    "    aug_strength = 1\n",
    "    self_mixup = True\n",
    "    normalize = True  # False ??\n",
    "    exportable = False\n",
    "\n",
    "    melspec_config = {\n",
    "        \"sample_rate\": 32000,\n",
    "        \"n_mels\": 128,  # 128, 224\n",
    "        \"f_min\": 50,\n",
    "        \"f_max\": 15000,\n",
    "        \"n_fft\": 2048,\n",
    "        \"hop_length\": 512,  # 716, 512, 417\n",
    "        \"normalized\": True,\n",
    "    }\n",
    "\n",
    "    aug_config = {\n",
    "        \"specaug_freq\": {\n",
    "            \"mask_max_length\": 10,\n",
    "            \"mask_max_masks\": 3,\n",
    "            \"p\": 0.5,\n",
    "        },\n",
    "        \"specaug_time\": {\n",
    "            \"mask_max_length\": 20,\n",
    "            \"mask_max_masks\": 3,\n",
    "            \"p\": 0.5,\n",
    "        },\n",
    "        \"mixup\":\n",
    "        {\n",
    "            \"p_audio\": 0.5,\n",
    "            \"p_spec\": 0.2,\n",
    "            \"additive\": True,\n",
    "            \"alpha\": 4,\n",
    "            \"num_classes\": 182,\n",
    "        }\n",
    "    }\n",
    "\n",
    "    # k-fold\n",
    "    k = 4\n",
    "    folds_file = f\"../input/folds_{k}.csv\"\n",
    "    selected_folds = [0, 1, 2, 3]\n",
    "\n",
    "    # Model\n",
    "    name = \"tf_efficientnetv2_s\"  # tf_efficientnetv2_s maxvit_tiny_tf_384 eca_nfnet_l0\n",
    "    pretrained_weights = None\n",
    "\n",
    "    num_classes = 182\n",
    "    drop_rate = 0.2\n",
    "    drop_path_rate = 0.2\n",
    "    n_channels = 1\n",
    "    head = \"gem\"\n",
    "    reduce_stride = \"256\" in name\n",
    "\n",
    "    # Training\n",
    "    loss_config = {\n",
    "        \"name\": \"focal_bce\",\n",
    "        \"weighted\": False,\n",
    "        \"smoothing\": 0.,\n",
    "        \"top_k\": 0,\n",
    "        \"ousm_k\": 0,\n",
    "        \"activation\": \"sigmoid\",  # \"softmax\"\n",
    "    }\n",
    "    secondary_labels_weight = 0.5 if loss_config[\"name\"] == \"ce\" else 1.\n",
    "\n",
    "    data_config = {\n",
    "        \"batch_size\": 8,\n",
    "        \"val_bs\": 256,\n",
    "        \"num_classes\": num_classes,\n",
    "        \"num_workers\": 8,\n",
    "    }\n",
    "\n",
    "    optimizer_config = {\n",
    "        \"name\": \"Ranger\",\n",
    "        \"lr\": 5e-3,\n",
    "        \"warmup_prop\": 0.0,\n",
    "        \"betas\": (0.9, 0.999),\n",
    "        \"max_grad_norm\": 0.1,\n",
    "        \"weight_decay\": 0.,\n",
    "    }\n",
    "\n",
    "    epochs = 1\n",
    "\n",
    "    use_fp16 = True\n",
    "    verbose = 1\n",
    "    verbose_eval = 20\n",
    "\n",
    "    fullfit = True\n",
    "    n_fullfit = 1"
   ]
  },
  {
   "cell_type": "code",
   "execution_count": null,
   "metadata": {},
   "outputs": [],
   "source": [
    "DEBUG = True"
   ]
  },
  {
   "cell_type": "code",
   "execution_count": null,
   "metadata": {},
   "outputs": [],
   "source": [
    "log_folder = None\n",
    "config = Config\n",
    "\n",
    "if not DEBUG:\n",
    "    log_folder = prepare_log_folder(LOG_PATH)\n",
    "    print(f'\\n -> Logging results to {log_folder}\\n')\n",
    "\n",
    "    create_logger(directory=log_folder, name=\"logs.txt\")\n",
    "    save_config(config, log_folder + \"config.json\")\n",
    "\n",
    "init_distributed(config)"
   ]
  },
  {
   "cell_type": "code",
   "execution_count": null,
   "metadata": {},
   "outputs": [],
   "source": [
    "df = prepare_data(DATA_PATH)\n",
    "# df_xc = prepare_xenocanto_data(DATA_PATH)\n",
    "# df = pd.concat([df, df_xc], ignore_index=True)\n",
    "\n",
    "# if DEBUG:\n",
    "#     df = df.sample(100).reset_index(drop=True)"
   ]
  },
  {
   "cell_type": "code",
   "execution_count": null,
   "metadata": {},
   "outputs": [],
   "source": [
    "k_fold(config, df, log_folder=log_folder)"
   ]
  },
  {
   "cell_type": "markdown",
   "metadata": {},
   "source": [
    "Done !"
   ]
  }
 ],
 "metadata": {
  "kernelspec": {
   "display_name": "Python 3 (ipykernel)",
   "language": "python",
   "name": "python3"
  },
  "language_info": {
   "codemirror_mode": {
    "name": "ipython",
    "version": 3
   },
   "file_extension": ".py",
   "mimetype": "text/x-python",
   "name": "python",
   "nbconvert_exporter": "python",
   "pygments_lexer": "ipython3",
   "version": "3.10.12"
  }
 },
 "nbformat": 4,
 "nbformat_minor": 4
}
